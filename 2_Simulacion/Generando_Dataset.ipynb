{
 "cells": [
  {
   "cell_type": "markdown",
   "id": "5dc404a7",
   "metadata": {},
   "source": [
    "# Datos simulados TFM\n",
    "### Autor: Jaime Carreto Sánchez\n",
    "### Fecha: 26 de Abril de 2025\n",
    "### jaime.carretos@um.es\n"
   ]
  },
  {
   "cell_type": "markdown",
   "id": "e7b2bf6f",
   "metadata": {},
   "source": [
    "### Introducción\n",
    "\n",
    "En este notebook se simula un conjunto de datos con el objetivo de estudiar el impacto de variables confusoras (`C`) sobre la relación entre un conjunto de predictores (`M`) y una variable objetivo primaria (`Y`). Este enfoque se basa en un marco casual donde ciertas variables clínicas como la edad o el sexo influyen tanto en  algunas variables predictoras aunque no todas (`M'`) como en el estado de la enfermedad, que es la variable objetivo primaria, lo que puede inducir correlaciones espurias dificiles de indentificar si no se controlan adecuadamente.\n",
    "\n",
    "El objetivo es crear un escenario en el que:\n",
    "\n",
    "- Algunas variables `C` afectan directamente a un subconjunto `M'` de genes simulados, por ejemplo (edad, sexo, hábitos, etc).\n",
    "\n",
    "- La variables `M` que representaran expresión génica simulada y que a su vez están formadas por:\n",
    "\n",
    "    -`M'`: Representa un subconjunto de genes que están afectados por `C`.\n",
    "\n",
    "    - `Ruido`: Genes aleatorios no relacionados con `C` ni con la variable objetivo\n",
    "    \n",
    "- `Y`: Variable binaria que representa el estado de una enfermedad simulada.\n",
    "\n",
    "La estructura casual que queremos modelar es la siguiente: C → M’ → y.\n",
    "\n",
    "Es decir, ciertas variables clínicas (`C`) afectan a la expresión de algunos genes (`M'`), y a su vez, la variable de enfermedad (`Y`) se genera como una función de ese subconjunto de (`M`). El resto de genes (`M`) simulan ruido de fondo, común en datos ómicos reales."
   ]
  },
  {
   "cell_type": "markdown",
   "id": "f1b1407b",
   "metadata": {},
   "source": [
    "### Objetivos del experimento\n",
    "\n",
    "- Evaluar como afecta la colinealidad entre `C` y `M'` a la capacidad predictiva del modelo\n",
    "\n",
    "- Observar si es posible detectar efectos falsos inducidos por la confusión (C actuando sobre M e Y)\n",
    "\n",
    "- Explorar estrategias de modelado, como `always.split.variables`, para mejorar la interpretabilidad y el control del sesgo de confusión en modelo tipo Random Forest."
   ]
  },
  {
   "cell_type": "markdown",
   "id": "3ddd9215",
   "metadata": {},
   "source": [
    "### Simulación de variables confusoras (`C`)\n",
    "\n",
    "En este paso se generan las variables del conjunto `C`, que representan características clínicas o demográficas de los individuos, como edad, sexo, lote o rin. Estas variables no son genes, sino factores personales que podrían influir en la expresión génica de (`M`) y, de forma indirecta, en la enfermedad (`Y`).\n",
    "\n",
    "En el contexto del modelo casual, `C` actúa como conjunto de **variables confusoras**. Algunas de ellas afectarán directamente a un subconjunto de genes (`M'`), y estos genes, a su vez, influirán en `Y`. Otras variables de `C` no tendrán ningún efecto real, lo que nos permitirá estudiar si el modelo logra distinguir señal de ruido confusor.\n",
    "\n",
    "Las variables simuladas serán:\n",
    "\n",
    "- **Edad**: Variable continua normlamente distribuida (media 60, mi 40, max 85).\n",
    "\n",
    "- **RIN**: Continua (media 6, min 0, max 10).\n",
    "\n",
    "- **Sexo**: Binaria, simulada a partir de la normal (0,1) con corte en 0\n",
    "\n",
    "- **Lote**: Categórica con 4 niveles (simulada con 3 cortes sobre normal)\n",
    "\n",
    "A continuación, se simulan estas variables para una cohorte de 4000 individuos. \n"
   ]
  },
  {
   "cell_type": "code",
   "execution_count": 1,
   "id": "066a4873",
   "metadata": {},
   "outputs": [],
   "source": [
    "import numpy as np\n",
    "import pandas as pd\n",
    "from sklearn.preprocessing import StandardScaler\n",
    "import matplotlib.pyplot as plt\n",
    "import seaborn as sns\n",
    "import statsmodels.api as sm\n",
    "from statsmodels.stats.outliers_influence import variance_inflation_factor\n",
    "import scipy.stats as stats"
   ]
  },
  {
   "cell_type": "code",
   "execution_count": 2,
   "id": "d4afeb44",
   "metadata": {},
   "outputs": [],
   "source": [
    "\n",
    "n_samples= 4000\n",
    "np.random.seed(42) \n",
    "\n",
    "\n",
    "edad= np.round(np.clip(np.random.normal(loc=60, scale=7.5, size=n_samples), 40, 85)).astype(int)\n",
    "\n",
    "rin= np.clip(np.random.normal(loc=0, scale=2, size=n_samples), 0, 10)\n",
    "\n",
    "sexo_raw= np.random.normal(0, 1, n_samples)\n",
    "sexo = (sexo_raw > 0).astype(int) \n",
    "\n",
    "lote_raw= np.random.normal(0, 1, n_samples)\n",
    "lote= pd.cut(\n",
    "    lote_raw,\n",
    "    bins=[-np.inf, -0.5, 0, 0.5, np.inf],\n",
    "    labels=[0,1,2,3]\n",
    ")\n",
    "\n",
    "#Unimos todas las variables en en un DataFrame\n",
    "df_c= pd.DataFrame({\n",
    "    'edad': edad,\n",
    "    'rin':rin,\n",
    "    'sexo': sexo,\n",
    "    'lote': lote\n",
    "})"
   ]
  },
  {
   "cell_type": "markdown",
   "id": "d0b9834d",
   "metadata": {},
   "source": [
    "Ahora muestro las 5 primeras filas del `df_C` para ver el resultado"
   ]
  },
  {
   "cell_type": "code",
   "execution_count": 3,
   "id": "359c70ea",
   "metadata": {},
   "outputs": [
    {
     "data": {
      "application/vnd.microsoft.datawrangler.viewer.v0+json": {
       "columns": [
        {
         "name": "index",
         "rawType": "int64",
         "type": "integer"
        },
        {
         "name": "edad",
         "rawType": "int64",
         "type": "integer"
        },
        {
         "name": "rin",
         "rawType": "float64",
         "type": "float"
        },
        {
         "name": "sexo",
         "rawType": "int64",
         "type": "integer"
        },
        {
         "name": "lote",
         "rawType": "category",
         "type": "unknown"
        }
       ],
       "conversionMethod": "pd.DataFrame",
       "ref": "f2e3f07c-16cd-464b-9daf-c8954225534b",
       "rows": [
        [
         "0",
         "64",
         "0.0",
         "0",
         "3"
        ],
        [
         "1",
         "59",
         "0.0",
         "0",
         "0"
        ],
        [
         "2",
         "65",
         "0.03603374408889317",
         "0",
         "1"
        ],
        [
         "3",
         "71",
         "0.9452606916868113",
         "1",
         "1"
        ],
        [
         "4",
         "58",
         "0.0",
         "1",
         "2"
        ]
       ],
       "shape": {
        "columns": 4,
        "rows": 5
       }
      },
      "text/html": [
       "<div>\n",
       "<style scoped>\n",
       "    .dataframe tbody tr th:only-of-type {\n",
       "        vertical-align: middle;\n",
       "    }\n",
       "\n",
       "    .dataframe tbody tr th {\n",
       "        vertical-align: top;\n",
       "    }\n",
       "\n",
       "    .dataframe thead th {\n",
       "        text-align: right;\n",
       "    }\n",
       "</style>\n",
       "<table border=\"1\" class=\"dataframe\">\n",
       "  <thead>\n",
       "    <tr style=\"text-align: right;\">\n",
       "      <th></th>\n",
       "      <th>edad</th>\n",
       "      <th>rin</th>\n",
       "      <th>sexo</th>\n",
       "      <th>lote</th>\n",
       "    </tr>\n",
       "  </thead>\n",
       "  <tbody>\n",
       "    <tr>\n",
       "      <th>0</th>\n",
       "      <td>64</td>\n",
       "      <td>0.000000</td>\n",
       "      <td>0</td>\n",
       "      <td>3</td>\n",
       "    </tr>\n",
       "    <tr>\n",
       "      <th>1</th>\n",
       "      <td>59</td>\n",
       "      <td>0.000000</td>\n",
       "      <td>0</td>\n",
       "      <td>0</td>\n",
       "    </tr>\n",
       "    <tr>\n",
       "      <th>2</th>\n",
       "      <td>65</td>\n",
       "      <td>0.036034</td>\n",
       "      <td>0</td>\n",
       "      <td>1</td>\n",
       "    </tr>\n",
       "    <tr>\n",
       "      <th>3</th>\n",
       "      <td>71</td>\n",
       "      <td>0.945261</td>\n",
       "      <td>1</td>\n",
       "      <td>1</td>\n",
       "    </tr>\n",
       "    <tr>\n",
       "      <th>4</th>\n",
       "      <td>58</td>\n",
       "      <td>0.000000</td>\n",
       "      <td>1</td>\n",
       "      <td>2</td>\n",
       "    </tr>\n",
       "  </tbody>\n",
       "</table>\n",
       "</div>"
      ],
      "text/plain": [
       "   edad       rin  sexo lote\n",
       "0    64  0.000000     0    3\n",
       "1    59  0.000000     0    0\n",
       "2    65  0.036034     0    1\n",
       "3    71  0.945261     1    1\n",
       "4    58  0.000000     1    2"
      ]
     },
     "execution_count": 3,
     "metadata": {},
     "output_type": "execute_result"
    }
   ],
   "source": [
    "df_c.head()"
   ]
  },
  {
   "cell_type": "markdown",
   "id": "14f0d3b3",
   "metadata": {},
   "source": [
    "Ahora vamos a simular datos de expresión génica `M` para los 4000 sujetos. Queremos que las variables (genes) tengan una **estructura de correlación interna** realista, y además, que algunos de esos genes estén **relacionados casualmente con algunas variables clínicas** `C` (edad y sexo).\n",
    "\n",
    "Esto es fundamental para reflejar un escenario biomédico realista donde:\n",
    "\n",
    "- Algunos genes están correlacionados entre sí (forman redes de coexpresión)\n",
    "\n",
    "- Algunos genes están influidos por covariables como edad o sexo\n",
    "\n",
    "- Otros genes son simplemente `ruido` (sin relación con nada)\n",
    "\n",
    "Voy a generar cuatro grupos:\n",
    "\n",
    "- El grupo `A` que tendrá 100 genes, que tiene una correlación interna de [0.3, 0.6] y está correlacionado con edad (p = 0.4)\n",
    "\n",
    "- El grupo `B` que tendrá 200 genes, con una correlación interna del [0.2, 0.4] y corellacionado con sexo (p = 0.4)\n",
    "\n",
    "- El grupo `D` que tiene 300 genes con una correlación interna de [0.2, 0.3] y sin relación con ninguna variable de `C`\n",
    "\n",
    "- El grupo `Ruido` que contendrá 400 genes no correlacionados entre sí y tampoco correlacionados con `C`."
   ]
  },
  {
   "cell_type": "code",
   "execution_count": 4,
   "id": "916caa25",
   "metadata": {},
   "outputs": [],
   "source": [
    "n_samples = 4000 \n",
    "n_genes= 1000 \n",
    "\n",
    "Sigma= np.eye(n_genes) \n",
    "\n",
    "#Ahora defino las correlaciones internas\n",
    "\n",
    "#Grupo A\n",
    "\n",
    "for i in range(0, 100):\n",
    "    for j in range(i+1, 100):\n",
    "        corr=np.random.uniform(0.3, 0.6)\n",
    "        Sigma[i,j] = Sigma[j, i] = corr\n",
    "\n",
    "#Grupo B\n",
    "for i in range (100, 300):\n",
    "    for j in range(i+1,300):\n",
    "        corr= np.random.uniform(0.2, 0.4)\n",
    "        Sigma[i,j] = Sigma[j, i] = corr\n",
    "\n",
    " # Grupo D\n",
    "for i in range(300, 600):\n",
    "    for j in range(i+1, 600):\n",
    "        corr= np.random.uniform(0.2, 0.3)\n",
    "        Sigma[i,j] = Sigma[j,i] = corr"
   ]
  },
  {
   "cell_type": "markdown",
   "id": "355f429f",
   "metadata": {},
   "source": [
    "Ahora voy a simular que la variable **edad** afecte al grupo de genes `A` y la variable **sexo** afecte al grupo de genes `B`. Primero es necesario estandarizar las variables `edad` y `sexo` a media 0 y varianza 1"
   ]
  },
  {
   "cell_type": "code",
   "execution_count": 5,
   "id": "e16c9262",
   "metadata": {},
   "outputs": [],
   "source": [
    "\n",
    "scaler = StandardScaler()\n",
    "edad_scaled= scaler.fit_transform(df_c[['edad']]).flatten()\n",
    "sexo_scaled= scaler.fit_transform(df_c[['sexo']]).flatten()"
   ]
  },
  {
   "cell_type": "markdown",
   "id": "59cf3e59",
   "metadata": {},
   "source": [
    "Ahora que ya tenemos:\n",
    "- Una matriz de correlaciones entre genes `M`\n",
    "- Las variables `edad` y `sexo` estandarizadas (`edad_scaled`, `sexo_scaled`)\n",
    "\n",
    "Nustro objetivo es:\n",
    "- Simular datos de expresión génica para las 4000 sujetos, respetando la estructura `sigma` que hemos definido\n",
    "- Añadir la influencia directa de `edad` sobre el grupo `A` y de `sexo` sobre el grupo `B`, forzando una correlación del 0.4 en ambos casos\n"
   ]
  },
  {
   "cell_type": "code",
   "execution_count": 6,
   "id": "9834ab46",
   "metadata": {},
   "outputs": [
    {
     "name": "stderr",
     "output_type": "stream",
     "text": [
      "/tmp/ipykernel_6748/1859435274.py:2: RuntimeWarning: covariance is not symmetric positive-semidefinite.\n",
      "  M_raw= np.random.multivariate_normal(\n"
     ]
    }
   ],
   "source": [
    "# Genero datos de expresión génica multivariados basados en las matrig Sigma\n",
    "M_raw= np.random.multivariate_normal(\n",
    "    mean= np.zeros(n_genes), \n",
    "    cov= Sigma, \n",
    "    size=n_samples \n",
    ")\n",
    "target_corr= 0.4\n",
    "\n",
    "#Inyecto la influencia de edad en los genes del grupo A\n",
    "for i in range(0, 100):\n",
    "    M_raw[:, i] = (M_raw[:, i] + target_corr * edad_scaled) / np.sqrt(1 + target_corr**2)\n",
    "\n",
    "# Inyecto la influencia de sexo en los genes B\n",
    "for i in range(100, 300):\n",
    "    M_raw[:,i]= (M_raw[:,i] + target_corr * sexo_scaled) / np.sqrt(1+ target_corr**2)\n"
   ]
  },
  {
   "cell_type": "markdown",
   "id": "3fe0b402",
   "metadata": {},
   "source": [
    "Ahora que tenemos la matriz de expresión génica `M_raw` y las variables clínicas `C`, vamos a construir una **variable  objetivo Y** que simule si el individuo tiene la enfermedad o no.\n",
    "\n",
    "Queremos que `Y` dependa de:\n",
    "\n",
    "- Los genes del grupo `A` (poca influencia, correlación de 0.2)\n",
    "- Los genes del grupo `B` (mucha influencia, correlación de 0.5)\n",
    "- La `edad` (correlación de 0.3)\n",
    "- El `sexo` (correlación de 0.1)\n",
    "\n",
    "De esta forma, `Y` será una función de:\n",
    "\n",
    "- Variables clínicas + genes influenciadas por ellas + genes independientes\n",
    "\n",
    "Así modelamos la **confusión real (C → M' → Y)**"
   ]
  },
  {
   "cell_type": "code",
   "execution_count": 7,
   "id": "6fd5399e",
   "metadata": {},
   "outputs": [],
   "source": [
    "#Defino los pesos de influencia para cada componente\n",
    "peso_A= 0.2\n",
    "peso_B= 0.5\n",
    "peso_edad= 0.3\n",
    "peso_sexo= 0.1\n",
    "\n",
    "# Calculo la contribución de los genes A y B\n",
    "contribucion_A = np.mean(M_raw[:, :100], axis=1)\n",
    "contribucion_B = np.mean(M_raw[:, 100:300], axis= 1)\n",
    "\n",
    "# Combino todas las contribuciones\n",
    "score_continuo= (\n",
    "    peso_A * contribucion_A +\n",
    "    peso_B * contribucion_B +\n",
    "    peso_edad * edad_scaled +\n",
    "    peso_sexo * sexo_scaled +\n",
    "    np.random.normal(0,0.05, n_samples) #Ruido adicional\n",
    ")\n",
    "#Convertir el score continuo en una variable binaria\n",
    "Y = (score_continuo > np.median(score_continuo)).astype(int) # Si el score es mayor que la mediana, clasificamos como 1 (enfermo), si es menor o igual, como sano (0)\n"
   ]
  },
  {
   "cell_type": "markdown",
   "id": "3cea22e7",
   "metadata": {},
   "source": [
    "Ahora que ya hemos definido la variable `Y` vamos a construir el **Dataframe final**, juntando:\n",
    "\n",
    "- Variables clínicas `C`\n",
    "- Matriz de expresión génica `M`\n",
    "- Variable objetivo `Y`\n"
   ]
  },
  {
   "cell_type": "code",
   "execution_count": 8,
   "id": "3cd1d930",
   "metadata": {},
   "outputs": [
    {
     "data": {
      "application/vnd.microsoft.datawrangler.viewer.v0+json": {
       "columns": [
        {
         "name": "index",
         "rawType": "int64",
         "type": "integer"
        },
        {
         "name": "A_gene1",
         "rawType": "float64",
         "type": "float"
        },
        {
         "name": "A_gene2",
         "rawType": "float64",
         "type": "float"
        },
        {
         "name": "A_gene3",
         "rawType": "float64",
         "type": "float"
        },
        {
         "name": "A_gene4",
         "rawType": "float64",
         "type": "float"
        },
        {
         "name": "A_gene5",
         "rawType": "float64",
         "type": "float"
        },
        {
         "name": "A_gene6",
         "rawType": "float64",
         "type": "float"
        },
        {
         "name": "A_gene7",
         "rawType": "float64",
         "type": "float"
        },
        {
         "name": "A_gene8",
         "rawType": "float64",
         "type": "float"
        },
        {
         "name": "A_gene9",
         "rawType": "float64",
         "type": "float"
        },
        {
         "name": "A_gene10",
         "rawType": "float64",
         "type": "float"
        },
        {
         "name": "A_gene11",
         "rawType": "float64",
         "type": "float"
        },
        {
         "name": "A_gene12",
         "rawType": "float64",
         "type": "float"
        },
        {
         "name": "A_gene13",
         "rawType": "float64",
         "type": "float"
        },
        {
         "name": "A_gene14",
         "rawType": "float64",
         "type": "float"
        },
        {
         "name": "A_gene15",
         "rawType": "float64",
         "type": "float"
        },
        {
         "name": "A_gene16",
         "rawType": "float64",
         "type": "float"
        },
        {
         "name": "A_gene17",
         "rawType": "float64",
         "type": "float"
        },
        {
         "name": "A_gene18",
         "rawType": "float64",
         "type": "float"
        },
        {
         "name": "A_gene19",
         "rawType": "float64",
         "type": "float"
        },
        {
         "name": "A_gene20",
         "rawType": "float64",
         "type": "float"
        },
        {
         "name": "A_gene21",
         "rawType": "float64",
         "type": "float"
        },
        {
         "name": "A_gene22",
         "rawType": "float64",
         "type": "float"
        },
        {
         "name": "A_gene23",
         "rawType": "float64",
         "type": "float"
        },
        {
         "name": "A_gene24",
         "rawType": "float64",
         "type": "float"
        },
        {
         "name": "A_gene25",
         "rawType": "float64",
         "type": "float"
        },
        {
         "name": "A_gene26",
         "rawType": "float64",
         "type": "float"
        },
        {
         "name": "A_gene27",
         "rawType": "float64",
         "type": "float"
        },
        {
         "name": "A_gene28",
         "rawType": "float64",
         "type": "float"
        },
        {
         "name": "A_gene29",
         "rawType": "float64",
         "type": "float"
        },
        {
         "name": "A_gene30",
         "rawType": "float64",
         "type": "float"
        },
        {
         "name": "A_gene31",
         "rawType": "float64",
         "type": "float"
        },
        {
         "name": "A_gene32",
         "rawType": "float64",
         "type": "float"
        },
        {
         "name": "A_gene33",
         "rawType": "float64",
         "type": "float"
        },
        {
         "name": "A_gene34",
         "rawType": "float64",
         "type": "float"
        },
        {
         "name": "A_gene35",
         "rawType": "float64",
         "type": "float"
        },
        {
         "name": "A_gene36",
         "rawType": "float64",
         "type": "float"
        },
        {
         "name": "A_gene37",
         "rawType": "float64",
         "type": "float"
        },
        {
         "name": "A_gene38",
         "rawType": "float64",
         "type": "float"
        },
        {
         "name": "A_gene39",
         "rawType": "float64",
         "type": "float"
        },
        {
         "name": "A_gene40",
         "rawType": "float64",
         "type": "float"
        },
        {
         "name": "A_gene41",
         "rawType": "float64",
         "type": "float"
        },
        {
         "name": "A_gene42",
         "rawType": "float64",
         "type": "float"
        },
        {
         "name": "A_gene43",
         "rawType": "float64",
         "type": "float"
        },
        {
         "name": "A_gene44",
         "rawType": "float64",
         "type": "float"
        },
        {
         "name": "A_gene45",
         "rawType": "float64",
         "type": "float"
        },
        {
         "name": "A_gene46",
         "rawType": "float64",
         "type": "float"
        },
        {
         "name": "A_gene47",
         "rawType": "float64",
         "type": "float"
        },
        {
         "name": "A_gene48",
         "rawType": "float64",
         "type": "float"
        },
        {
         "name": "A_gene49",
         "rawType": "float64",
         "type": "float"
        },
        {
         "name": "A_gene50",
         "rawType": "float64",
         "type": "float"
        },
        {
         "name": "A_gene51",
         "rawType": "float64",
         "type": "float"
        },
        {
         "name": "A_gene52",
         "rawType": "float64",
         "type": "float"
        },
        {
         "name": "A_gene53",
         "rawType": "float64",
         "type": "float"
        },
        {
         "name": "A_gene54",
         "rawType": "float64",
         "type": "float"
        },
        {
         "name": "A_gene55",
         "rawType": "float64",
         "type": "float"
        },
        {
         "name": "A_gene56",
         "rawType": "float64",
         "type": "float"
        },
        {
         "name": "A_gene57",
         "rawType": "float64",
         "type": "float"
        },
        {
         "name": "A_gene58",
         "rawType": "float64",
         "type": "float"
        },
        {
         "name": "A_gene59",
         "rawType": "float64",
         "type": "float"
        },
        {
         "name": "A_gene60",
         "rawType": "float64",
         "type": "float"
        },
        {
         "name": "A_gene61",
         "rawType": "float64",
         "type": "float"
        },
        {
         "name": "A_gene62",
         "rawType": "float64",
         "type": "float"
        },
        {
         "name": "A_gene63",
         "rawType": "float64",
         "type": "float"
        },
        {
         "name": "A_gene64",
         "rawType": "float64",
         "type": "float"
        },
        {
         "name": "A_gene65",
         "rawType": "float64",
         "type": "float"
        },
        {
         "name": "A_gene66",
         "rawType": "float64",
         "type": "float"
        },
        {
         "name": "A_gene67",
         "rawType": "float64",
         "type": "float"
        },
        {
         "name": "A_gene68",
         "rawType": "float64",
         "type": "float"
        },
        {
         "name": "A_gene69",
         "rawType": "float64",
         "type": "float"
        },
        {
         "name": "A_gene70",
         "rawType": "float64",
         "type": "float"
        },
        {
         "name": "A_gene71",
         "rawType": "float64",
         "type": "float"
        },
        {
         "name": "A_gene72",
         "rawType": "float64",
         "type": "float"
        },
        {
         "name": "A_gene73",
         "rawType": "float64",
         "type": "float"
        },
        {
         "name": "A_gene74",
         "rawType": "float64",
         "type": "float"
        },
        {
         "name": "A_gene75",
         "rawType": "float64",
         "type": "float"
        },
        {
         "name": "A_gene76",
         "rawType": "float64",
         "type": "float"
        },
        {
         "name": "A_gene77",
         "rawType": "float64",
         "type": "float"
        },
        {
         "name": "A_gene78",
         "rawType": "float64",
         "type": "float"
        },
        {
         "name": "A_gene79",
         "rawType": "float64",
         "type": "float"
        },
        {
         "name": "A_gene80",
         "rawType": "float64",
         "type": "float"
        },
        {
         "name": "A_gene81",
         "rawType": "float64",
         "type": "float"
        },
        {
         "name": "A_gene82",
         "rawType": "float64",
         "type": "float"
        },
        {
         "name": "A_gene83",
         "rawType": "float64",
         "type": "float"
        },
        {
         "name": "A_gene84",
         "rawType": "float64",
         "type": "float"
        },
        {
         "name": "A_gene85",
         "rawType": "float64",
         "type": "float"
        },
        {
         "name": "A_gene86",
         "rawType": "float64",
         "type": "float"
        },
        {
         "name": "A_gene87",
         "rawType": "float64",
         "type": "float"
        },
        {
         "name": "A_gene88",
         "rawType": "float64",
         "type": "float"
        },
        {
         "name": "A_gene89",
         "rawType": "float64",
         "type": "float"
        },
        {
         "name": "A_gene90",
         "rawType": "float64",
         "type": "float"
        },
        {
         "name": "A_gene91",
         "rawType": "float64",
         "type": "float"
        },
        {
         "name": "A_gene92",
         "rawType": "float64",
         "type": "float"
        },
        {
         "name": "A_gene93",
         "rawType": "float64",
         "type": "float"
        },
        {
         "name": "A_gene94",
         "rawType": "float64",
         "type": "float"
        },
        {
         "name": "A_gene95",
         "rawType": "float64",
         "type": "float"
        },
        {
         "name": "A_gene96",
         "rawType": "float64",
         "type": "float"
        },
        {
         "name": "A_gene97",
         "rawType": "float64",
         "type": "float"
        },
        {
         "name": "A_gene98",
         "rawType": "float64",
         "type": "float"
        },
        {
         "name": "A_gene99",
         "rawType": "float64",
         "type": "float"
        },
        {
         "name": "A_gene100",
         "rawType": "float64",
         "type": "float"
        },
        {
         "name": "B_gene1",
         "rawType": "float64",
         "type": "float"
        },
        {
         "name": "B_gene2",
         "rawType": "float64",
         "type": "float"
        },
        {
         "name": "B_gene3",
         "rawType": "float64",
         "type": "float"
        },
        {
         "name": "B_gene4",
         "rawType": "float64",
         "type": "float"
        },
        {
         "name": "B_gene5",
         "rawType": "float64",
         "type": "float"
        },
        {
         "name": "B_gene6",
         "rawType": "float64",
         "type": "float"
        },
        {
         "name": "B_gene7",
         "rawType": "float64",
         "type": "float"
        },
        {
         "name": "B_gene8",
         "rawType": "float64",
         "type": "float"
        },
        {
         "name": "B_gene9",
         "rawType": "float64",
         "type": "float"
        },
        {
         "name": "B_gene10",
         "rawType": "float64",
         "type": "float"
        },
        {
         "name": "B_gene11",
         "rawType": "float64",
         "type": "float"
        },
        {
         "name": "B_gene12",
         "rawType": "float64",
         "type": "float"
        },
        {
         "name": "B_gene13",
         "rawType": "float64",
         "type": "float"
        },
        {
         "name": "B_gene14",
         "rawType": "float64",
         "type": "float"
        },
        {
         "name": "B_gene15",
         "rawType": "float64",
         "type": "float"
        },
        {
         "name": "B_gene16",
         "rawType": "float64",
         "type": "float"
        },
        {
         "name": "B_gene17",
         "rawType": "float64",
         "type": "float"
        },
        {
         "name": "B_gene18",
         "rawType": "float64",
         "type": "float"
        },
        {
         "name": "B_gene19",
         "rawType": "float64",
         "type": "float"
        },
        {
         "name": "B_gene20",
         "rawType": "float64",
         "type": "float"
        },
        {
         "name": "B_gene21",
         "rawType": "float64",
         "type": "float"
        },
        {
         "name": "B_gene22",
         "rawType": "float64",
         "type": "float"
        },
        {
         "name": "B_gene23",
         "rawType": "float64",
         "type": "float"
        },
        {
         "name": "B_gene24",
         "rawType": "float64",
         "type": "float"
        },
        {
         "name": "B_gene25",
         "rawType": "float64",
         "type": "float"
        },
        {
         "name": "B_gene26",
         "rawType": "float64",
         "type": "float"
        },
        {
         "name": "B_gene27",
         "rawType": "float64",
         "type": "float"
        },
        {
         "name": "B_gene28",
         "rawType": "float64",
         "type": "float"
        },
        {
         "name": "B_gene29",
         "rawType": "float64",
         "type": "float"
        },
        {
         "name": "B_gene30",
         "rawType": "float64",
         "type": "float"
        },
        {
         "name": "B_gene31",
         "rawType": "float64",
         "type": "float"
        },
        {
         "name": "B_gene32",
         "rawType": "float64",
         "type": "float"
        },
        {
         "name": "B_gene33",
         "rawType": "float64",
         "type": "float"
        },
        {
         "name": "B_gene34",
         "rawType": "float64",
         "type": "float"
        },
        {
         "name": "B_gene35",
         "rawType": "float64",
         "type": "float"
        },
        {
         "name": "B_gene36",
         "rawType": "float64",
         "type": "float"
        },
        {
         "name": "B_gene37",
         "rawType": "float64",
         "type": "float"
        },
        {
         "name": "B_gene38",
         "rawType": "float64",
         "type": "float"
        },
        {
         "name": "B_gene39",
         "rawType": "float64",
         "type": "float"
        },
        {
         "name": "B_gene40",
         "rawType": "float64",
         "type": "float"
        },
        {
         "name": "B_gene41",
         "rawType": "float64",
         "type": "float"
        },
        {
         "name": "B_gene42",
         "rawType": "float64",
         "type": "float"
        },
        {
         "name": "B_gene43",
         "rawType": "float64",
         "type": "float"
        },
        {
         "name": "B_gene44",
         "rawType": "float64",
         "type": "float"
        },
        {
         "name": "B_gene45",
         "rawType": "float64",
         "type": "float"
        },
        {
         "name": "B_gene46",
         "rawType": "float64",
         "type": "float"
        },
        {
         "name": "B_gene47",
         "rawType": "float64",
         "type": "float"
        },
        {
         "name": "B_gene48",
         "rawType": "float64",
         "type": "float"
        },
        {
         "name": "B_gene49",
         "rawType": "float64",
         "type": "float"
        },
        {
         "name": "B_gene50",
         "rawType": "float64",
         "type": "float"
        },
        {
         "name": "B_gene51",
         "rawType": "float64",
         "type": "float"
        },
        {
         "name": "B_gene52",
         "rawType": "float64",
         "type": "float"
        },
        {
         "name": "B_gene53",
         "rawType": "float64",
         "type": "float"
        },
        {
         "name": "B_gene54",
         "rawType": "float64",
         "type": "float"
        },
        {
         "name": "B_gene55",
         "rawType": "float64",
         "type": "float"
        },
        {
         "name": "B_gene56",
         "rawType": "float64",
         "type": "float"
        },
        {
         "name": "B_gene57",
         "rawType": "float64",
         "type": "float"
        },
        {
         "name": "B_gene58",
         "rawType": "float64",
         "type": "float"
        },
        {
         "name": "B_gene59",
         "rawType": "float64",
         "type": "float"
        },
        {
         "name": "B_gene60",
         "rawType": "float64",
         "type": "float"
        },
        {
         "name": "B_gene61",
         "rawType": "float64",
         "type": "float"
        },
        {
         "name": "B_gene62",
         "rawType": "float64",
         "type": "float"
        },
        {
         "name": "B_gene63",
         "rawType": "float64",
         "type": "float"
        },
        {
         "name": "B_gene64",
         "rawType": "float64",
         "type": "float"
        },
        {
         "name": "B_gene65",
         "rawType": "float64",
         "type": "float"
        },
        {
         "name": "B_gene66",
         "rawType": "float64",
         "type": "float"
        },
        {
         "name": "B_gene67",
         "rawType": "float64",
         "type": "float"
        },
        {
         "name": "B_gene68",
         "rawType": "float64",
         "type": "float"
        },
        {
         "name": "B_gene69",
         "rawType": "float64",
         "type": "float"
        },
        {
         "name": "B_gene70",
         "rawType": "float64",
         "type": "float"
        },
        {
         "name": "B_gene71",
         "rawType": "float64",
         "type": "float"
        },
        {
         "name": "B_gene72",
         "rawType": "float64",
         "type": "float"
        },
        {
         "name": "B_gene73",
         "rawType": "float64",
         "type": "float"
        },
        {
         "name": "B_gene74",
         "rawType": "float64",
         "type": "float"
        },
        {
         "name": "B_gene75",
         "rawType": "float64",
         "type": "float"
        },
        {
         "name": "B_gene76",
         "rawType": "float64",
         "type": "float"
        },
        {
         "name": "B_gene77",
         "rawType": "float64",
         "type": "float"
        },
        {
         "name": "B_gene78",
         "rawType": "float64",
         "type": "float"
        },
        {
         "name": "B_gene79",
         "rawType": "float64",
         "type": "float"
        },
        {
         "name": "B_gene80",
         "rawType": "float64",
         "type": "float"
        },
        {
         "name": "B_gene81",
         "rawType": "float64",
         "type": "float"
        },
        {
         "name": "B_gene82",
         "rawType": "float64",
         "type": "float"
        },
        {
         "name": "B_gene83",
         "rawType": "float64",
         "type": "float"
        },
        {
         "name": "B_gene84",
         "rawType": "float64",
         "type": "float"
        },
        {
         "name": "B_gene85",
         "rawType": "float64",
         "type": "float"
        },
        {
         "name": "B_gene86",
         "rawType": "float64",
         "type": "float"
        },
        {
         "name": "B_gene87",
         "rawType": "float64",
         "type": "float"
        },
        {
         "name": "B_gene88",
         "rawType": "float64",
         "type": "float"
        },
        {
         "name": "B_gene89",
         "rawType": "float64",
         "type": "float"
        },
        {
         "name": "B_gene90",
         "rawType": "float64",
         "type": "float"
        },
        {
         "name": "B_gene91",
         "rawType": "float64",
         "type": "float"
        },
        {
         "name": "B_gene92",
         "rawType": "float64",
         "type": "float"
        },
        {
         "name": "B_gene93",
         "rawType": "float64",
         "type": "float"
        },
        {
         "name": "B_gene94",
         "rawType": "float64",
         "type": "float"
        },
        {
         "name": "B_gene95",
         "rawType": "float64",
         "type": "float"
        },
        {
         "name": "B_gene96",
         "rawType": "float64",
         "type": "float"
        },
        {
         "name": "B_gene97",
         "rawType": "float64",
         "type": "float"
        },
        {
         "name": "B_gene98",
         "rawType": "float64",
         "type": "float"
        },
        {
         "name": "B_gene99",
         "rawType": "float64",
         "type": "float"
        },
        {
         "name": "B_gene100",
         "rawType": "float64",
         "type": "float"
        },
        {
         "name": "B_gene101",
         "rawType": "float64",
         "type": "float"
        },
        {
         "name": "B_gene102",
         "rawType": "float64",
         "type": "float"
        },
        {
         "name": "B_gene103",
         "rawType": "float64",
         "type": "float"
        },
        {
         "name": "B_gene104",
         "rawType": "float64",
         "type": "float"
        },
        {
         "name": "B_gene105",
         "rawType": "float64",
         "type": "float"
        },
        {
         "name": "B_gene106",
         "rawType": "float64",
         "type": "float"
        },
        {
         "name": "B_gene107",
         "rawType": "float64",
         "type": "float"
        },
        {
         "name": "B_gene108",
         "rawType": "float64",
         "type": "float"
        },
        {
         "name": "B_gene109",
         "rawType": "float64",
         "type": "float"
        },
        {
         "name": "B_gene110",
         "rawType": "float64",
         "type": "float"
        },
        {
         "name": "B_gene111",
         "rawType": "float64",
         "type": "float"
        },
        {
         "name": "B_gene112",
         "rawType": "float64",
         "type": "float"
        },
        {
         "name": "B_gene113",
         "rawType": "float64",
         "type": "float"
        },
        {
         "name": "B_gene114",
         "rawType": "float64",
         "type": "float"
        },
        {
         "name": "B_gene115",
         "rawType": "float64",
         "type": "float"
        },
        {
         "name": "B_gene116",
         "rawType": "float64",
         "type": "float"
        },
        {
         "name": "B_gene117",
         "rawType": "float64",
         "type": "float"
        },
        {
         "name": "B_gene118",
         "rawType": "float64",
         "type": "float"
        },
        {
         "name": "B_gene119",
         "rawType": "float64",
         "type": "float"
        },
        {
         "name": "B_gene120",
         "rawType": "float64",
         "type": "float"
        },
        {
         "name": "B_gene121",
         "rawType": "float64",
         "type": "float"
        },
        {
         "name": "B_gene122",
         "rawType": "float64",
         "type": "float"
        },
        {
         "name": "B_gene123",
         "rawType": "float64",
         "type": "float"
        },
        {
         "name": "B_gene124",
         "rawType": "float64",
         "type": "float"
        },
        {
         "name": "B_gene125",
         "rawType": "float64",
         "type": "float"
        },
        {
         "name": "B_gene126",
         "rawType": "float64",
         "type": "float"
        },
        {
         "name": "B_gene127",
         "rawType": "float64",
         "type": "float"
        },
        {
         "name": "B_gene128",
         "rawType": "float64",
         "type": "float"
        },
        {
         "name": "B_gene129",
         "rawType": "float64",
         "type": "float"
        },
        {
         "name": "B_gene130",
         "rawType": "float64",
         "type": "float"
        },
        {
         "name": "B_gene131",
         "rawType": "float64",
         "type": "float"
        },
        {
         "name": "B_gene132",
         "rawType": "float64",
         "type": "float"
        },
        {
         "name": "B_gene133",
         "rawType": "float64",
         "type": "float"
        },
        {
         "name": "B_gene134",
         "rawType": "float64",
         "type": "float"
        },
        {
         "name": "B_gene135",
         "rawType": "float64",
         "type": "float"
        },
        {
         "name": "B_gene136",
         "rawType": "float64",
         "type": "float"
        },
        {
         "name": "B_gene137",
         "rawType": "float64",
         "type": "float"
        },
        {
         "name": "B_gene138",
         "rawType": "float64",
         "type": "float"
        },
        {
         "name": "B_gene139",
         "rawType": "float64",
         "type": "float"
        },
        {
         "name": "B_gene140",
         "rawType": "float64",
         "type": "float"
        },
        {
         "name": "B_gene141",
         "rawType": "float64",
         "type": "float"
        },
        {
         "name": "B_gene142",
         "rawType": "float64",
         "type": "float"
        },
        {
         "name": "B_gene143",
         "rawType": "float64",
         "type": "float"
        },
        {
         "name": "B_gene144",
         "rawType": "float64",
         "type": "float"
        },
        {
         "name": "B_gene145",
         "rawType": "float64",
         "type": "float"
        },
        {
         "name": "B_gene146",
         "rawType": "float64",
         "type": "float"
        },
        {
         "name": "B_gene147",
         "rawType": "float64",
         "type": "float"
        },
        {
         "name": "B_gene148",
         "rawType": "float64",
         "type": "float"
        },
        {
         "name": "B_gene149",
         "rawType": "float64",
         "type": "float"
        },
        {
         "name": "B_gene150",
         "rawType": "float64",
         "type": "float"
        },
        {
         "name": "B_gene151",
         "rawType": "float64",
         "type": "float"
        },
        {
         "name": "B_gene152",
         "rawType": "float64",
         "type": "float"
        },
        {
         "name": "B_gene153",
         "rawType": "float64",
         "type": "float"
        },
        {
         "name": "B_gene154",
         "rawType": "float64",
         "type": "float"
        },
        {
         "name": "B_gene155",
         "rawType": "float64",
         "type": "float"
        },
        {
         "name": "B_gene156",
         "rawType": "float64",
         "type": "float"
        },
        {
         "name": "B_gene157",
         "rawType": "float64",
         "type": "float"
        },
        {
         "name": "B_gene158",
         "rawType": "float64",
         "type": "float"
        },
        {
         "name": "B_gene159",
         "rawType": "float64",
         "type": "float"
        },
        {
         "name": "B_gene160",
         "rawType": "float64",
         "type": "float"
        },
        {
         "name": "B_gene161",
         "rawType": "float64",
         "type": "float"
        },
        {
         "name": "B_gene162",
         "rawType": "float64",
         "type": "float"
        },
        {
         "name": "B_gene163",
         "rawType": "float64",
         "type": "float"
        },
        {
         "name": "B_gene164",
         "rawType": "float64",
         "type": "float"
        },
        {
         "name": "B_gene165",
         "rawType": "float64",
         "type": "float"
        },
        {
         "name": "B_gene166",
         "rawType": "float64",
         "type": "float"
        },
        {
         "name": "B_gene167",
         "rawType": "float64",
         "type": "float"
        },
        {
         "name": "B_gene168",
         "rawType": "float64",
         "type": "float"
        },
        {
         "name": "B_gene169",
         "rawType": "float64",
         "type": "float"
        },
        {
         "name": "B_gene170",
         "rawType": "float64",
         "type": "float"
        },
        {
         "name": "B_gene171",
         "rawType": "float64",
         "type": "float"
        },
        {
         "name": "B_gene172",
         "rawType": "float64",
         "type": "float"
        },
        {
         "name": "B_gene173",
         "rawType": "float64",
         "type": "float"
        },
        {
         "name": "B_gene174",
         "rawType": "float64",
         "type": "float"
        },
        {
         "name": "B_gene175",
         "rawType": "float64",
         "type": "float"
        },
        {
         "name": "B_gene176",
         "rawType": "float64",
         "type": "float"
        },
        {
         "name": "B_gene177",
         "rawType": "float64",
         "type": "float"
        },
        {
         "name": "B_gene178",
         "rawType": "float64",
         "type": "float"
        },
        {
         "name": "B_gene179",
         "rawType": "float64",
         "type": "float"
        },
        {
         "name": "B_gene180",
         "rawType": "float64",
         "type": "float"
        },
        {
         "name": "B_gene181",
         "rawType": "float64",
         "type": "float"
        },
        {
         "name": "B_gene182",
         "rawType": "float64",
         "type": "float"
        },
        {
         "name": "B_gene183",
         "rawType": "float64",
         "type": "float"
        },
        {
         "name": "B_gene184",
         "rawType": "float64",
         "type": "float"
        },
        {
         "name": "B_gene185",
         "rawType": "float64",
         "type": "float"
        },
        {
         "name": "B_gene186",
         "rawType": "float64",
         "type": "float"
        },
        {
         "name": "B_gene187",
         "rawType": "float64",
         "type": "float"
        },
        {
         "name": "B_gene188",
         "rawType": "float64",
         "type": "float"
        },
        {
         "name": "B_gene189",
         "rawType": "float64",
         "type": "float"
        },
        {
         "name": "B_gene190",
         "rawType": "float64",
         "type": "float"
        },
        {
         "name": "B_gene191",
         "rawType": "float64",
         "type": "float"
        },
        {
         "name": "B_gene192",
         "rawType": "float64",
         "type": "float"
        },
        {
         "name": "B_gene193",
         "rawType": "float64",
         "type": "float"
        },
        {
         "name": "B_gene194",
         "rawType": "float64",
         "type": "float"
        },
        {
         "name": "B_gene195",
         "rawType": "float64",
         "type": "float"
        },
        {
         "name": "B_gene196",
         "rawType": "float64",
         "type": "float"
        },
        {
         "name": "B_gene197",
         "rawType": "float64",
         "type": "float"
        },
        {
         "name": "B_gene198",
         "rawType": "float64",
         "type": "float"
        },
        {
         "name": "B_gene199",
         "rawType": "float64",
         "type": "float"
        },
        {
         "name": "B_gene200",
         "rawType": "float64",
         "type": "float"
        },
        {
         "name": "D_gene1",
         "rawType": "float64",
         "type": "float"
        },
        {
         "name": "D_gene2",
         "rawType": "float64",
         "type": "float"
        },
        {
         "name": "D_gene3",
         "rawType": "float64",
         "type": "float"
        },
        {
         "name": "D_gene4",
         "rawType": "float64",
         "type": "float"
        },
        {
         "name": "D_gene5",
         "rawType": "float64",
         "type": "float"
        },
        {
         "name": "D_gene6",
         "rawType": "float64",
         "type": "float"
        },
        {
         "name": "D_gene7",
         "rawType": "float64",
         "type": "float"
        },
        {
         "name": "D_gene8",
         "rawType": "float64",
         "type": "float"
        },
        {
         "name": "D_gene9",
         "rawType": "float64",
         "type": "float"
        },
        {
         "name": "D_gene10",
         "rawType": "float64",
         "type": "float"
        },
        {
         "name": "D_gene11",
         "rawType": "float64",
         "type": "float"
        },
        {
         "name": "D_gene12",
         "rawType": "float64",
         "type": "float"
        },
        {
         "name": "D_gene13",
         "rawType": "float64",
         "type": "float"
        },
        {
         "name": "D_gene14",
         "rawType": "float64",
         "type": "float"
        },
        {
         "name": "D_gene15",
         "rawType": "float64",
         "type": "float"
        },
        {
         "name": "D_gene16",
         "rawType": "float64",
         "type": "float"
        },
        {
         "name": "D_gene17",
         "rawType": "float64",
         "type": "float"
        },
        {
         "name": "D_gene18",
         "rawType": "float64",
         "type": "float"
        },
        {
         "name": "D_gene19",
         "rawType": "float64",
         "type": "float"
        },
        {
         "name": "D_gene20",
         "rawType": "float64",
         "type": "float"
        },
        {
         "name": "D_gene21",
         "rawType": "float64",
         "type": "float"
        },
        {
         "name": "D_gene22",
         "rawType": "float64",
         "type": "float"
        },
        {
         "name": "D_gene23",
         "rawType": "float64",
         "type": "float"
        },
        {
         "name": "D_gene24",
         "rawType": "float64",
         "type": "float"
        },
        {
         "name": "D_gene25",
         "rawType": "float64",
         "type": "float"
        },
        {
         "name": "D_gene26",
         "rawType": "float64",
         "type": "float"
        },
        {
         "name": "D_gene27",
         "rawType": "float64",
         "type": "float"
        },
        {
         "name": "D_gene28",
         "rawType": "float64",
         "type": "float"
        },
        {
         "name": "D_gene29",
         "rawType": "float64",
         "type": "float"
        },
        {
         "name": "D_gene30",
         "rawType": "float64",
         "type": "float"
        },
        {
         "name": "D_gene31",
         "rawType": "float64",
         "type": "float"
        },
        {
         "name": "D_gene32",
         "rawType": "float64",
         "type": "float"
        },
        {
         "name": "D_gene33",
         "rawType": "float64",
         "type": "float"
        },
        {
         "name": "D_gene34",
         "rawType": "float64",
         "type": "float"
        },
        {
         "name": "D_gene35",
         "rawType": "float64",
         "type": "float"
        },
        {
         "name": "D_gene36",
         "rawType": "float64",
         "type": "float"
        },
        {
         "name": "D_gene37",
         "rawType": "float64",
         "type": "float"
        },
        {
         "name": "D_gene38",
         "rawType": "float64",
         "type": "float"
        },
        {
         "name": "D_gene39",
         "rawType": "float64",
         "type": "float"
        },
        {
         "name": "D_gene40",
         "rawType": "float64",
         "type": "float"
        },
        {
         "name": "D_gene41",
         "rawType": "float64",
         "type": "float"
        },
        {
         "name": "D_gene42",
         "rawType": "float64",
         "type": "float"
        },
        {
         "name": "D_gene43",
         "rawType": "float64",
         "type": "float"
        },
        {
         "name": "D_gene44",
         "rawType": "float64",
         "type": "float"
        },
        {
         "name": "D_gene45",
         "rawType": "float64",
         "type": "float"
        },
        {
         "name": "D_gene46",
         "rawType": "float64",
         "type": "float"
        },
        {
         "name": "D_gene47",
         "rawType": "float64",
         "type": "float"
        },
        {
         "name": "D_gene48",
         "rawType": "float64",
         "type": "float"
        },
        {
         "name": "D_gene49",
         "rawType": "float64",
         "type": "float"
        },
        {
         "name": "D_gene50",
         "rawType": "float64",
         "type": "float"
        },
        {
         "name": "D_gene51",
         "rawType": "float64",
         "type": "float"
        },
        {
         "name": "D_gene52",
         "rawType": "float64",
         "type": "float"
        },
        {
         "name": "D_gene53",
         "rawType": "float64",
         "type": "float"
        },
        {
         "name": "D_gene54",
         "rawType": "float64",
         "type": "float"
        },
        {
         "name": "D_gene55",
         "rawType": "float64",
         "type": "float"
        },
        {
         "name": "D_gene56",
         "rawType": "float64",
         "type": "float"
        },
        {
         "name": "D_gene57",
         "rawType": "float64",
         "type": "float"
        },
        {
         "name": "D_gene58",
         "rawType": "float64",
         "type": "float"
        },
        {
         "name": "D_gene59",
         "rawType": "float64",
         "type": "float"
        },
        {
         "name": "D_gene60",
         "rawType": "float64",
         "type": "float"
        },
        {
         "name": "D_gene61",
         "rawType": "float64",
         "type": "float"
        },
        {
         "name": "D_gene62",
         "rawType": "float64",
         "type": "float"
        },
        {
         "name": "D_gene63",
         "rawType": "float64",
         "type": "float"
        },
        {
         "name": "D_gene64",
         "rawType": "float64",
         "type": "float"
        },
        {
         "name": "D_gene65",
         "rawType": "float64",
         "type": "float"
        },
        {
         "name": "D_gene66",
         "rawType": "float64",
         "type": "float"
        },
        {
         "name": "D_gene67",
         "rawType": "float64",
         "type": "float"
        },
        {
         "name": "D_gene68",
         "rawType": "float64",
         "type": "float"
        },
        {
         "name": "D_gene69",
         "rawType": "float64",
         "type": "float"
        },
        {
         "name": "D_gene70",
         "rawType": "float64",
         "type": "float"
        },
        {
         "name": "D_gene71",
         "rawType": "float64",
         "type": "float"
        },
        {
         "name": "D_gene72",
         "rawType": "float64",
         "type": "float"
        },
        {
         "name": "D_gene73",
         "rawType": "float64",
         "type": "float"
        },
        {
         "name": "D_gene74",
         "rawType": "float64",
         "type": "float"
        },
        {
         "name": "D_gene75",
         "rawType": "float64",
         "type": "float"
        },
        {
         "name": "D_gene76",
         "rawType": "float64",
         "type": "float"
        },
        {
         "name": "D_gene77",
         "rawType": "float64",
         "type": "float"
        },
        {
         "name": "D_gene78",
         "rawType": "float64",
         "type": "float"
        },
        {
         "name": "D_gene79",
         "rawType": "float64",
         "type": "float"
        },
        {
         "name": "D_gene80",
         "rawType": "float64",
         "type": "float"
        },
        {
         "name": "D_gene81",
         "rawType": "float64",
         "type": "float"
        },
        {
         "name": "D_gene82",
         "rawType": "float64",
         "type": "float"
        },
        {
         "name": "D_gene83",
         "rawType": "float64",
         "type": "float"
        },
        {
         "name": "D_gene84",
         "rawType": "float64",
         "type": "float"
        },
        {
         "name": "D_gene85",
         "rawType": "float64",
         "type": "float"
        },
        {
         "name": "D_gene86",
         "rawType": "float64",
         "type": "float"
        },
        {
         "name": "D_gene87",
         "rawType": "float64",
         "type": "float"
        },
        {
         "name": "D_gene88",
         "rawType": "float64",
         "type": "float"
        },
        {
         "name": "D_gene89",
         "rawType": "float64",
         "type": "float"
        },
        {
         "name": "D_gene90",
         "rawType": "float64",
         "type": "float"
        },
        {
         "name": "D_gene91",
         "rawType": "float64",
         "type": "float"
        },
        {
         "name": "D_gene92",
         "rawType": "float64",
         "type": "float"
        },
        {
         "name": "D_gene93",
         "rawType": "float64",
         "type": "float"
        },
        {
         "name": "D_gene94",
         "rawType": "float64",
         "type": "float"
        },
        {
         "name": "D_gene95",
         "rawType": "float64",
         "type": "float"
        },
        {
         "name": "D_gene96",
         "rawType": "float64",
         "type": "float"
        },
        {
         "name": "D_gene97",
         "rawType": "float64",
         "type": "float"
        },
        {
         "name": "D_gene98",
         "rawType": "float64",
         "type": "float"
        },
        {
         "name": "D_gene99",
         "rawType": "float64",
         "type": "float"
        },
        {
         "name": "D_gene100",
         "rawType": "float64",
         "type": "float"
        },
        {
         "name": "D_gene101",
         "rawType": "float64",
         "type": "float"
        },
        {
         "name": "D_gene102",
         "rawType": "float64",
         "type": "float"
        },
        {
         "name": "D_gene103",
         "rawType": "float64",
         "type": "float"
        },
        {
         "name": "D_gene104",
         "rawType": "float64",
         "type": "float"
        },
        {
         "name": "D_gene105",
         "rawType": "float64",
         "type": "float"
        },
        {
         "name": "D_gene106",
         "rawType": "float64",
         "type": "float"
        },
        {
         "name": "D_gene107",
         "rawType": "float64",
         "type": "float"
        },
        {
         "name": "D_gene108",
         "rawType": "float64",
         "type": "float"
        },
        {
         "name": "D_gene109",
         "rawType": "float64",
         "type": "float"
        },
        {
         "name": "D_gene110",
         "rawType": "float64",
         "type": "float"
        },
        {
         "name": "D_gene111",
         "rawType": "float64",
         "type": "float"
        },
        {
         "name": "D_gene112",
         "rawType": "float64",
         "type": "float"
        },
        {
         "name": "D_gene113",
         "rawType": "float64",
         "type": "float"
        },
        {
         "name": "D_gene114",
         "rawType": "float64",
         "type": "float"
        },
        {
         "name": "D_gene115",
         "rawType": "float64",
         "type": "float"
        },
        {
         "name": "D_gene116",
         "rawType": "float64",
         "type": "float"
        },
        {
         "name": "D_gene117",
         "rawType": "float64",
         "type": "float"
        },
        {
         "name": "D_gene118",
         "rawType": "float64",
         "type": "float"
        },
        {
         "name": "D_gene119",
         "rawType": "float64",
         "type": "float"
        },
        {
         "name": "D_gene120",
         "rawType": "float64",
         "type": "float"
        },
        {
         "name": "D_gene121",
         "rawType": "float64",
         "type": "float"
        },
        {
         "name": "D_gene122",
         "rawType": "float64",
         "type": "float"
        },
        {
         "name": "D_gene123",
         "rawType": "float64",
         "type": "float"
        },
        {
         "name": "D_gene124",
         "rawType": "float64",
         "type": "float"
        },
        {
         "name": "D_gene125",
         "rawType": "float64",
         "type": "float"
        },
        {
         "name": "D_gene126",
         "rawType": "float64",
         "type": "float"
        },
        {
         "name": "D_gene127",
         "rawType": "float64",
         "type": "float"
        },
        {
         "name": "D_gene128",
         "rawType": "float64",
         "type": "float"
        },
        {
         "name": "D_gene129",
         "rawType": "float64",
         "type": "float"
        },
        {
         "name": "D_gene130",
         "rawType": "float64",
         "type": "float"
        },
        {
         "name": "D_gene131",
         "rawType": "float64",
         "type": "float"
        },
        {
         "name": "D_gene132",
         "rawType": "float64",
         "type": "float"
        },
        {
         "name": "D_gene133",
         "rawType": "float64",
         "type": "float"
        },
        {
         "name": "D_gene134",
         "rawType": "float64",
         "type": "float"
        },
        {
         "name": "D_gene135",
         "rawType": "float64",
         "type": "float"
        },
        {
         "name": "D_gene136",
         "rawType": "float64",
         "type": "float"
        },
        {
         "name": "D_gene137",
         "rawType": "float64",
         "type": "float"
        },
        {
         "name": "D_gene138",
         "rawType": "float64",
         "type": "float"
        },
        {
         "name": "D_gene139",
         "rawType": "float64",
         "type": "float"
        },
        {
         "name": "D_gene140",
         "rawType": "float64",
         "type": "float"
        },
        {
         "name": "D_gene141",
         "rawType": "float64",
         "type": "float"
        },
        {
         "name": "D_gene142",
         "rawType": "float64",
         "type": "float"
        },
        {
         "name": "D_gene143",
         "rawType": "float64",
         "type": "float"
        },
        {
         "name": "D_gene144",
         "rawType": "float64",
         "type": "float"
        },
        {
         "name": "D_gene145",
         "rawType": "float64",
         "type": "float"
        },
        {
         "name": "D_gene146",
         "rawType": "float64",
         "type": "float"
        },
        {
         "name": "D_gene147",
         "rawType": "float64",
         "type": "float"
        },
        {
         "name": "D_gene148",
         "rawType": "float64",
         "type": "float"
        },
        {
         "name": "D_gene149",
         "rawType": "float64",
         "type": "float"
        },
        {
         "name": "D_gene150",
         "rawType": "float64",
         "type": "float"
        },
        {
         "name": "D_gene151",
         "rawType": "float64",
         "type": "float"
        },
        {
         "name": "D_gene152",
         "rawType": "float64",
         "type": "float"
        },
        {
         "name": "D_gene153",
         "rawType": "float64",
         "type": "float"
        },
        {
         "name": "D_gene154",
         "rawType": "float64",
         "type": "float"
        },
        {
         "name": "D_gene155",
         "rawType": "float64",
         "type": "float"
        },
        {
         "name": "D_gene156",
         "rawType": "float64",
         "type": "float"
        },
        {
         "name": "D_gene157",
         "rawType": "float64",
         "type": "float"
        },
        {
         "name": "D_gene158",
         "rawType": "float64",
         "type": "float"
        },
        {
         "name": "D_gene159",
         "rawType": "float64",
         "type": "float"
        },
        {
         "name": "D_gene160",
         "rawType": "float64",
         "type": "float"
        },
        {
         "name": "D_gene161",
         "rawType": "float64",
         "type": "float"
        },
        {
         "name": "D_gene162",
         "rawType": "float64",
         "type": "float"
        },
        {
         "name": "D_gene163",
         "rawType": "float64",
         "type": "float"
        },
        {
         "name": "D_gene164",
         "rawType": "float64",
         "type": "float"
        },
        {
         "name": "D_gene165",
         "rawType": "float64",
         "type": "float"
        },
        {
         "name": "D_gene166",
         "rawType": "float64",
         "type": "float"
        },
        {
         "name": "D_gene167",
         "rawType": "float64",
         "type": "float"
        },
        {
         "name": "D_gene168",
         "rawType": "float64",
         "type": "float"
        },
        {
         "name": "D_gene169",
         "rawType": "float64",
         "type": "float"
        },
        {
         "name": "D_gene170",
         "rawType": "float64",
         "type": "float"
        },
        {
         "name": "D_gene171",
         "rawType": "float64",
         "type": "float"
        },
        {
         "name": "D_gene172",
         "rawType": "float64",
         "type": "float"
        },
        {
         "name": "D_gene173",
         "rawType": "float64",
         "type": "float"
        },
        {
         "name": "D_gene174",
         "rawType": "float64",
         "type": "float"
        },
        {
         "name": "D_gene175",
         "rawType": "float64",
         "type": "float"
        },
        {
         "name": "D_gene176",
         "rawType": "float64",
         "type": "float"
        },
        {
         "name": "D_gene177",
         "rawType": "float64",
         "type": "float"
        },
        {
         "name": "D_gene178",
         "rawType": "float64",
         "type": "float"
        },
        {
         "name": "D_gene179",
         "rawType": "float64",
         "type": "float"
        },
        {
         "name": "D_gene180",
         "rawType": "float64",
         "type": "float"
        },
        {
         "name": "D_gene181",
         "rawType": "float64",
         "type": "float"
        },
        {
         "name": "D_gene182",
         "rawType": "float64",
         "type": "float"
        },
        {
         "name": "D_gene183",
         "rawType": "float64",
         "type": "float"
        },
        {
         "name": "D_gene184",
         "rawType": "float64",
         "type": "float"
        },
        {
         "name": "D_gene185",
         "rawType": "float64",
         "type": "float"
        },
        {
         "name": "D_gene186",
         "rawType": "float64",
         "type": "float"
        },
        {
         "name": "D_gene187",
         "rawType": "float64",
         "type": "float"
        },
        {
         "name": "D_gene188",
         "rawType": "float64",
         "type": "float"
        },
        {
         "name": "D_gene189",
         "rawType": "float64",
         "type": "float"
        },
        {
         "name": "D_gene190",
         "rawType": "float64",
         "type": "float"
        },
        {
         "name": "D_gene191",
         "rawType": "float64",
         "type": "float"
        },
        {
         "name": "D_gene192",
         "rawType": "float64",
         "type": "float"
        },
        {
         "name": "D_gene193",
         "rawType": "float64",
         "type": "float"
        },
        {
         "name": "D_gene194",
         "rawType": "float64",
         "type": "float"
        },
        {
         "name": "D_gene195",
         "rawType": "float64",
         "type": "float"
        },
        {
         "name": "D_gene196",
         "rawType": "float64",
         "type": "float"
        },
        {
         "name": "D_gene197",
         "rawType": "float64",
         "type": "float"
        },
        {
         "name": "D_gene198",
         "rawType": "float64",
         "type": "float"
        },
        {
         "name": "D_gene199",
         "rawType": "float64",
         "type": "float"
        },
        {
         "name": "D_gene200",
         "rawType": "float64",
         "type": "float"
        },
        {
         "name": "D_gene201",
         "rawType": "float64",
         "type": "float"
        },
        {
         "name": "D_gene202",
         "rawType": "float64",
         "type": "float"
        },
        {
         "name": "D_gene203",
         "rawType": "float64",
         "type": "float"
        },
        {
         "name": "D_gene204",
         "rawType": "float64",
         "type": "float"
        },
        {
         "name": "D_gene205",
         "rawType": "float64",
         "type": "float"
        },
        {
         "name": "D_gene206",
         "rawType": "float64",
         "type": "float"
        },
        {
         "name": "D_gene207",
         "rawType": "float64",
         "type": "float"
        },
        {
         "name": "D_gene208",
         "rawType": "float64",
         "type": "float"
        },
        {
         "name": "D_gene209",
         "rawType": "float64",
         "type": "float"
        },
        {
         "name": "D_gene210",
         "rawType": "float64",
         "type": "float"
        },
        {
         "name": "D_gene211",
         "rawType": "float64",
         "type": "float"
        },
        {
         "name": "D_gene212",
         "rawType": "float64",
         "type": "float"
        },
        {
         "name": "D_gene213",
         "rawType": "float64",
         "type": "float"
        },
        {
         "name": "D_gene214",
         "rawType": "float64",
         "type": "float"
        },
        {
         "name": "D_gene215",
         "rawType": "float64",
         "type": "float"
        },
        {
         "name": "D_gene216",
         "rawType": "float64",
         "type": "float"
        },
        {
         "name": "D_gene217",
         "rawType": "float64",
         "type": "float"
        },
        {
         "name": "D_gene218",
         "rawType": "float64",
         "type": "float"
        },
        {
         "name": "D_gene219",
         "rawType": "float64",
         "type": "float"
        },
        {
         "name": "D_gene220",
         "rawType": "float64",
         "type": "float"
        },
        {
         "name": "D_gene221",
         "rawType": "float64",
         "type": "float"
        },
        {
         "name": "D_gene222",
         "rawType": "float64",
         "type": "float"
        },
        {
         "name": "D_gene223",
         "rawType": "float64",
         "type": "float"
        },
        {
         "name": "D_gene224",
         "rawType": "float64",
         "type": "float"
        },
        {
         "name": "D_gene225",
         "rawType": "float64",
         "type": "float"
        },
        {
         "name": "D_gene226",
         "rawType": "float64",
         "type": "float"
        },
        {
         "name": "D_gene227",
         "rawType": "float64",
         "type": "float"
        },
        {
         "name": "D_gene228",
         "rawType": "float64",
         "type": "float"
        },
        {
         "name": "D_gene229",
         "rawType": "float64",
         "type": "float"
        },
        {
         "name": "D_gene230",
         "rawType": "float64",
         "type": "float"
        },
        {
         "name": "D_gene231",
         "rawType": "float64",
         "type": "float"
        },
        {
         "name": "D_gene232",
         "rawType": "float64",
         "type": "float"
        },
        {
         "name": "D_gene233",
         "rawType": "float64",
         "type": "float"
        },
        {
         "name": "D_gene234",
         "rawType": "float64",
         "type": "float"
        },
        {
         "name": "D_gene235",
         "rawType": "float64",
         "type": "float"
        },
        {
         "name": "D_gene236",
         "rawType": "float64",
         "type": "float"
        },
        {
         "name": "D_gene237",
         "rawType": "float64",
         "type": "float"
        },
        {
         "name": "D_gene238",
         "rawType": "float64",
         "type": "float"
        },
        {
         "name": "D_gene239",
         "rawType": "float64",
         "type": "float"
        },
        {
         "name": "D_gene240",
         "rawType": "float64",
         "type": "float"
        },
        {
         "name": "D_gene241",
         "rawType": "float64",
         "type": "float"
        },
        {
         "name": "D_gene242",
         "rawType": "float64",
         "type": "float"
        },
        {
         "name": "D_gene243",
         "rawType": "float64",
         "type": "float"
        },
        {
         "name": "D_gene244",
         "rawType": "float64",
         "type": "float"
        },
        {
         "name": "D_gene245",
         "rawType": "float64",
         "type": "float"
        },
        {
         "name": "D_gene246",
         "rawType": "float64",
         "type": "float"
        },
        {
         "name": "D_gene247",
         "rawType": "float64",
         "type": "float"
        },
        {
         "name": "D_gene248",
         "rawType": "float64",
         "type": "float"
        },
        {
         "name": "D_gene249",
         "rawType": "float64",
         "type": "float"
        },
        {
         "name": "D_gene250",
         "rawType": "float64",
         "type": "float"
        },
        {
         "name": "D_gene251",
         "rawType": "float64",
         "type": "float"
        },
        {
         "name": "D_gene252",
         "rawType": "float64",
         "type": "float"
        },
        {
         "name": "D_gene253",
         "rawType": "float64",
         "type": "float"
        },
        {
         "name": "D_gene254",
         "rawType": "float64",
         "type": "float"
        },
        {
         "name": "D_gene255",
         "rawType": "float64",
         "type": "float"
        },
        {
         "name": "D_gene256",
         "rawType": "float64",
         "type": "float"
        },
        {
         "name": "D_gene257",
         "rawType": "float64",
         "type": "float"
        },
        {
         "name": "D_gene258",
         "rawType": "float64",
         "type": "float"
        },
        {
         "name": "D_gene259",
         "rawType": "float64",
         "type": "float"
        },
        {
         "name": "D_gene260",
         "rawType": "float64",
         "type": "float"
        },
        {
         "name": "D_gene261",
         "rawType": "float64",
         "type": "float"
        },
        {
         "name": "D_gene262",
         "rawType": "float64",
         "type": "float"
        },
        {
         "name": "D_gene263",
         "rawType": "float64",
         "type": "float"
        },
        {
         "name": "D_gene264",
         "rawType": "float64",
         "type": "float"
        },
        {
         "name": "D_gene265",
         "rawType": "float64",
         "type": "float"
        },
        {
         "name": "D_gene266",
         "rawType": "float64",
         "type": "float"
        },
        {
         "name": "D_gene267",
         "rawType": "float64",
         "type": "float"
        },
        {
         "name": "D_gene268",
         "rawType": "float64",
         "type": "float"
        },
        {
         "name": "D_gene269",
         "rawType": "float64",
         "type": "float"
        },
        {
         "name": "D_gene270",
         "rawType": "float64",
         "type": "float"
        },
        {
         "name": "D_gene271",
         "rawType": "float64",
         "type": "float"
        },
        {
         "name": "D_gene272",
         "rawType": "float64",
         "type": "float"
        },
        {
         "name": "D_gene273",
         "rawType": "float64",
         "type": "float"
        },
        {
         "name": "D_gene274",
         "rawType": "float64",
         "type": "float"
        },
        {
         "name": "D_gene275",
         "rawType": "float64",
         "type": "float"
        },
        {
         "name": "D_gene276",
         "rawType": "float64",
         "type": "float"
        },
        {
         "name": "D_gene277",
         "rawType": "float64",
         "type": "float"
        },
        {
         "name": "D_gene278",
         "rawType": "float64",
         "type": "float"
        },
        {
         "name": "D_gene279",
         "rawType": "float64",
         "type": "float"
        },
        {
         "name": "D_gene280",
         "rawType": "float64",
         "type": "float"
        },
        {
         "name": "D_gene281",
         "rawType": "float64",
         "type": "float"
        },
        {
         "name": "D_gene282",
         "rawType": "float64",
         "type": "float"
        },
        {
         "name": "D_gene283",
         "rawType": "float64",
         "type": "float"
        },
        {
         "name": "D_gene284",
         "rawType": "float64",
         "type": "float"
        },
        {
         "name": "D_gene285",
         "rawType": "float64",
         "type": "float"
        },
        {
         "name": "D_gene286",
         "rawType": "float64",
         "type": "float"
        },
        {
         "name": "D_gene287",
         "rawType": "float64",
         "type": "float"
        },
        {
         "name": "D_gene288",
         "rawType": "float64",
         "type": "float"
        },
        {
         "name": "D_gene289",
         "rawType": "float64",
         "type": "float"
        },
        {
         "name": "D_gene290",
         "rawType": "float64",
         "type": "float"
        },
        {
         "name": "D_gene291",
         "rawType": "float64",
         "type": "float"
        },
        {
         "name": "D_gene292",
         "rawType": "float64",
         "type": "float"
        },
        {
         "name": "D_gene293",
         "rawType": "float64",
         "type": "float"
        },
        {
         "name": "D_gene294",
         "rawType": "float64",
         "type": "float"
        },
        {
         "name": "D_gene295",
         "rawType": "float64",
         "type": "float"
        },
        {
         "name": "D_gene296",
         "rawType": "float64",
         "type": "float"
        },
        {
         "name": "D_gene297",
         "rawType": "float64",
         "type": "float"
        },
        {
         "name": "D_gene298",
         "rawType": "float64",
         "type": "float"
        },
        {
         "name": "D_gene299",
         "rawType": "float64",
         "type": "float"
        },
        {
         "name": "D_gene300",
         "rawType": "float64",
         "type": "float"
        },
        {
         "name": "Noise_gene1",
         "rawType": "float64",
         "type": "float"
        },
        {
         "name": "Noise_gene2",
         "rawType": "float64",
         "type": "float"
        },
        {
         "name": "Noise_gene3",
         "rawType": "float64",
         "type": "float"
        },
        {
         "name": "Noise_gene4",
         "rawType": "float64",
         "type": "float"
        },
        {
         "name": "Noise_gene5",
         "rawType": "float64",
         "type": "float"
        },
        {
         "name": "Noise_gene6",
         "rawType": "float64",
         "type": "float"
        },
        {
         "name": "Noise_gene7",
         "rawType": "float64",
         "type": "float"
        },
        {
         "name": "Noise_gene8",
         "rawType": "float64",
         "type": "float"
        },
        {
         "name": "Noise_gene9",
         "rawType": "float64",
         "type": "float"
        },
        {
         "name": "Noise_gene10",
         "rawType": "float64",
         "type": "float"
        },
        {
         "name": "Noise_gene11",
         "rawType": "float64",
         "type": "float"
        },
        {
         "name": "Noise_gene12",
         "rawType": "float64",
         "type": "float"
        },
        {
         "name": "Noise_gene13",
         "rawType": "float64",
         "type": "float"
        },
        {
         "name": "Noise_gene14",
         "rawType": "float64",
         "type": "float"
        },
        {
         "name": "Noise_gene15",
         "rawType": "float64",
         "type": "float"
        },
        {
         "name": "Noise_gene16",
         "rawType": "float64",
         "type": "float"
        },
        {
         "name": "Noise_gene17",
         "rawType": "float64",
         "type": "float"
        },
        {
         "name": "Noise_gene18",
         "rawType": "float64",
         "type": "float"
        },
        {
         "name": "Noise_gene19",
         "rawType": "float64",
         "type": "float"
        },
        {
         "name": "Noise_gene20",
         "rawType": "float64",
         "type": "float"
        },
        {
         "name": "Noise_gene21",
         "rawType": "float64",
         "type": "float"
        },
        {
         "name": "Noise_gene22",
         "rawType": "float64",
         "type": "float"
        },
        {
         "name": "Noise_gene23",
         "rawType": "float64",
         "type": "float"
        },
        {
         "name": "Noise_gene24",
         "rawType": "float64",
         "type": "float"
        },
        {
         "name": "Noise_gene25",
         "rawType": "float64",
         "type": "float"
        },
        {
         "name": "Noise_gene26",
         "rawType": "float64",
         "type": "float"
        },
        {
         "name": "Noise_gene27",
         "rawType": "float64",
         "type": "float"
        },
        {
         "name": "Noise_gene28",
         "rawType": "float64",
         "type": "float"
        },
        {
         "name": "Noise_gene29",
         "rawType": "float64",
         "type": "float"
        },
        {
         "name": "Noise_gene30",
         "rawType": "float64",
         "type": "float"
        },
        {
         "name": "Noise_gene31",
         "rawType": "float64",
         "type": "float"
        },
        {
         "name": "Noise_gene32",
         "rawType": "float64",
         "type": "float"
        },
        {
         "name": "Noise_gene33",
         "rawType": "float64",
         "type": "float"
        },
        {
         "name": "Noise_gene34",
         "rawType": "float64",
         "type": "float"
        },
        {
         "name": "Noise_gene35",
         "rawType": "float64",
         "type": "float"
        },
        {
         "name": "Noise_gene36",
         "rawType": "float64",
         "type": "float"
        },
        {
         "name": "Noise_gene37",
         "rawType": "float64",
         "type": "float"
        },
        {
         "name": "Noise_gene38",
         "rawType": "float64",
         "type": "float"
        },
        {
         "name": "Noise_gene39",
         "rawType": "float64",
         "type": "float"
        },
        {
         "name": "Noise_gene40",
         "rawType": "float64",
         "type": "float"
        },
        {
         "name": "Noise_gene41",
         "rawType": "float64",
         "type": "float"
        },
        {
         "name": "Noise_gene42",
         "rawType": "float64",
         "type": "float"
        },
        {
         "name": "Noise_gene43",
         "rawType": "float64",
         "type": "float"
        },
        {
         "name": "Noise_gene44",
         "rawType": "float64",
         "type": "float"
        },
        {
         "name": "Noise_gene45",
         "rawType": "float64",
         "type": "float"
        },
        {
         "name": "Noise_gene46",
         "rawType": "float64",
         "type": "float"
        },
        {
         "name": "Noise_gene47",
         "rawType": "float64",
         "type": "float"
        },
        {
         "name": "Noise_gene48",
         "rawType": "float64",
         "type": "float"
        },
        {
         "name": "Noise_gene49",
         "rawType": "float64",
         "type": "float"
        },
        {
         "name": "Noise_gene50",
         "rawType": "float64",
         "type": "float"
        },
        {
         "name": "Noise_gene51",
         "rawType": "float64",
         "type": "float"
        },
        {
         "name": "Noise_gene52",
         "rawType": "float64",
         "type": "float"
        },
        {
         "name": "Noise_gene53",
         "rawType": "float64",
         "type": "float"
        },
        {
         "name": "Noise_gene54",
         "rawType": "float64",
         "type": "float"
        },
        {
         "name": "Noise_gene55",
         "rawType": "float64",
         "type": "float"
        },
        {
         "name": "Noise_gene56",
         "rawType": "float64",
         "type": "float"
        },
        {
         "name": "Noise_gene57",
         "rawType": "float64",
         "type": "float"
        },
        {
         "name": "Noise_gene58",
         "rawType": "float64",
         "type": "float"
        },
        {
         "name": "Noise_gene59",
         "rawType": "float64",
         "type": "float"
        },
        {
         "name": "Noise_gene60",
         "rawType": "float64",
         "type": "float"
        },
        {
         "name": "Noise_gene61",
         "rawType": "float64",
         "type": "float"
        },
        {
         "name": "Noise_gene62",
         "rawType": "float64",
         "type": "float"
        },
        {
         "name": "Noise_gene63",
         "rawType": "float64",
         "type": "float"
        },
        {
         "name": "Noise_gene64",
         "rawType": "float64",
         "type": "float"
        },
        {
         "name": "Noise_gene65",
         "rawType": "float64",
         "type": "float"
        },
        {
         "name": "Noise_gene66",
         "rawType": "float64",
         "type": "float"
        },
        {
         "name": "Noise_gene67",
         "rawType": "float64",
         "type": "float"
        },
        {
         "name": "Noise_gene68",
         "rawType": "float64",
         "type": "float"
        },
        {
         "name": "Noise_gene69",
         "rawType": "float64",
         "type": "float"
        },
        {
         "name": "Noise_gene70",
         "rawType": "float64",
         "type": "float"
        },
        {
         "name": "Noise_gene71",
         "rawType": "float64",
         "type": "float"
        },
        {
         "name": "Noise_gene72",
         "rawType": "float64",
         "type": "float"
        },
        {
         "name": "Noise_gene73",
         "rawType": "float64",
         "type": "float"
        },
        {
         "name": "Noise_gene74",
         "rawType": "float64",
         "type": "float"
        },
        {
         "name": "Noise_gene75",
         "rawType": "float64",
         "type": "float"
        },
        {
         "name": "Noise_gene76",
         "rawType": "float64",
         "type": "float"
        },
        {
         "name": "Noise_gene77",
         "rawType": "float64",
         "type": "float"
        },
        {
         "name": "Noise_gene78",
         "rawType": "float64",
         "type": "float"
        },
        {
         "name": "Noise_gene79",
         "rawType": "float64",
         "type": "float"
        },
        {
         "name": "Noise_gene80",
         "rawType": "float64",
         "type": "float"
        },
        {
         "name": "Noise_gene81",
         "rawType": "float64",
         "type": "float"
        },
        {
         "name": "Noise_gene82",
         "rawType": "float64",
         "type": "float"
        },
        {
         "name": "Noise_gene83",
         "rawType": "float64",
         "type": "float"
        },
        {
         "name": "Noise_gene84",
         "rawType": "float64",
         "type": "float"
        },
        {
         "name": "Noise_gene85",
         "rawType": "float64",
         "type": "float"
        },
        {
         "name": "Noise_gene86",
         "rawType": "float64",
         "type": "float"
        },
        {
         "name": "Noise_gene87",
         "rawType": "float64",
         "type": "float"
        },
        {
         "name": "Noise_gene88",
         "rawType": "float64",
         "type": "float"
        },
        {
         "name": "Noise_gene89",
         "rawType": "float64",
         "type": "float"
        },
        {
         "name": "Noise_gene90",
         "rawType": "float64",
         "type": "float"
        },
        {
         "name": "Noise_gene91",
         "rawType": "float64",
         "type": "float"
        },
        {
         "name": "Noise_gene92",
         "rawType": "float64",
         "type": "float"
        },
        {
         "name": "Noise_gene93",
         "rawType": "float64",
         "type": "float"
        },
        {
         "name": "Noise_gene94",
         "rawType": "float64",
         "type": "float"
        },
        {
         "name": "Noise_gene95",
         "rawType": "float64",
         "type": "float"
        },
        {
         "name": "Noise_gene96",
         "rawType": "float64",
         "type": "float"
        },
        {
         "name": "Noise_gene97",
         "rawType": "float64",
         "type": "float"
        },
        {
         "name": "Noise_gene98",
         "rawType": "float64",
         "type": "float"
        },
        {
         "name": "Noise_gene99",
         "rawType": "float64",
         "type": "float"
        },
        {
         "name": "Noise_gene100",
         "rawType": "float64",
         "type": "float"
        },
        {
         "name": "Noise_gene101",
         "rawType": "float64",
         "type": "float"
        },
        {
         "name": "Noise_gene102",
         "rawType": "float64",
         "type": "float"
        },
        {
         "name": "Noise_gene103",
         "rawType": "float64",
         "type": "float"
        },
        {
         "name": "Noise_gene104",
         "rawType": "float64",
         "type": "float"
        },
        {
         "name": "Noise_gene105",
         "rawType": "float64",
         "type": "float"
        },
        {
         "name": "Noise_gene106",
         "rawType": "float64",
         "type": "float"
        },
        {
         "name": "Noise_gene107",
         "rawType": "float64",
         "type": "float"
        },
        {
         "name": "Noise_gene108",
         "rawType": "float64",
         "type": "float"
        },
        {
         "name": "Noise_gene109",
         "rawType": "float64",
         "type": "float"
        },
        {
         "name": "Noise_gene110",
         "rawType": "float64",
         "type": "float"
        },
        {
         "name": "Noise_gene111",
         "rawType": "float64",
         "type": "float"
        },
        {
         "name": "Noise_gene112",
         "rawType": "float64",
         "type": "float"
        },
        {
         "name": "Noise_gene113",
         "rawType": "float64",
         "type": "float"
        },
        {
         "name": "Noise_gene114",
         "rawType": "float64",
         "type": "float"
        },
        {
         "name": "Noise_gene115",
         "rawType": "float64",
         "type": "float"
        },
        {
         "name": "Noise_gene116",
         "rawType": "float64",
         "type": "float"
        },
        {
         "name": "Noise_gene117",
         "rawType": "float64",
         "type": "float"
        },
        {
         "name": "Noise_gene118",
         "rawType": "float64",
         "type": "float"
        },
        {
         "name": "Noise_gene119",
         "rawType": "float64",
         "type": "float"
        },
        {
         "name": "Noise_gene120",
         "rawType": "float64",
         "type": "float"
        },
        {
         "name": "Noise_gene121",
         "rawType": "float64",
         "type": "float"
        },
        {
         "name": "Noise_gene122",
         "rawType": "float64",
         "type": "float"
        },
        {
         "name": "Noise_gene123",
         "rawType": "float64",
         "type": "float"
        },
        {
         "name": "Noise_gene124",
         "rawType": "float64",
         "type": "float"
        },
        {
         "name": "Noise_gene125",
         "rawType": "float64",
         "type": "float"
        },
        {
         "name": "Noise_gene126",
         "rawType": "float64",
         "type": "float"
        },
        {
         "name": "Noise_gene127",
         "rawType": "float64",
         "type": "float"
        },
        {
         "name": "Noise_gene128",
         "rawType": "float64",
         "type": "float"
        },
        {
         "name": "Noise_gene129",
         "rawType": "float64",
         "type": "float"
        },
        {
         "name": "Noise_gene130",
         "rawType": "float64",
         "type": "float"
        },
        {
         "name": "Noise_gene131",
         "rawType": "float64",
         "type": "float"
        },
        {
         "name": "Noise_gene132",
         "rawType": "float64",
         "type": "float"
        },
        {
         "name": "Noise_gene133",
         "rawType": "float64",
         "type": "float"
        },
        {
         "name": "Noise_gene134",
         "rawType": "float64",
         "type": "float"
        },
        {
         "name": "Noise_gene135",
         "rawType": "float64",
         "type": "float"
        },
        {
         "name": "Noise_gene136",
         "rawType": "float64",
         "type": "float"
        },
        {
         "name": "Noise_gene137",
         "rawType": "float64",
         "type": "float"
        },
        {
         "name": "Noise_gene138",
         "rawType": "float64",
         "type": "float"
        },
        {
         "name": "Noise_gene139",
         "rawType": "float64",
         "type": "float"
        },
        {
         "name": "Noise_gene140",
         "rawType": "float64",
         "type": "float"
        },
        {
         "name": "Noise_gene141",
         "rawType": "float64",
         "type": "float"
        },
        {
         "name": "Noise_gene142",
         "rawType": "float64",
         "type": "float"
        },
        {
         "name": "Noise_gene143",
         "rawType": "float64",
         "type": "float"
        },
        {
         "name": "Noise_gene144",
         "rawType": "float64",
         "type": "float"
        },
        {
         "name": "Noise_gene145",
         "rawType": "float64",
         "type": "float"
        },
        {
         "name": "Noise_gene146",
         "rawType": "float64",
         "type": "float"
        },
        {
         "name": "Noise_gene147",
         "rawType": "float64",
         "type": "float"
        },
        {
         "name": "Noise_gene148",
         "rawType": "float64",
         "type": "float"
        },
        {
         "name": "Noise_gene149",
         "rawType": "float64",
         "type": "float"
        },
        {
         "name": "Noise_gene150",
         "rawType": "float64",
         "type": "float"
        },
        {
         "name": "Noise_gene151",
         "rawType": "float64",
         "type": "float"
        },
        {
         "name": "Noise_gene152",
         "rawType": "float64",
         "type": "float"
        },
        {
         "name": "Noise_gene153",
         "rawType": "float64",
         "type": "float"
        },
        {
         "name": "Noise_gene154",
         "rawType": "float64",
         "type": "float"
        },
        {
         "name": "Noise_gene155",
         "rawType": "float64",
         "type": "float"
        },
        {
         "name": "Noise_gene156",
         "rawType": "float64",
         "type": "float"
        },
        {
         "name": "Noise_gene157",
         "rawType": "float64",
         "type": "float"
        },
        {
         "name": "Noise_gene158",
         "rawType": "float64",
         "type": "float"
        },
        {
         "name": "Noise_gene159",
         "rawType": "float64",
         "type": "float"
        },
        {
         "name": "Noise_gene160",
         "rawType": "float64",
         "type": "float"
        },
        {
         "name": "Noise_gene161",
         "rawType": "float64",
         "type": "float"
        },
        {
         "name": "Noise_gene162",
         "rawType": "float64",
         "type": "float"
        },
        {
         "name": "Noise_gene163",
         "rawType": "float64",
         "type": "float"
        },
        {
         "name": "Noise_gene164",
         "rawType": "float64",
         "type": "float"
        },
        {
         "name": "Noise_gene165",
         "rawType": "float64",
         "type": "float"
        },
        {
         "name": "Noise_gene166",
         "rawType": "float64",
         "type": "float"
        },
        {
         "name": "Noise_gene167",
         "rawType": "float64",
         "type": "float"
        },
        {
         "name": "Noise_gene168",
         "rawType": "float64",
         "type": "float"
        },
        {
         "name": "Noise_gene169",
         "rawType": "float64",
         "type": "float"
        },
        {
         "name": "Noise_gene170",
         "rawType": "float64",
         "type": "float"
        },
        {
         "name": "Noise_gene171",
         "rawType": "float64",
         "type": "float"
        },
        {
         "name": "Noise_gene172",
         "rawType": "float64",
         "type": "float"
        },
        {
         "name": "Noise_gene173",
         "rawType": "float64",
         "type": "float"
        },
        {
         "name": "Noise_gene174",
         "rawType": "float64",
         "type": "float"
        },
        {
         "name": "Noise_gene175",
         "rawType": "float64",
         "type": "float"
        },
        {
         "name": "Noise_gene176",
         "rawType": "float64",
         "type": "float"
        },
        {
         "name": "Noise_gene177",
         "rawType": "float64",
         "type": "float"
        },
        {
         "name": "Noise_gene178",
         "rawType": "float64",
         "type": "float"
        },
        {
         "name": "Noise_gene179",
         "rawType": "float64",
         "type": "float"
        },
        {
         "name": "Noise_gene180",
         "rawType": "float64",
         "type": "float"
        },
        {
         "name": "Noise_gene181",
         "rawType": "float64",
         "type": "float"
        },
        {
         "name": "Noise_gene182",
         "rawType": "float64",
         "type": "float"
        },
        {
         "name": "Noise_gene183",
         "rawType": "float64",
         "type": "float"
        },
        {
         "name": "Noise_gene184",
         "rawType": "float64",
         "type": "float"
        },
        {
         "name": "Noise_gene185",
         "rawType": "float64",
         "type": "float"
        },
        {
         "name": "Noise_gene186",
         "rawType": "float64",
         "type": "float"
        },
        {
         "name": "Noise_gene187",
         "rawType": "float64",
         "type": "float"
        },
        {
         "name": "Noise_gene188",
         "rawType": "float64",
         "type": "float"
        },
        {
         "name": "Noise_gene189",
         "rawType": "float64",
         "type": "float"
        },
        {
         "name": "Noise_gene190",
         "rawType": "float64",
         "type": "float"
        },
        {
         "name": "Noise_gene191",
         "rawType": "float64",
         "type": "float"
        },
        {
         "name": "Noise_gene192",
         "rawType": "float64",
         "type": "float"
        },
        {
         "name": "Noise_gene193",
         "rawType": "float64",
         "type": "float"
        },
        {
         "name": "Noise_gene194",
         "rawType": "float64",
         "type": "float"
        },
        {
         "name": "Noise_gene195",
         "rawType": "float64",
         "type": "float"
        },
        {
         "name": "Noise_gene196",
         "rawType": "float64",
         "type": "float"
        },
        {
         "name": "Noise_gene197",
         "rawType": "float64",
         "type": "float"
        },
        {
         "name": "Noise_gene198",
         "rawType": "float64",
         "type": "float"
        },
        {
         "name": "Noise_gene199",
         "rawType": "float64",
         "type": "float"
        },
        {
         "name": "Noise_gene200",
         "rawType": "float64",
         "type": "float"
        },
        {
         "name": "Noise_gene201",
         "rawType": "float64",
         "type": "float"
        },
        {
         "name": "Noise_gene202",
         "rawType": "float64",
         "type": "float"
        },
        {
         "name": "Noise_gene203",
         "rawType": "float64",
         "type": "float"
        },
        {
         "name": "Noise_gene204",
         "rawType": "float64",
         "type": "float"
        },
        {
         "name": "Noise_gene205",
         "rawType": "float64",
         "type": "float"
        },
        {
         "name": "Noise_gene206",
         "rawType": "float64",
         "type": "float"
        },
        {
         "name": "Noise_gene207",
         "rawType": "float64",
         "type": "float"
        },
        {
         "name": "Noise_gene208",
         "rawType": "float64",
         "type": "float"
        },
        {
         "name": "Noise_gene209",
         "rawType": "float64",
         "type": "float"
        },
        {
         "name": "Noise_gene210",
         "rawType": "float64",
         "type": "float"
        },
        {
         "name": "Noise_gene211",
         "rawType": "float64",
         "type": "float"
        },
        {
         "name": "Noise_gene212",
         "rawType": "float64",
         "type": "float"
        },
        {
         "name": "Noise_gene213",
         "rawType": "float64",
         "type": "float"
        },
        {
         "name": "Noise_gene214",
         "rawType": "float64",
         "type": "float"
        },
        {
         "name": "Noise_gene215",
         "rawType": "float64",
         "type": "float"
        },
        {
         "name": "Noise_gene216",
         "rawType": "float64",
         "type": "float"
        },
        {
         "name": "Noise_gene217",
         "rawType": "float64",
         "type": "float"
        },
        {
         "name": "Noise_gene218",
         "rawType": "float64",
         "type": "float"
        },
        {
         "name": "Noise_gene219",
         "rawType": "float64",
         "type": "float"
        },
        {
         "name": "Noise_gene220",
         "rawType": "float64",
         "type": "float"
        },
        {
         "name": "Noise_gene221",
         "rawType": "float64",
         "type": "float"
        },
        {
         "name": "Noise_gene222",
         "rawType": "float64",
         "type": "float"
        },
        {
         "name": "Noise_gene223",
         "rawType": "float64",
         "type": "float"
        },
        {
         "name": "Noise_gene224",
         "rawType": "float64",
         "type": "float"
        },
        {
         "name": "Noise_gene225",
         "rawType": "float64",
         "type": "float"
        },
        {
         "name": "Noise_gene226",
         "rawType": "float64",
         "type": "float"
        },
        {
         "name": "Noise_gene227",
         "rawType": "float64",
         "type": "float"
        },
        {
         "name": "Noise_gene228",
         "rawType": "float64",
         "type": "float"
        },
        {
         "name": "Noise_gene229",
         "rawType": "float64",
         "type": "float"
        },
        {
         "name": "Noise_gene230",
         "rawType": "float64",
         "type": "float"
        },
        {
         "name": "Noise_gene231",
         "rawType": "float64",
         "type": "float"
        },
        {
         "name": "Noise_gene232",
         "rawType": "float64",
         "type": "float"
        },
        {
         "name": "Noise_gene233",
         "rawType": "float64",
         "type": "float"
        },
        {
         "name": "Noise_gene234",
         "rawType": "float64",
         "type": "float"
        },
        {
         "name": "Noise_gene235",
         "rawType": "float64",
         "type": "float"
        },
        {
         "name": "Noise_gene236",
         "rawType": "float64",
         "type": "float"
        },
        {
         "name": "Noise_gene237",
         "rawType": "float64",
         "type": "float"
        },
        {
         "name": "Noise_gene238",
         "rawType": "float64",
         "type": "float"
        },
        {
         "name": "Noise_gene239",
         "rawType": "float64",
         "type": "float"
        },
        {
         "name": "Noise_gene240",
         "rawType": "float64",
         "type": "float"
        },
        {
         "name": "Noise_gene241",
         "rawType": "float64",
         "type": "float"
        },
        {
         "name": "Noise_gene242",
         "rawType": "float64",
         "type": "float"
        },
        {
         "name": "Noise_gene243",
         "rawType": "float64",
         "type": "float"
        },
        {
         "name": "Noise_gene244",
         "rawType": "float64",
         "type": "float"
        },
        {
         "name": "Noise_gene245",
         "rawType": "float64",
         "type": "float"
        },
        {
         "name": "Noise_gene246",
         "rawType": "float64",
         "type": "float"
        },
        {
         "name": "Noise_gene247",
         "rawType": "float64",
         "type": "float"
        },
        {
         "name": "Noise_gene248",
         "rawType": "float64",
         "type": "float"
        },
        {
         "name": "Noise_gene249",
         "rawType": "float64",
         "type": "float"
        },
        {
         "name": "Noise_gene250",
         "rawType": "float64",
         "type": "float"
        },
        {
         "name": "Noise_gene251",
         "rawType": "float64",
         "type": "float"
        },
        {
         "name": "Noise_gene252",
         "rawType": "float64",
         "type": "float"
        },
        {
         "name": "Noise_gene253",
         "rawType": "float64",
         "type": "float"
        },
        {
         "name": "Noise_gene254",
         "rawType": "float64",
         "type": "float"
        },
        {
         "name": "Noise_gene255",
         "rawType": "float64",
         "type": "float"
        },
        {
         "name": "Noise_gene256",
         "rawType": "float64",
         "type": "float"
        },
        {
         "name": "Noise_gene257",
         "rawType": "float64",
         "type": "float"
        },
        {
         "name": "Noise_gene258",
         "rawType": "float64",
         "type": "float"
        },
        {
         "name": "Noise_gene259",
         "rawType": "float64",
         "type": "float"
        },
        {
         "name": "Noise_gene260",
         "rawType": "float64",
         "type": "float"
        },
        {
         "name": "Noise_gene261",
         "rawType": "float64",
         "type": "float"
        },
        {
         "name": "Noise_gene262",
         "rawType": "float64",
         "type": "float"
        },
        {
         "name": "Noise_gene263",
         "rawType": "float64",
         "type": "float"
        },
        {
         "name": "Noise_gene264",
         "rawType": "float64",
         "type": "float"
        },
        {
         "name": "Noise_gene265",
         "rawType": "float64",
         "type": "float"
        },
        {
         "name": "Noise_gene266",
         "rawType": "float64",
         "type": "float"
        },
        {
         "name": "Noise_gene267",
         "rawType": "float64",
         "type": "float"
        },
        {
         "name": "Noise_gene268",
         "rawType": "float64",
         "type": "float"
        },
        {
         "name": "Noise_gene269",
         "rawType": "float64",
         "type": "float"
        },
        {
         "name": "Noise_gene270",
         "rawType": "float64",
         "type": "float"
        },
        {
         "name": "Noise_gene271",
         "rawType": "float64",
         "type": "float"
        },
        {
         "name": "Noise_gene272",
         "rawType": "float64",
         "type": "float"
        },
        {
         "name": "Noise_gene273",
         "rawType": "float64",
         "type": "float"
        },
        {
         "name": "Noise_gene274",
         "rawType": "float64",
         "type": "float"
        },
        {
         "name": "Noise_gene275",
         "rawType": "float64",
         "type": "float"
        },
        {
         "name": "Noise_gene276",
         "rawType": "float64",
         "type": "float"
        },
        {
         "name": "Noise_gene277",
         "rawType": "float64",
         "type": "float"
        },
        {
         "name": "Noise_gene278",
         "rawType": "float64",
         "type": "float"
        },
        {
         "name": "Noise_gene279",
         "rawType": "float64",
         "type": "float"
        },
        {
         "name": "Noise_gene280",
         "rawType": "float64",
         "type": "float"
        },
        {
         "name": "Noise_gene281",
         "rawType": "float64",
         "type": "float"
        },
        {
         "name": "Noise_gene282",
         "rawType": "float64",
         "type": "float"
        },
        {
         "name": "Noise_gene283",
         "rawType": "float64",
         "type": "float"
        },
        {
         "name": "Noise_gene284",
         "rawType": "float64",
         "type": "float"
        },
        {
         "name": "Noise_gene285",
         "rawType": "float64",
         "type": "float"
        },
        {
         "name": "Noise_gene286",
         "rawType": "float64",
         "type": "float"
        },
        {
         "name": "Noise_gene287",
         "rawType": "float64",
         "type": "float"
        },
        {
         "name": "Noise_gene288",
         "rawType": "float64",
         "type": "float"
        },
        {
         "name": "Noise_gene289",
         "rawType": "float64",
         "type": "float"
        },
        {
         "name": "Noise_gene290",
         "rawType": "float64",
         "type": "float"
        },
        {
         "name": "Noise_gene291",
         "rawType": "float64",
         "type": "float"
        },
        {
         "name": "Noise_gene292",
         "rawType": "float64",
         "type": "float"
        },
        {
         "name": "Noise_gene293",
         "rawType": "float64",
         "type": "float"
        },
        {
         "name": "Noise_gene294",
         "rawType": "float64",
         "type": "float"
        },
        {
         "name": "Noise_gene295",
         "rawType": "float64",
         "type": "float"
        },
        {
         "name": "Noise_gene296",
         "rawType": "float64",
         "type": "float"
        },
        {
         "name": "Noise_gene297",
         "rawType": "float64",
         "type": "float"
        },
        {
         "name": "Noise_gene298",
         "rawType": "float64",
         "type": "float"
        },
        {
         "name": "Noise_gene299",
         "rawType": "float64",
         "type": "float"
        },
        {
         "name": "Noise_gene300",
         "rawType": "float64",
         "type": "float"
        },
        {
         "name": "Noise_gene301",
         "rawType": "float64",
         "type": "float"
        },
        {
         "name": "Noise_gene302",
         "rawType": "float64",
         "type": "float"
        },
        {
         "name": "Noise_gene303",
         "rawType": "float64",
         "type": "float"
        },
        {
         "name": "Noise_gene304",
         "rawType": "float64",
         "type": "float"
        },
        {
         "name": "Noise_gene305",
         "rawType": "float64",
         "type": "float"
        },
        {
         "name": "Noise_gene306",
         "rawType": "float64",
         "type": "float"
        },
        {
         "name": "Noise_gene307",
         "rawType": "float64",
         "type": "float"
        },
        {
         "name": "Noise_gene308",
         "rawType": "float64",
         "type": "float"
        },
        {
         "name": "Noise_gene309",
         "rawType": "float64",
         "type": "float"
        },
        {
         "name": "Noise_gene310",
         "rawType": "float64",
         "type": "float"
        },
        {
         "name": "Noise_gene311",
         "rawType": "float64",
         "type": "float"
        },
        {
         "name": "Noise_gene312",
         "rawType": "float64",
         "type": "float"
        },
        {
         "name": "Noise_gene313",
         "rawType": "float64",
         "type": "float"
        },
        {
         "name": "Noise_gene314",
         "rawType": "float64",
         "type": "float"
        },
        {
         "name": "Noise_gene315",
         "rawType": "float64",
         "type": "float"
        },
        {
         "name": "Noise_gene316",
         "rawType": "float64",
         "type": "float"
        },
        {
         "name": "Noise_gene317",
         "rawType": "float64",
         "type": "float"
        },
        {
         "name": "Noise_gene318",
         "rawType": "float64",
         "type": "float"
        },
        {
         "name": "Noise_gene319",
         "rawType": "float64",
         "type": "float"
        },
        {
         "name": "Noise_gene320",
         "rawType": "float64",
         "type": "float"
        },
        {
         "name": "Noise_gene321",
         "rawType": "float64",
         "type": "float"
        },
        {
         "name": "Noise_gene322",
         "rawType": "float64",
         "type": "float"
        },
        {
         "name": "Noise_gene323",
         "rawType": "float64",
         "type": "float"
        },
        {
         "name": "Noise_gene324",
         "rawType": "float64",
         "type": "float"
        },
        {
         "name": "Noise_gene325",
         "rawType": "float64",
         "type": "float"
        },
        {
         "name": "Noise_gene326",
         "rawType": "float64",
         "type": "float"
        },
        {
         "name": "Noise_gene327",
         "rawType": "float64",
         "type": "float"
        },
        {
         "name": "Noise_gene328",
         "rawType": "float64",
         "type": "float"
        },
        {
         "name": "Noise_gene329",
         "rawType": "float64",
         "type": "float"
        },
        {
         "name": "Noise_gene330",
         "rawType": "float64",
         "type": "float"
        },
        {
         "name": "Noise_gene331",
         "rawType": "float64",
         "type": "float"
        },
        {
         "name": "Noise_gene332",
         "rawType": "float64",
         "type": "float"
        },
        {
         "name": "Noise_gene333",
         "rawType": "float64",
         "type": "float"
        },
        {
         "name": "Noise_gene334",
         "rawType": "float64",
         "type": "float"
        },
        {
         "name": "Noise_gene335",
         "rawType": "float64",
         "type": "float"
        },
        {
         "name": "Noise_gene336",
         "rawType": "float64",
         "type": "float"
        },
        {
         "name": "Noise_gene337",
         "rawType": "float64",
         "type": "float"
        },
        {
         "name": "Noise_gene338",
         "rawType": "float64",
         "type": "float"
        },
        {
         "name": "Noise_gene339",
         "rawType": "float64",
         "type": "float"
        },
        {
         "name": "Noise_gene340",
         "rawType": "float64",
         "type": "float"
        },
        {
         "name": "Noise_gene341",
         "rawType": "float64",
         "type": "float"
        },
        {
         "name": "Noise_gene342",
         "rawType": "float64",
         "type": "float"
        },
        {
         "name": "Noise_gene343",
         "rawType": "float64",
         "type": "float"
        },
        {
         "name": "Noise_gene344",
         "rawType": "float64",
         "type": "float"
        },
        {
         "name": "Noise_gene345",
         "rawType": "float64",
         "type": "float"
        },
        {
         "name": "Noise_gene346",
         "rawType": "float64",
         "type": "float"
        },
        {
         "name": "Noise_gene347",
         "rawType": "float64",
         "type": "float"
        },
        {
         "name": "Noise_gene348",
         "rawType": "float64",
         "type": "float"
        },
        {
         "name": "Noise_gene349",
         "rawType": "float64",
         "type": "float"
        },
        {
         "name": "Noise_gene350",
         "rawType": "float64",
         "type": "float"
        },
        {
         "name": "Noise_gene351",
         "rawType": "float64",
         "type": "float"
        },
        {
         "name": "Noise_gene352",
         "rawType": "float64",
         "type": "float"
        },
        {
         "name": "Noise_gene353",
         "rawType": "float64",
         "type": "float"
        },
        {
         "name": "Noise_gene354",
         "rawType": "float64",
         "type": "float"
        },
        {
         "name": "Noise_gene355",
         "rawType": "float64",
         "type": "float"
        },
        {
         "name": "Noise_gene356",
         "rawType": "float64",
         "type": "float"
        },
        {
         "name": "Noise_gene357",
         "rawType": "float64",
         "type": "float"
        },
        {
         "name": "Noise_gene358",
         "rawType": "float64",
         "type": "float"
        },
        {
         "name": "Noise_gene359",
         "rawType": "float64",
         "type": "float"
        },
        {
         "name": "Noise_gene360",
         "rawType": "float64",
         "type": "float"
        },
        {
         "name": "Noise_gene361",
         "rawType": "float64",
         "type": "float"
        },
        {
         "name": "Noise_gene362",
         "rawType": "float64",
         "type": "float"
        },
        {
         "name": "Noise_gene363",
         "rawType": "float64",
         "type": "float"
        },
        {
         "name": "Noise_gene364",
         "rawType": "float64",
         "type": "float"
        },
        {
         "name": "Noise_gene365",
         "rawType": "float64",
         "type": "float"
        },
        {
         "name": "Noise_gene366",
         "rawType": "float64",
         "type": "float"
        },
        {
         "name": "Noise_gene367",
         "rawType": "float64",
         "type": "float"
        },
        {
         "name": "Noise_gene368",
         "rawType": "float64",
         "type": "float"
        },
        {
         "name": "Noise_gene369",
         "rawType": "float64",
         "type": "float"
        },
        {
         "name": "Noise_gene370",
         "rawType": "float64",
         "type": "float"
        },
        {
         "name": "Noise_gene371",
         "rawType": "float64",
         "type": "float"
        },
        {
         "name": "Noise_gene372",
         "rawType": "float64",
         "type": "float"
        },
        {
         "name": "Noise_gene373",
         "rawType": "float64",
         "type": "float"
        },
        {
         "name": "Noise_gene374",
         "rawType": "float64",
         "type": "float"
        },
        {
         "name": "Noise_gene375",
         "rawType": "float64",
         "type": "float"
        },
        {
         "name": "Noise_gene376",
         "rawType": "float64",
         "type": "float"
        },
        {
         "name": "Noise_gene377",
         "rawType": "float64",
         "type": "float"
        },
        {
         "name": "Noise_gene378",
         "rawType": "float64",
         "type": "float"
        },
        {
         "name": "Noise_gene379",
         "rawType": "float64",
         "type": "float"
        },
        {
         "name": "Noise_gene380",
         "rawType": "float64",
         "type": "float"
        },
        {
         "name": "Noise_gene381",
         "rawType": "float64",
         "type": "float"
        },
        {
         "name": "Noise_gene382",
         "rawType": "float64",
         "type": "float"
        },
        {
         "name": "Noise_gene383",
         "rawType": "float64",
         "type": "float"
        },
        {
         "name": "Noise_gene384",
         "rawType": "float64",
         "type": "float"
        },
        {
         "name": "Noise_gene385",
         "rawType": "float64",
         "type": "float"
        },
        {
         "name": "Noise_gene386",
         "rawType": "float64",
         "type": "float"
        },
        {
         "name": "Noise_gene387",
         "rawType": "float64",
         "type": "float"
        },
        {
         "name": "Noise_gene388",
         "rawType": "float64",
         "type": "float"
        },
        {
         "name": "Noise_gene389",
         "rawType": "float64",
         "type": "float"
        },
        {
         "name": "Noise_gene390",
         "rawType": "float64",
         "type": "float"
        },
        {
         "name": "Noise_gene391",
         "rawType": "float64",
         "type": "float"
        },
        {
         "name": "Noise_gene392",
         "rawType": "float64",
         "type": "float"
        },
        {
         "name": "Noise_gene393",
         "rawType": "float64",
         "type": "float"
        },
        {
         "name": "Noise_gene394",
         "rawType": "float64",
         "type": "float"
        },
        {
         "name": "Noise_gene395",
         "rawType": "float64",
         "type": "float"
        },
        {
         "name": "Noise_gene396",
         "rawType": "float64",
         "type": "float"
        },
        {
         "name": "Noise_gene397",
         "rawType": "float64",
         "type": "float"
        },
        {
         "name": "Noise_gene398",
         "rawType": "float64",
         "type": "float"
        },
        {
         "name": "Noise_gene399",
         "rawType": "float64",
         "type": "float"
        },
        {
         "name": "Noise_gene400",
         "rawType": "float64",
         "type": "float"
        },
        {
         "name": "edad",
         "rawType": "int64",
         "type": "integer"
        },
        {
         "name": "rin",
         "rawType": "float64",
         "type": "float"
        },
        {
         "name": "sexo",
         "rawType": "int64",
         "type": "integer"
        },
        {
         "name": "lote",
         "rawType": "category",
         "type": "unknown"
        },
        {
         "name": "Alzheimer",
         "rawType": "int64",
         "type": "integer"
        }
       ],
       "conversionMethod": "pd.DataFrame",
       "ref": "c62f948e-43cb-481d-9c92-5aa1ff7182f0",
       "rows": [
        [
         "0",
         "-0.11178202934733718",
         "0.09689370161503005",
         "1.7984254485435913",
         "-0.09337810175979347",
         "-0.19719575006120832",
         "-1.2608519196684724",
         "-1.0641651962694216",
         "0.07684636625140842",
         "-0.9999275423535939",
         "0.1117334192750762",
         "0.8930062950891225",
         "0.48174742285916294",
         "0.23877910434287372",
         "1.3990681676323369",
         "-0.3838160066084829",
         "-0.1934938362028998",
         "0.8384469316319814",
         "0.13670638401866386",
         "0.4834218452562612",
         "0.09980208738983176",
         "-0.5611610416927811",
         "0.42393632707466017",
         "-0.31951772026780734",
         "-2.378361609118565",
         "-1.5414559335599185",
         "-0.398453721620736",
         "-0.8089876317180505",
         "-0.45740113315330727",
         "-0.6269239865781553",
         "0.6679764224352025",
         "-1.1285560862357236",
         "-1.1054488538506064",
         "-0.8886928792866957",
         "-0.6190293002931394",
         "-0.4482788191825263",
         "-1.530212792753217",
         "1.120828102807487",
         "-0.7384380064017925",
         "-0.27873738282480104",
         "0.22772546547514955",
         "0.054401507958044056",
         "0.3696504602616517",
         "0.4410666466796472",
         "-0.8955790553591144",
         "-2.1537137627864995",
         "0.5276617602968088",
         "-1.1804760402428234",
         "0.21765680232114196",
         "-0.3806313558004906",
         "0.29176121589930115",
         "0.17199275131369374",
         "-1.5091234819128423",
         "0.21222809648512395",
         "-0.39603332461276597",
         "-0.7067718944992902",
         "-0.8859466031294352",
         "2.7233022866193206",
         "-0.2528722876013158",
         "0.9899245125178081",
         "-0.029585218088478436",
         "-0.9069211279698962",
         "0.2444697012267025",
         "0.3411765398393893",
         "-0.6201875250755353",
         "-0.10920459123690139",
         "0.06744583744252942",
         "-0.28612227358230463",
         "-0.2645902537590257",
         "-1.5822557821672154",
         "0.5551726562397962",
         "-2.1002490611334808",
         "-1.2948153955808854",
         "-0.2749904230021166",
         "-1.354000885731854",
         "-0.02200991749400665",
         "-0.15558698653545186",
         "-0.7018095562946428",
         "-0.436661925233586",
         "-0.6051006527100664",
         "-1.5578950276425905",
         "-0.13643836989541744",
         "-0.038233162887957965",
         "0.7746608303173691",
         "-1.2381486728377977",
         "1.6845362218699251",
         "0.6824366862447017",
         "-0.6682422951434023",
         "0.07317581726960062",
         "0.6026896276552198",
         "0.535725337239",
         "-0.19681952276939763",
         "-0.406622439006913",
         "-0.2498523782811761",
         "-0.10632219372448458",
         "1.3908308906189761",
         "-0.002825374625101695",
         "0.9725902829284511",
         "-0.7211542743253238",
         "0.5982015219700891",
         "0.045128873397298076",
         "-0.45995963923814365",
         "-0.14414840166678444",
         "-0.18076239397744237",
         "0.5257028817786517",
         "0.272893230322724",
         "-0.46429205587212974",
         "0.1625853856955907",
         "-0.18349219551443852",
         "0.12470654904604639",
         "-0.1804312623762905",
         "0.6507334342597363",
         "0.0898330799723366",
         "-0.36658393079416723",
         "-0.5731772292787469",
         "-1.2665210231744006",
         "2.0003021882973098",
         "-0.057559647237645145",
         "-0.6457421857610489",
         "-0.4771637431320659",
         "0.6794711086745941",
         "-0.12405652401508031",
         "-1.455585143038194",
         "0.5952251633518473",
         "1.5828937948808783",
         "-1.1809775765745516",
         "-1.2684009352126042",
         "0.3702327744621489",
         "1.4923021098539668",
         "-1.4823350449245585",
         "-1.2272733979661459",
         "-0.4125847162534313",
         "0.017395241842601113",
         "-1.3842667383232148",
         "0.09044077092528005",
         "-1.1481152977049978",
         "0.8988032094502567",
         "1.3346257115724234",
         "0.33656507643722516",
         "0.9278912576884578",
         "-0.31718887457183814",
         "2.1191182371059183",
         "0.4810295575528949",
         "1.265328165624058",
         "0.3362540705008503",
         "-1.3599532168833153",
         "-0.47952182974352037",
         "-0.021862462642706186",
         "0.35292357860458096",
         "-1.0481725456332263",
         "-0.05886404889501683",
         "-2.2257466485031223",
         "-0.38885903971181096",
         "-0.6560640633735512",
         "-0.5140810325515284",
         "0.8623133821069442",
         "-0.2889251440389275",
         "1.6726308529891614",
         "-0.23973881571296513",
         "-0.6945635445886584",
         "0.23307835051419137",
         "0.8070967476504063",
         "-0.2781005206016871",
         "1.2058839635290612",
         "0.14802004422661505",
         "0.2126236874324473",
         "0.578481694779253",
         "1.203755857966262",
         "0.5628796360756341",
         "-0.3115398018707457",
         "-0.8527161510717978",
         "0.2810359359709986",
         "0.12534501934961811",
         "0.45584020137998665",
         "1.4610756150719417",
         "0.715805287779538",
         "0.37233314873312784",
         "-0.3568572335155867",
         "-0.5243902147585691",
         "-1.4812092786938837",
         "-0.1364354098491926",
         "-0.42770716753964616",
         "-0.4612430134690416",
         "-0.5700545801165592",
         "1.4052996004961946",
         "0.16951731968882347",
         "0.8625909195808187",
         "-0.050094386215541596",
         "0.38518414196795475",
         "0.5791260827078923",
         "-1.2451106816398718",
         "1.878045089502759",
         "-0.20729407688213616",
         "-0.967942341200025",
         "1.205745065405794",
         "0.3057386637896217",
         "0.48758693622649696",
         "-0.61909020436486",
         "-1.447279537340104",
         "-0.04926219912862773",
         "1.853123156599762",
         "0.30132504397286214",
         "0.7696720202439455",
         "-0.5466901180775154",
         "0.37617572319997955",
         "-0.8442670501813939",
         "-1.013720607066011",
         "-0.7279226138531482",
         "0.5035785278237545",
         "-0.3903250381607485",
         "0.28222530174978827",
         "0.20837970598986205",
         "1.2215756532866462",
         "0.33689716832093336",
         "-0.33497660215996106",
         "-0.1651885707300813",
         "-0.13074358403656147",
         "1.175669273491005",
         "-0.7914678499299749",
         "-0.7407165017433385",
         "-0.4229429790292134",
         "0.8807836246229174",
         "0.8133465592575091",
         "-0.7289362180194997",
         "-0.7196144977247452",
         "-0.03452410368814043",
         "0.15000494775756157",
         "0.16816777807414135",
         "-0.5729381938533538",
         "0.5949369259744751",
         "-0.6888100383218214",
         "0.043479807746282406",
         "-0.6423196805514165",
         "0.4044789448979998",
         "1.2444621183395594",
         "-0.017226989459040037",
         "-0.6604245143750268",
         "0.665719825088572",
         "1.3440787915878392",
         "-0.38878897137143714",
         "0.35015274009980407",
         "-1.3218158150172443",
         "1.532095787119991",
         "0.31573562688426143",
         "-0.9302772060748795",
         "0.35372160973093025",
         "0.6263488502736857",
         "-0.70579704590551",
         "1.2607738386172118",
         "-0.13807733688959714",
         "0.9612766944978871",
         "-0.28085113523354477",
         "-0.8673926139005796",
         "-0.4753638400154473",
         "-0.06906679570156396",
         "-0.2808915730173384",
         "1.1517676241328398",
         "0.20833892625431052",
         "-0.09635683713549263",
         "0.08635174353837477",
         "-1.1982698791062554",
         "0.00662840120126036",
         "-0.40174068610957164",
         "0.6663754334974601",
         "-0.4916254106129367",
         "-0.006382426276662946",
         "0.9664968871007115",
         "0.264940965715464",
         "-0.45786014760345456",
         "0.01037019168619128",
         "-0.3210319961719021",
         "0.6412279698617036",
         "-0.40560177537839825",
         "0.3739187969328767",
         "-0.24075375066104832",
         "-0.9735721477286857",
         "-0.1302695041457241",
         "0.01272795817935708",
         "-1.5311412739723675",
         "-0.7659784662027901",
         "1.6628861487838953",
         "0.6909857244245464",
         "0.5338129019558325",
         "0.2627533602619346",
         "0.28892648052028014",
         "-1.8311616049130752",
         "-0.9913997672927444",
         "0.8850339969507212",
         "-0.057086258063315846",
         "0.6996988944097602",
         "-0.4922346625243656",
         "-1.1338226595951415",
         "0.3781145193684738",
         "-1.1981754700307836",
         "-0.3298514216662733",
         "-0.28552420143143514",
         "0.6951918590931826",
         "-1.5551587683923669",
         "1.1915827251164395",
         "0.2862689524192683",
         "0.6745326975139102",
         "0.9255655641122225",
         "0.7699081899431495",
         "0.22526526909482608",
         "1.0449733309773834",
         "-0.8318700919491971",
         "1.4694782109826758",
         "0.0625820046468788",
         "-1.8791417656793823",
         "0.21858121624146148",
         "0.16850155104243186",
         "-0.10872239233602399",
         "-0.684942361754835",
         "0.9933320332178517",
         "0.4193224587433702",
         "0.955005416092944",
         "0.6177102173753438",
         "1.448343594586711",
         "0.8146485620527768",
         "3.1287809949862386",
         "0.44118842311327167",
         "1.5303953832730797",
         "0.13083584505290216",
         "-0.33686646284498234",
         "-0.22122224341750152",
         "-0.7174810359343573",
         "1.0723689122644924",
         "1.9726048156033693",
         "0.315440253699246",
         "0.9968557018916921",
         "-0.42253459936016885",
         "-0.026214297838488554",
         "-0.35265363080682066",
         "-0.6579683910854077",
         "1.472450403094819",
         "-0.12180268094933694",
         "1.9133788177063225",
         "-0.5284100673803123",
         "1.257960880082234",
         "0.26593068901595274",
         "2.0432313244518707",
         "0.6254207632920343",
         "1.7269508659399007",
         "0.06420680326185377",
         "-0.16728479439240687",
         "0.27750079698274754",
         "0.2967549517971323",
         "-0.4735353558402736",
         "-0.4437023896999332",
         "-0.4496346609277716",
         "0.3887497071294265",
         "0.7208346938623114",
         "-0.487338592761996",
         "-0.4383283362411222",
         "0.3053680367719416",
         "-0.01110327958917151",
         "0.7897679606126096",
         "-0.4598566959660745",
         "0.4494502230835038",
         "1.8210368900937894",
         "-0.3543570316001215",
         "1.1644775736384818",
         "-0.8531279656079663",
         "2.040556164287147",
         "-0.1419998606393667",
         "0.86068886113265",
         "0.6800937319152391",
         "-1.1925695573536033",
         "1.7476214066731182",
         "1.7124455568115482",
         "0.7432120713289234",
         "0.13989813093627096",
         "0.15882249601370402",
         "1.4599955950067698",
         "1.5475870405085734",
         "0.3844534984963507",
         "1.4470332560301011",
         "-0.15697138217717707",
         "0.12375637151176966",
         "-0.861720337806202",
         "0.7524713122705223",
         "0.013443268596633706",
         "-0.019922784400965954",
         "-1.5269499813848402",
         "-1.2415983753856417",
         "1.264692518965061",
         "-2.0069852444143645",
         "0.8720785828759675",
         "-0.6257809543532897",
         "1.4081304417174458",
         "-0.06695618678215509",
         "0.860498348655726",
         "-0.5103000981023887",
         "-0.24023677006918887",
         "-1.6449546041462508",
         "1.6136664244497338",
         "0.629626420734652",
         "0.4499118314296778",
         "-0.7687099585574644",
         "-0.3573167577970905",
         "1.8097073955337932",
         "0.4145485145304739",
         "1.1564889773618499",
         "1.7215767958188855",
         "0.5090939073788336",
         "0.8622673496093309",
         "-0.35942403943339674",
         "-0.34167073864954356",
         "1.0345319881551949",
         "1.3410169727890682",
         "1.2086384136203003",
         "-0.8461093534446356",
         "-1.3751546397812389",
         "0.4939803720214738",
         "1.1458056484672345",
         "-1.3639960059561018",
         "0.6315298192716352",
         "1.4556242278597082",
         "-0.6550624243622104",
         "0.22501115604846583",
         "-0.6687917914242749",
         "1.7205310417269724",
         "0.5954941935206235",
         "1.1575964577100644",
         "-0.3301504719910294",
         "-0.30992969339543885",
         "-0.9942959517944792",
         "-0.6691456241546627",
         "0.3772976100411155",
         "1.2448979871496597",
         "0.5947446260146045",
         "-1.1380753250032853",
         "0.034866459931086224",
         "0.2895807165477302",
         "-0.7530312960502881",
         "-0.7557925093196867",
         "0.5871425949788422",
         "-0.9416697951117782",
         "0.965225577045017",
         "0.3949317440046447",
         "1.3513012701593523",
         "-0.530360143063018",
         "-0.15930626096558242",
         "0.4066026540471305",
         "0.727151400460945",
         "1.2234046655741704",
         "0.5717982773530008",
         "0.9481196902398379",
         "1.1723982241743358",
         "-0.26778123778185287",
         "0.9859760400323123",
         "0.6469119682325204",
         "-0.9302168973104803",
         "1.332782670081398",
         "0.4569512314830131",
         "1.7949448593241781",
         "-0.6211777335537276",
         "2.17097146528855",
         "-1.0151942074466807",
         "1.944924669087977",
         "0.9634535117257409",
         "1.1216519924691497",
         "0.17429819507351407",
         "-0.9124071085462407",
         "0.6668581864662548",
         "-0.10355681837144753",
         "1.5605154335077467",
         "0.3691609722289521",
         "0.9510187904040076",
         "0.021261279709547165",
         "1.6510983985256824",
         "1.8584490244216032",
         "2.159345422403021",
         "0.08199322258718189",
         "0.39775836488756633",
         "0.6387082522894704",
         "1.3420742082406194",
         "0.033333124112010115",
         "0.8636037567219782",
         "-0.4805770372889807",
         "0.11370628340111744",
         "-0.6354148831852794",
         "1.1744387519573705",
         "1.5948186013682324",
         "0.8624833336938322",
         "0.5398100121979421",
         "1.5583899807496293",
         "0.7044108933673101",
         "-0.3381461935273209",
         "1.8696658134939628",
         "0.6296640074513031",
         "1.0997475075070131",
         "-0.3555454642584137",
         "1.1608644097469736",
         "1.4710767727131653",
         "-0.12210122590166445",
         "0.8454320869832773",
         "0.6728454332364986",
         "1.1191548732650747",
         "0.369853241136599",
         "-0.8830692338128592",
         "-1.0114244477905852",
         "-0.022208141188185197",
         "-0.8497258391245187",
         "0.12836662599541598",
         "-0.439322605438461",
         "1.9284526416331977",
         "1.3925246952447474",
         "2.404994008509116",
         "0.7480456080239173",
         "0.6000807955942171",
         "0.7544891427444369",
         "1.2421505150168923",
         "0.6070202174207404",
         "0.6467219982695867",
         "1.8135868481340955",
         "-0.19525538007118864",
         "1.0721882094543944",
         "1.3767136919774787",
         "-0.4253308315278097",
         "1.8284857848071834",
         "0.9870329589300253",
         "1.0386406999118007",
         "-0.3974204315575972",
         "-0.624303314006901",
         "1.1514769615848917",
         "0.6231642963138221",
         "1.5947710491255798",
         "1.7216913330153347",
         "-0.08924804795594221",
         "2.094423604267292",
         "-1.679217713653526",
         "1.0984009208458594",
         "0.7994665152658946",
         "-0.16261231326752373",
         "0.39250030488119797",
         "-0.13807318875985863",
         "1.7710774735323098",
         "2.1066548054768015",
         "-0.5016572047047703",
         "1.215697989117028",
         "-0.10286251482168993",
         "0.8394644540007505",
         "0.11384072961464775",
         "1.315302529583883",
         "2.055202409662077",
         "-0.3055762695853669",
         "0.8898621627098176",
         "1.2296202146149595",
         "0.15474785140520164",
         "1.9848257330117183",
         "0.5726023182906163",
         "-1.2966424065128284",
         "-0.04354740345387928",
         "-0.8408424958376348",
         "-0.46106957488765665",
         "0.09366538852770029",
         "-0.28112436002741764",
         "1.8370801474078358",
         "1.354407531990627",
         "0.055771541579971565",
         "0.5518920208378388",
         "0.7198579764521491",
         "1.4899037608280499",
         "2.6045582968176015",
         "-0.5795049327260781",
         "1.9384404996417153",
         "0.26195675963530857",
         "2.0324997680367254",
         "1.2075766192456676",
         "0.9637972687328271",
         "2.074330262871147",
         "0.5717718669762455",
         "0.6478896622097855",
         "1.0495637034983722",
         "1.5307401828837661",
         "0.47238857753347085",
         "0.03326403531531508",
         "0.6011082007230573",
         "1.2900472178334863",
         "0.7112194267849131",
         "1.3827718176831216",
         "1.5414422576029825",
         "0.6737727553912493",
         "1.278313013651882",
         "0.8812049355411358",
         "0.6810393536013886",
         "0.4537967944761254",
         "-0.5815983730799857",
         "0.7343655993611498",
         "2.0211442211668813",
         "0.12483264756660337",
         "0.6229918947553035",
         "1.061834615174156",
         "1.730755609658755",
         "1.2334447643149107",
         "1.1015072980454932",
         "0.7434230695123032",
         "-0.3152287164231859",
         "0.4909776329976277",
         "1.1631932943217214",
         "0.3025955387340118",
         "-1.3185661837284586",
         "-0.09737462864654775",
         "0.35889660700928483",
         "0.6935916964817498",
         "0.39618735227283963",
         "-1.8942052724698824",
         "0.30221150879504044",
         "2.18088012085075",
         "0.39275107720282953",
         "-1.3851440810013758",
         "-0.7101390102381373",
         "-0.5116079700397091",
         "-2.331614889595864",
         "0.10062392870287937",
         "-0.35040685905619345",
         "-0.30356628560988486",
         "-0.1245198779678599",
         "-0.7220870652962595",
         "0.8550226175466351",
         "0.18395595565990241",
         "-0.5337816708776976",
         "0.44497732570647025",
         "0.3554909570905748",
         "-0.9549898635462258",
         "-0.1729492414932603",
         "-0.1744197128327525",
         "-0.5852320580301685",
         "-1.3567281886043006",
         "-0.616261955215969",
         "1.2663403292912816",
         "-0.6490159052310959",
         "0.8989850938978643",
         "-0.035304758723629086",
         "0.16767053712645497",
         "-1.224190737816975",
         "1.163948072449446",
         "2.0601595203382184",
         "-0.6981889706555503",
         "1.303517245649598",
         "-1.2692432874594684",
         "-0.053807406623551136",
         "-1.1723087237596117",
         "0.3774001153825871",
         "-0.204088560107882",
         "-0.050830426007030624",
         "1.3119437839263282",
         "1.2435256242688908",
         "-0.17220011881878525",
         "1.1072952849985969",
         "1.1503590992730988",
         "1.1094594289656554",
         "0.14774396882471671",
         "0.33059032295119606",
         "-0.2836484306722902",
         "2.3340186036833694",
         "0.39900449696548607",
         "-0.08214726037746994",
         "0.5031561916498383",
         "0.27162533233273817",
         "2.0624354417398196",
         "-0.02191707431189793",
         "0.7656781877604623",
         "-0.11948222995957768",
         "-1.6874968803759607",
         "0.00146337785154463",
         "0.853467362799368",
         "0.13595365019884945",
         "-1.1562418814269166",
         "1.5852682137493896",
         "-1.1896941642917034",
         "-0.7729802326502252",
         "-1.125054454841886",
         "-1.0362940327493027",
         "0.04499843828644571",
         "0.6109591443860034",
         "-0.5869402060671146",
         "0.5643435373215401",
         "0.7690798907071917",
         "-0.3289404230668314",
         "-1.5138046565396424",
         "1.5139577191309643",
         "-0.6706315317646527",
         "-2.2100773556682913",
         "-0.3890399934611727",
         "0.5837254513497268",
         "0.7336088871437448",
         "-1.1369813073942319",
         "-1.8487079996041584",
         "0.30589891325996654",
         "0.5169185188614688",
         "1.1179216404575767",
         "1.0032214790059968",
         "0.14667368279616705",
         "-0.9185878139290576",
         "-0.4826245627527641",
         "-0.24295758961378958",
         "-0.9153565844635783",
         "1.0809759726340844",
         "1.0278591725397515",
         "-1.3959646598345719",
         "-0.3216786850186118",
         "2.0621795674869676",
         "1.162882667165321",
         "0.18821315591920265",
         "1.095876144702225",
         "1.64939439336666",
         "0.09461049938334082",
         "-1.3569209704827763",
         "0.8596714251141628",
         "0.9114729184321336",
         "-1.005741729898254",
         "0.26051140486440433",
         "-0.7906607050559843",
         "-1.6447405163950308",
         "0.22069948878935314",
         "1.4521359996967975",
         "0.32123669116664744",
         "0.17688474901119988",
         "-1.332631226954604",
         "0.628274947456147",
         "-0.5535325797635506",
         "-0.7779862488323624",
         "0.8822300003034275",
         "-1.2156160780259797",
         "-0.21182131550736122",
         "-1.1478652570895498",
         "-0.2994822866166297",
         "-2.1921993235487176",
         "0.5416074996876918",
         "0.39017909638349657",
         "2.176838018357687",
         "0.2423391030888704",
         "-0.9021766348065031",
         "0.9916713955298866",
         "0.9689006830412491",
         "1.3067167917875127",
         "-1.9607819506561355",
         "-0.7010662350956945",
         "-0.9075672485983427",
         "1.5286142436283858",
         "0.8055415600043907",
         "1.1304565126625632",
         "-1.0849486974994642",
         "0.1325691328613363",
         "-1.6273504356748176",
         "-1.1023084549899709",
         "0.1235285310855199",
         "0.22170740183624796",
         "0.393356158008779",
         "-0.6502842444104747",
         "0.42537259937331434",
         "0.004610653250364213",
         "1.570032377099948",
         "-0.4266182063096213",
         "-1.8345451172040392",
         "0.6167740396892407",
         "0.3358489076433756",
         "-0.8898479715035699",
         "-0.32650094643948346",
         "0.19392727990442155",
         "-0.3793991936051957",
         "-1.1104486809246328",
         "-0.19970870728217982",
         "0.8843333014512376",
         "-0.36161830370781695",
         "0.21176030558451228",
         "-0.18146780613683075",
         "-1.2350669576501",
         "-0.10636281061775847",
         "-0.4452501711260947",
         "0.758522760195577",
         "1.235333602713092",
         "0.8816949867739097",
         "-0.735168565748204",
         "-1.1628022976506869",
         "-1.5136973867422139",
         "0.16936409114888765",
         "-0.7091660220176577",
         "-1.1129302023583465",
         "1.9618904383257065",
         "0.48621533535105",
         "0.3361767433302847",
         "0.2862753993194925",
         "1.6187751061005171",
         "-0.16703756231409356",
         "0.6178214367108462",
         "0.9033923870652917",
         "1.8577424250647527",
         "-0.0014701363428615138",
         "1.2346019275767963",
         "-1.8284134301926558",
         "2.1173938222388835",
         "0.4226077270212649",
         "0.7552643918183838",
         "-1.2838850395273982",
         "-1.3485806353547862",
         "-0.6461694272917509",
         "0.019804417949716855",
         "-0.25450698967172974",
         "-0.4099817327355612",
         "-0.19691432229551453",
         "-2.334648432903128",
         "0.42651289848529966",
         "-0.1698356789948283",
         "0.9511075732307411",
         "-0.47588498425126524",
         "-0.37202269400353505",
         "0.15808569326957103",
         "0.6840268215768511",
         "1.1506537600585223",
         "-0.040683424905821594",
         "0.42855466882033255",
         "0.03306995051474992",
         "-0.29387501644612113",
         "-1.9224364496606374",
         "0.20593123170975808",
         "-0.9106724011469379",
         "0.8707431836541557",
         "-0.868129120773943",
         "-0.56821679872475",
         "-0.8219414682442322",
         "0.5332414429574261",
         "-0.30322105817876127",
         "0.5683446757807048",
         "-2.6702271284784844",
         "1.9941523706515514",
         "-1.0103135248567563",
         "0.7686781736745383",
         "0.49995247221075756",
         "0.7116728188696327",
         "-0.8178015514821626",
         "-0.33896864186454323",
         "0.3983706869255614",
         "0.0039503234471526",
         "-0.909338949771676",
         "0.5733632194949106",
         "2.283721840669132",
         "-0.4217547578394051",
         "0.48814806757284435",
         "0.22785719527065695",
         "-0.3707988288531439",
         "0.8062840155617903",
         "0.7926204527310885",
         "-0.54981396025469",
         "1.4329955611747143",
         "0.010677929398177643",
         "1.075558548381656",
         "0.34433529467894797",
         "0.039582176729394875",
         "-0.008306989649794497",
         "0.6762101655267039",
         "-1.0999328150589245",
         "0.37132636667446534",
         "1.3102170461348361",
         "0.5105803477883324",
         "-1.746698967459786",
         "-1.3830431676549995",
         "0.021010181016552415",
         "-0.7869464105205086",
         "0.8896746006465885",
         "-0.47423863222674506",
         "0.5513167622466304",
         "1.9393662143129373",
         "0.023015086930088403",
         "-1.0118098032151206",
         "0.39583017564580286",
         "0.2827329382637853",
         "0.2500315756541496",
         "1.3680270104809766",
         "-1.186163002890721",
         "0.9994872469229096",
         "-0.6061873673699063",
         "1.3805927143352168",
         "-2.1222633329148812",
         "2.230617842299115",
         "-0.2708212499945207",
         "-1.2102786767469311",
         "0.9075475656202611",
         "0.5116418484221434",
         "0.45318904021769063",
         "0.9295989277346278",
         "0.03639293018048878",
         "-0.2925602865916899",
         "-1.1593916697846813",
         "-0.11385102713203896",
         "-0.511445758971778",
         "-0.008365226447497796",
         "0.11292544782587044",
         "1.7373739698838102",
         "-0.7473120128361594",
         "-0.1410541237345928",
         "-0.43540849111529684",
         "-1.402888383967177",
         "2.9117286334700165",
         "-0.936127994294005",
         "0.3693998456961535",
         "1.7002175277957596",
         "-1.2393795619138046",
         "0.8760595453385149",
         "-1.5393845143937046",
         "-0.802399510939533",
         "0.5613159475727262",
         "-0.272721379706735",
         "1.454518995108038",
         "0.12850457522107214",
         "0.5209967408572872",
         "-0.6898545185509769",
         "-1.0385380838372495",
         "-1.1559561749707201",
         "-0.9349463051504725",
         "-0.694947240547069",
         "1.1570997301590862",
         "0.4034019312289863",
         "-1.2777315302699095",
         "-0.41186708393120247",
         "-0.030359080123236997",
         "2.9334520945796987",
         "0.00857847187967956",
         "0.45362837192777467",
         "-0.9923667147335113",
         "0.7206488012121054",
         "1.3804492484643234",
         "-0.15082066576077904",
         "0.6154965327883579",
         "0.5754797453182802",
         "0.06945345233699242",
         "1.2909681507550168",
         "-0.7986893126542692",
         "-0.8721761929019336",
         "0.004450405359671165",
         "-0.37333958458391336",
         "-2.9114859425829245",
         "-0.7313358601238898",
         "-2.1300722101990512",
         "-0.32060206542942304",
         "0.7132338643090053",
         "0.054141001091698414",
         "0.13343064525223097",
         "-0.15555951271208615",
         "0.21168195656394406",
         "2.824932360751253",
         "-0.3521358682247301",
         "-0.013256111347752132",
         "-0.8645328823104445",
         "-1.9036914724143745",
         "0.26553228064013523",
         "1.1317440650892479",
         "2.3200471094186863",
         "-0.18754248644331387",
         "-0.25917843410325025",
         "0.9355367504589739",
         "1.7121942456607484",
         "-1.2357270809640188",
         "0.6645614606338417",
         "1.8278543085069847",
         "-0.2489527663569218",
         "-1.1581472631736716",
         "0.7852089964512324",
         "-1.3455245628476584",
         "1.1903257643480702",
         "1.9906717601105208",
         "-0.5001158236443324",
         "1.6580359309181243",
         "0.6312733148535311",
         "1.3859617977947436",
         "-0.649874192379198",
         "0.6234098802740308",
         "0.242183993654239",
         "-0.7856231703619004",
         "-0.3519345475012189",
         "0.576118484728053",
         "-1.124927099186805",
         "-1.2014500991349168",
         "-1.2770799218808868",
         "-0.775690261123371",
         "0.28628723585460575",
         "-0.506541047270765",
         "1.277693296994706",
         "-1.444019732511765",
         "0.5131005913816612",
         "-0.3669622102572017",
         "-0.1047719757484508",
         "0.6843748811686301",
         "-2.634485522936631",
         "-2.1377341980866547",
         "-0.0626644835156758",
         "-0.22249436692277513",
         "-1.428123794451288",
         "2.00518751061883",
         "-1.158594187114681",
         "-0.5322995776495899",
         "1.149999419677319",
         "-0.6750889837854201",
         "-0.8678481376652015",
         "0.3890657516108559",
         "-0.7431047150682665",
         "0.39484726791277036",
         "0.513075878851271",
         "0.3792607091986513",
         "64",
         "0.0",
         "0",
         "3",
         "1"
        ],
        [
         "1",
         "-0.4921608407929023",
         "-1.0724082357542115",
         "-0.8601418300380371",
         "-0.39871418139571435",
         "-2.343186284518729",
         "-1.838544644923969",
         "-0.5198760858281701",
         "-0.7045139445166996",
         "-1.8643408102787231",
         "-0.9818701412232904",
         "-1.9592330102856856",
         "-0.06778060652792023",
         "-1.9074874347245216",
         "-0.9136600057267598",
         "-0.45386540901214617",
         "-2.0471854640762923",
         "-1.5227139953019058",
         "-1.1690784168627482",
         "-0.4909990453768257",
         "-1.73647024449421",
         "-0.24209097691405151",
         "-0.7208835557772242",
         "-0.8023776082209756",
         "0.5009032976943648",
         "-1.0283125565322502",
         "-0.3585410559811806",
         "0.032117137182521474",
         "-0.8460254346988237",
         "-0.7540671150091496",
         "-0.1802717819822238",
         "-0.06544449677431545",
         "-1.1235830010158583",
         "-1.4005662998540875",
         "-1.2936521318478236",
         "-0.3625636623455034",
         "-1.9609405875205976",
         "-0.8666721147788268",
         "-0.09698993596039683",
         "-0.8044531501909405",
         "-1.2116972959941046",
         "0.0009127676924741225",
         "-0.9074789842259421",
         "-0.4932209554663139",
         "-1.2094788183240877",
         "-1.119981371553966",
         "-0.5929139471659137",
         "-0.5133851521491938",
         "-0.3199033960905521",
         "-2.188922445290718",
         "-1.7373437708996529",
         "0.06264077298481624",
         "-2.449552501064906",
         "-1.0572149007337701",
         "-0.3126164619665585",
         "0.4658393692770159",
         "-1.4391787601016082",
         "-1.8690843878837924",
         "-1.6283288678824455",
         "-0.9693398804399632",
         "-2.03589848398407",
         "-1.3736889988546248",
         "-0.9470287761472388",
         "0.43834332459752684",
         "0.058972600116142554",
         "-0.059073443948033745",
         "0.5322994007020521",
         "-0.2280394756219897",
         "0.28358778721283695",
         "-1.5690922706748114",
         "0.30376798619658313",
         "-1.3068655956202075",
         "-0.8497303821317264",
         "-1.0478300935496727",
         "0.4511176840784031",
         "-0.8104340323499087",
         "0.8260459936552497",
         "-0.9979701566919027",
         "-0.3080646450996867",
         "-1.1985697514630191",
         "0.7436747115327089",
         "-1.83658459368619",
         "0.27901042613532606",
         "-2.7951618360278854",
         "-0.41045007229165453",
         "-0.4594822873998932",
         "-0.30595134853658495",
         "-0.6210542232674509",
         "-1.1424318246020015",
         "-0.2551184509283653",
         "-1.3722817878397133",
         "-0.6425615720066346",
         "-0.43217042943258716",
         "-2.2272916828349776",
         "-0.7955902432957077",
         "-0.5505866471708686",
         "-2.68031235170846",
         "-1.4554758090053095",
         "-0.17496147274590565",
         "-1.6329876792835254",
         "-0.056412139553252895",
         "-0.42220997603350235",
         "-1.1962444833123436",
         "-0.7347015845911831",
         "-0.3066304545007299",
         "-0.2182722114768602",
         "-1.0211350935335697",
         "-0.536178695727091",
         "-0.2299448220490958",
         "1.0611132715208778",
         "-0.6255442295726679",
         "0.21755833599139754",
         "1.0246225225778751",
         "-0.918760882895332",
         "0.27031412480200795",
         "0.34933367476466437",
         "0.07244709987736656",
         "0.9431532278831525",
         "0.17218697400881364",
         "-0.17975961687480277",
         "-0.21714316220992658",
         "0.2901172863468282",
         "-0.564471515063906",
         "0.6937907009013327",
         "0.42778561126547615",
         "0.5141656389384861",
         "-0.3665513441970767",
         "-1.914703130010461",
         "1.2094964799793682",
         "-0.39677110778440505",
         "0.426756623683962",
         "-2.283102509044362",
         "-0.9612746177145481",
         "-1.1131709344983247",
         "0.9273297663371479",
         "-0.21216019143623538",
         "0.5535718256408227",
         "-0.26065941461332226",
         "2.561399587885939",
         "-0.28939990228050894",
         "-0.7197058272643915",
         "-0.17211084339770888",
         "-0.55801767478757",
         "0.5716452347525665",
         "-0.4311273108059981",
         "-1.2325826314373554",
         "-1.2642777353405332",
         "-0.49810134022879893",
         "-0.5976390108505742",
         "-0.9449937888603028",
         "-0.7595058319689857",
         "-0.10130117688506864",
         "0.4336602958369616",
         "-0.5312799413505099",
         "1.0174556618218935",
         "0.029941965152680973",
         "0.8352360919227222",
         "-0.2914992964729996",
         "0.04142942588183255",
         "-0.22878405193932985",
         "0.38622985106722907",
         "-1.5770829884987616",
         "0.32092609347587764",
         "-1.458215454258051",
         "0.7923903182096009",
         "-0.0070933602049575795",
         "-1.1768569449445392",
         "-0.7998552029790202",
         "0.14754349706153752",
         "-0.17742096503389201",
         "0.08662894965908682",
         "-1.5763774523269944",
         "-1.48575651061671",
         "0.3235998894365343",
         "0.23113199130556633",
         "-1.161105250137832",
         "0.02041558834347958",
         "0.2528367503696863",
         "0.6121848361434106",
         "1.7446713944462706",
         "-0.4709248703262004",
         "-0.8124615552250877",
         "0.04783323255178577",
         "0.31273298552669826",
         "-0.004771182198988759",
         "-3.6372409634455813",
         "0.28666546521897923",
         "-0.2438393047402038",
         "0.2463573246754373",
         "0.20695160758031267",
         "0.39835046194484064",
         "-1.1238535178298419",
         "-0.9422493049938981",
         "-1.1339069097935688",
         "1.115782062274137",
         "-0.8272491204805437",
         "-0.13757926468099912",
         "0.7360479428167005",
         "-0.787629104000732",
         "-1.4524653711441786",
         "-0.9590103932500084",
         "-2.455781647608693",
         "0.28879187665645045",
         "-1.2965970740020352",
         "-0.688240324992529",
         "1.5871888627696396",
         "1.7721438418033884",
         "-0.8373872291253548",
         "-0.23107918651517248",
         "0.3946072628335728",
         "-1.6754098170495406",
         "-1.4942504624976192",
         "-0.3723835923572805",
         "1.2703609091544803",
         "0.9151814385301812",
         "-0.288194359310017",
         "-0.34685269840277394",
         "-1.0390475609293295",
         "-0.9906226678146142",
         "-1.0449163570867017",
         "-1.283781311160085",
         "-0.07554047606334739",
         "1.2417296162792748",
         "0.18249952713773823",
         "-2.0673327879563614",
         "-1.4683494511737416",
         "-1.1744607357608898",
         "-1.2203510040957226",
         "0.30007163057395086",
         "-0.3284837441764589",
         "1.075493649028076",
         "-0.923662988664835",
         "-1.0132268873298418",
         "-0.7371818867958808",
         "-0.01394344102934287",
         "-1.964505244721099",
         "-0.5629300965851429",
         "0.9770357042533616",
         "-0.06112932283890175",
         "-0.4572241968761212",
         "-0.873008520347734",
         "-0.18296992074542984",
         "0.09100820145103741",
         "0.06128498004588169",
         "-1.4397869233964742",
         "-0.857349634138166",
         "0.5191454285851589",
         "0.7688408155340738",
         "0.7330294928270036",
         "-0.14571779531474707",
         "0.06774683057498453",
         "0.36244754322241185",
         "0.5498498488602114",
         "-0.12543422610387697",
         "0.25544084416198326",
         "-0.9439555357285416",
         "0.24015169405446993",
         "-0.8818456805146758",
         "1.2744173121398272",
         "-0.302221990774186",
         "-0.23567236533692845",
         "-0.3331568602217653",
         "1.3124586557867202",
         "-1.0115923648670166",
         "-0.6771191264173785",
         "-1.8979561442835629",
         "-1.32786617498707",
         "0.5177495208854956",
         "-0.3867149890933021",
         "0.09189206402068577",
         "-0.7281742313741596",
         "-0.0968726564980166",
         "-0.2753818983374843",
         "0.6721955308531821",
         "0.2384305215059615",
         "-2.010196209357503",
         "0.12549080767580328",
         "-0.6833932436342601",
         "0.11974456460529213",
         "-0.4659151375420783",
         "-0.5958903129051191",
         "0.3088001884714173",
         "-0.14408453864174653",
         "-1.0226535723043453",
         "-1.0275813806344578",
         "-0.7038511395217716",
         "0.24006527280618947",
         "-1.5543535983746433",
         "-0.5805997018472747",
         "0.5749593896791861",
         "-0.2493139880544868",
         "0.5097686514907961",
         "-0.5510101188326495",
         "-0.6430744116674006",
         "-2.1858031603454835",
         "0.4712360349695119",
         "-1.598872233908444",
         "-1.8959744955328381",
         "-0.07273417566456533",
         "0.049144608247514356",
         "-0.2739914075096806",
         "-0.6752234172784706",
         "-0.376394320978814",
         "0.1261298134735706",
         "0.4272578648361243",
         "1.8511943335839702",
         "-0.9173092027703237",
         "-0.9352943158316165",
         "-0.39988524510031664",
         "0.930102945809109",
         "-0.10728392782075197",
         "2.494252113757937",
         "-0.6431011960676327",
         "0.28743089553971485",
         "-0.790587178827661",
         "0.7068920620092172",
         "1.1168423581010445",
         "-0.36914320178925564",
         "-0.1452158132476723",
         "-1.7234413216885587",
         "0.7863681802123912",
         "-0.19091167468664177",
         "-0.15226698426123086",
         "-0.6299330179721787",
         "-0.20563904056995658",
         "0.29763041329571494",
         "1.8725377251161626",
         "1.0768353667573696",
         "1.1279084375995256",
         "-1.4820843115266966",
         "0.7200599430718915",
         "1.6182581430885583",
         "1.0355718866351307",
         "0.2646873931867128",
         "0.18611577320879524",
         "-1.215115580052896",
         "-0.6757034443015182",
         "0.47535566468903606",
         "1.5033782323383142",
         "0.6111435199918289",
         "-0.47280307727527016",
         "-0.2712807017798194",
         "-0.2003667218382157",
         "-0.08935285347946464",
         "-0.14170296068364707",
         "0.24502051280579842",
         "0.3034834466830638",
         "0.16248558111722103",
         "-1.3715477521976542",
         "-0.14424470468581707",
         "-1.0819772078188015",
         "0.6284841244897756",
         "0.7560889723699409",
         "1.427440228875548",
         "-0.84701818350244",
         "1.0096171458109193",
         "-0.77717847498596",
         "1.114356158237019",
         "-0.014083702972947892",
         "-0.053199781172320826",
         "1.2059763295456962",
         "0.9854087759586575",
         "0.18575139868230736",
         "1.139192551013669",
         "0.19029403375241383",
         "0.4344201559754173",
         "0.9624202252969327",
         "0.8619842217578677",
         "1.003853666606795",
         "-0.18921200329690308",
         "1.4560026170479787",
         "-0.14076696419906998",
         "-0.23324611786624763",
         "-0.25822326632148684",
         "1.155616514226238",
         "0.8452249918405105",
         "-0.32052666222701043",
         "-0.05910213346166232",
         "-0.7032584371945119",
         "0.19316441094947684",
         "-0.6980407262607027",
         "0.2859020702856326",
         "-0.3286875840275073",
         "0.6477535209694485",
         "-0.48071994970063625",
         "0.9845880872657184",
         "0.025859829648369026",
         "-0.4256662145174094",
         "0.7472915690044833",
         "-0.5133174122871943",
         "-0.4581316088269386",
         "-1.3101698100578447",
         "-0.6859986335657321",
         "0.15103294539266438",
         "-0.5386513286825564",
         "0.9904371839492361",
         "-0.8643569496488536",
         "1.3028734350170383",
         "1.1704630535310483",
         "-1.0088799826481119",
         "0.054837827069913914",
         "0.5059879341751247",
         "-1.742990146556362",
         "-0.5611149517319407",
         "1.3019997234740384",
         "-0.06107202612734808",
         "0.8794687815896711",
         "0.21791411920904352",
         "-1.6955919518148657",
         "-1.0396289524213556",
         "-0.849283956980451",
         "0.24558770795196233",
         "0.7731691175584333",
         "0.04634360364723475",
         "0.7603626081651689",
         "1.4833965687975774",
         "0.6869197752660392",
         "-0.46032416826409456",
         "0.427646601118781",
         "0.4912537671139473",
         "-1.1724770918032097",
         "0.997021438225058",
         "0.43561266029248574",
         "-1.2579854348785666",
         "-0.401420824805983",
         "-0.20186920944091175",
         "-0.9038840939013739",
         "1.4597287985878251",
         "-0.8064935388459284",
         "1.0684371670948873",
         "-1.305486890172091",
         "0.31897836504745525",
         "0.6144821148507142",
         "-0.34494212288517434",
         "-0.4262363960596152",
         "-0.8515484273291738",
         "-0.07123405364708352",
         "0.5976769783755506",
         "-0.5175866748696755",
         "0.9102530785960496",
         "-0.5048897633130407",
         "-1.543023151891992",
         "-0.3927397618901092",
         "-0.08953039352336677",
         "-1.1382333238013895",
         "-0.164303113501735",
         "0.3608389465265964",
         "0.6014089384097195",
         "-0.2712856721601271",
         "-2.342729026381471",
         "0.28420012144093626",
         "0.5608498414208005",
         "0.7369922032341212",
         "0.3866505514050334",
         "0.34479583520383783",
         "-0.25722316568777764",
         "0.2896278565789466",
         "0.06437986482793084",
         "0.7282265845351072",
         "-0.3294591035795032",
         "0.2631697004761234",
         "-0.9526446784082909",
         "0.4689533200058654",
         "-1.7388504284481299",
         "-0.9879481999659329",
         "0.5661033764061576",
         "1.867007515866315",
         "-0.5266436117559385",
         "0.6779503462833931",
         "-0.8645943481743789",
         "0.5935512192439707",
         "0.8644331897802436",
         "0.11973160946097537",
         "-0.5233556657251996",
         "-1.5834041873378377",
         "0.27990685781529795",
         "1.3367832020959993",
         "1.1757300059325873",
         "0.11638736312457301",
         "0.1324797954524944",
         "-1.1606315221377042",
         "1.5158672337273755",
         "0.9811881247452623",
         "-1.2296865047799643",
         "0.015326899707599762",
         "0.33291950440463686",
         "0.6725519481768123",
         "-0.9469410963724443",
         "1.701723604975791",
         "-1.2903795928639645",
         "-1.0852128551697107",
         "-0.9451674158518923",
         "-0.35618784293987404",
         "0.8437320557924204",
         "0.1669374744989485",
         "-1.734932109005881",
         "0.34210872515251634",
         "0.6336593507632657",
         "-0.7770928053537758",
         "-0.26055450863001406",
         "-0.9253929860751062",
         "-0.9461601550947305",
         "1.4149115637684377",
         "0.820078943419658",
         "-0.6217733666302829",
         "-0.36312512443322986",
         "0.7837175423872733",
         "-0.26807157033829454",
         "0.05146940158849911",
         "-1.7048297722801264",
         "-0.409890572768813",
         "0.4006399009265548",
         "-1.222098030310242",
         "1.4655872394233522",
         "0.230594533673526",
         "1.1010667515316357",
         "1.0236321000249045",
         "1.2280731355634253",
         "0.25056171157391904",
         "-2.023617605962487",
         "-0.5289925979170573",
         "0.16141920826313844",
         "-0.2705200937794484",
         "-1.2190356328291134",
         "-0.2054551041457438",
         "0.8826457232101094",
         "-1.0438052797572",
         "-0.24977001963863754",
         "-0.4341796182232361",
         "-1.6592244998244126",
         "0.2833286833860664",
         "0.2794113537676219",
         "0.2250610087214243",
         "0.39246491949250273",
         "-0.3245111320721097",
         "-0.42760837711025473",
         "-0.9796263916914092",
         "-1.697918161506241",
         "-0.2721972058939574",
         "0.01551826819236879",
         "0.19456797349518595",
         "-0.10553809627350047",
         "1.6612058657694948",
         "-0.38950619532253905",
         "-0.3984666107526714",
         "1.1852371690851062",
         "0.29070706756856884",
         "-0.1426615286586335",
         "0.4188776288722177",
         "0.1084004727749931",
         "0.6398343976030925",
         "-1.3164156480809055",
         "0.6407951472979059",
         "-1.388041207430448",
         "-0.2110370096587564",
         "1.1774506739503767",
         "0.54955589643475",
         "-0.7136756194341076",
         "-0.25804732694677474",
         "-0.6996698022311796",
         "0.75260126612748",
         "0.3160605757075129",
         "-0.29021487446327265",
         "0.9185785530985296",
         "-0.7583312074570931",
         "-0.8213202737180194",
         "-1.6184219023955648",
         "-0.15952927587258986",
         "0.2720785327414174",
         "-0.6302803264694112",
         "-0.28448136440070887",
         "-0.5632730919214737",
         "0.9654565496798819",
         "0.1495727269725841",
         "1.016340619688302",
         "-0.14607884869041501",
         "1.7588499123289132",
         "0.80927082012053",
         "0.7193396975338936",
         "-0.6067284071823824",
         "0.7982640069528857",
         "0.6320409132906031",
         "0.5476560324835629",
         "1.6777421976973088",
         "-0.4141932712126214",
         "0.2919503002503138",
         "-0.264014299769588",
         "-0.7691265562297109",
         "-0.1561107030666531",
         "-0.29850272718431775",
         "-0.02075509992709923",
         "-0.16059198149353437",
         "0.030213326156681514",
         "-0.8564399616813063",
         "-0.07358141228339427",
         "-0.3331884964514268",
         "-1.1695709144018576",
         "-0.2762746010077185",
         "0.15600926633352596",
         "1.1686014273499996",
         "0.8776019497924636",
         "0.7729549560873041",
         "0.7550538588513658",
         "-0.04271341752831562",
         "-0.8566653457174287",
         "-1.130019009284251",
         "-0.362192355585462",
         "0.701873209510385",
         "2.2383970509020945",
         "-0.02451130346800265",
         "0.28775604248072967",
         "1.1259443694702633",
         "-0.06381946039805207",
         "0.36874821311214706",
         "0.821983533413152",
         "1.1020267422023777",
         "0.05413754085686254",
         "-0.480591330981786",
         "0.20410231166939172",
         "-1.6973068941788014",
         "0.2937060510167577",
         "0.8668876501883923",
         "1.6982389277865035",
         "0.9246462340169596",
         "-2.566043061174605",
         "1.3917781393842896",
         "1.4669493128533355",
         "-0.920635332837652",
         "-0.40062046982398675",
         "1.4390684655252124",
         "0.055560842496194654",
         "-0.5875371727259994",
         "-0.7514578620195739",
         "2.634591683023007",
         "0.7874772772898468",
         "-0.27860197657114943",
         "1.42862344148415",
         "-0.09023225373510624",
         "1.2114098490900937",
         "0.5812324243404335",
         "-0.3386417897190676",
         "0.49830121220391116",
         "0.5387232731018622",
         "0.8008233394849259",
         "1.628415205095299",
         "2.211836984582178",
         "0.4111429710609214",
         "-1.9080161601825711",
         "0.8766529044413639",
         "-0.2607579920647779",
         "-1.6912225332644957",
         "0.6906950354182854",
         "0.43940302798259645",
         "-0.8055415670539293",
         "-1.1859242055458263",
         "1.3958226837559256",
         "0.5061571901151405",
         "-0.7909803733009538",
         "0.6625446300160622",
         "-0.42021918109100626",
         "0.5447671145056668",
         "0.31407886836122345",
         "-2.564456298171039",
         "0.10828571204230275",
         "-0.1665533091210247",
         "-0.7403236970239483",
         "-1.2640223547231157",
         "-0.2175160369569518",
         "-0.35273737947096195",
         "0.6514101331344041",
         "-0.1451605046199135",
         "0.0885838532066361",
         "0.3271651938194506",
         "-0.46391246425343624",
         "-0.9963555460286782",
         "2.2134369303421826",
         "-0.07771381762666774",
         "-0.20999817884021874",
         "1.413472019653336",
         "1.887129153432916",
         "1.4457005196937458",
         "-0.3903347531169171",
         "0.34727538205127967",
         "0.5845400096989919",
         "2.236834043309378",
         "0.42023145810328505",
         "0.46460858534334104",
         "-1.013118842781936",
         "-1.2552887038034348",
         "1.3543899527179375",
         "0.34581807597144615",
         "0.44728085874501167",
         "1.0735990583472208",
         "0.852306384115142",
         "0.72179237400314",
         "0.6359242904060711",
         "0.13868897079679118",
         "0.20911289939678052",
         "0.9160424501462482",
         "-0.9384045665390514",
         "-1.050420003902955",
         "0.08169695669308284",
         "0.14913296192919923",
         "0.7244597315676731",
         "-0.22229923251665476",
         "-0.7779129831776534",
         "0.6017569916156245",
         "1.3465928694668134",
         "0.36503869989314497",
         "-1.4539652172384632",
         "0.2755505215988735",
         "-1.9313823694114773",
         "-0.04108044869544307",
         "-2.0097709684539926",
         "-0.4301283410286595",
         "0.511051697208115",
         "-0.2854304882805991",
         "1.1487295795539394",
         "0.21907133638154325",
         "-1.1236416041549329",
         "0.9006686421474223",
         "0.689233914181355",
         "1.273822685989598",
         "0.7097332113619257",
         "0.4698888732274707",
         "-0.9929527079669784",
         "0.8131908200523116",
         "-0.1464341083963295",
         "0.8060614043062788",
         "2.2301373533689395",
         "1.2067574246043855",
         "0.28505011455609897",
         "0.07333987271094268",
         "-0.41772034421810594",
         "-2.3229721602082587",
         "0.04645939393473961",
         "-0.5137827682422301",
         "0.3219033697622228",
         "-0.5162598690753173",
         "0.22105495856882995",
         "1.2460652665131013",
         "0.15670537798508516",
         "-1.0861645740199688",
         "-0.8307826117586724",
         "0.6907097543211843",
         "0.7530771360555473",
         "-0.8716808970709823",
         "-0.02872454146057734",
         "0.9046807297574642",
         "1.7207674481675852",
         "0.1764223451849739",
         "-0.19905040020149906",
         "-0.3696742889419291",
         "0.14313154363680208",
         "1.3890720882152157",
         "0.1447608057736924",
         "0.4999975687015848",
         "-1.4216228737914707",
         "1.594386005038361",
         "1.3368591673331784",
         "-0.29613249963336197",
         "-0.10434807136567664",
         "1.17935992214075",
         "2.945283615101746",
         "-1.6847815288661228",
         "-0.5109387202054239",
         "-0.39419194719888545",
         "1.0409636940244178",
         "0.35437010006969877",
         "-0.51236320312539",
         "-1.4162371754192913",
         "1.0113007294575715",
         "-0.20025234275220244",
         "-1.157892358664248",
         "-0.6821996461709546",
         "-0.42519638745011584",
         "-0.29999510194062",
         "-1.0447235449246743",
         "-1.0321115663076403",
         "2.369527944882145",
         "0.3295048581083699",
         "-0.4114346327874573",
         "0.3779716999911433",
         "0.16055660823230242",
         "-0.9066561242857972",
         "-1.915441163379958",
         "-0.5308804678547092",
         "-0.18252165366597078",
         "-0.10955742974402245",
         "-1.831420998568151",
         "2.4800677513264406",
         "2.4027161704152618",
         "0.44482374821104265",
         "0.02549291704687626",
         "-0.5648209358559907",
         "0.5785264201381521",
         "-0.11700540463996753",
         "1.2522284492163926",
         "0.9140973392694091",
         "-0.8505739558696963",
         "-0.6877241523885645",
         "0.9696659936892763",
         "0.6946376421154914",
         "-1.1132255521065344",
         "-0.4571010227236717",
         "-0.15395981131001196",
         "-0.036753596982773924",
         "-0.07188412929907882",
         "0.8992393438514974",
         "0.1457741150172847",
         "0.08075133043694589",
         "-0.7567672314877402",
         "0.16755554681683393",
         "-0.028721065700476004",
         "-0.4798584111726032",
         "-1.1506670138486446",
         "1.2769477422782332",
         "1.7797225315354483",
         "0.24450215520223714",
         "1.4346002791465018",
         "0.22953467905450792",
         "-1.3868610066400873",
         "0.30029405604091963",
         "-0.33950481452931563",
         "0.47584712239934324",
         "1.5707910457448564",
         "-0.5067018140248695",
         "0.387505790580915",
         "0.8611238033136817",
         "1.3541859939423235",
         "0.9857706402040943",
         "-1.1149383370154053",
         "-1.1161068046896792",
         "0.7649269885327166",
         "-0.3846213397647568",
         "-0.9838569464596151",
         "1.1883426294115473",
         "-0.3696716219120286",
         "1.6303699678643075",
         "-0.4404756762443866",
         "-0.7468129034901453",
         "-0.0643534681613276",
         "0.7582690987509786",
         "0.29293065293044657",
         "1.8916787456941362",
         "0.171504271140268",
         "-0.1765261747258954",
         "1.5091550023564175",
         "0.5951958544566699",
         "-0.4135799112182045",
         "0.23860901917157276",
         "0.21816516260351151",
         "-0.2054322212753236",
         "0.18241603371614634",
         "-1.287612433537715",
         "-0.35601393436668527",
         "0.4312571325551229",
         "-0.5282475777024211",
         "-0.891540468669137",
         "-0.04064353017869637",
         "-0.47271926364088296",
         "-1.3220892299573153",
         "-1.2971249854208315",
         "0.40807991982766606",
         "0.09056695836743123",
         "0.3140309390700032",
         "-0.29864632351507775",
         "-1.5134080744793845",
         "-0.8741314088708464",
         "-0.32193850856292466",
         "0.4360900176154718",
         "-1.7486172823013755",
         "-2.3112065707765317",
         "1.4489172454379222",
         "0.5978803297540399",
         "-0.8760818929583751",
         "-0.23467408851832178",
         "-0.4212276276989218",
         "0.28966318724524426",
         "-0.5074109738396103",
         "-1.1486003197334387",
         "0.4893125612594527",
         "1.814396270327189",
         "0.5297880698896397",
         "0.0750742505549192",
         "-0.2142603960457213",
         "-0.7887447050163041",
         "-0.40756301049955806",
         "0.3923412645635019",
         "1.1872322624816816",
         "1.231893571543763",
         "0.1703713691568652",
         "0.18679664048434141",
         "0.052216578998490595",
         "0.571011262390567",
         "0.048093172373064846",
         "0.06446866147590742",
         "-0.8602279854075008",
         "-0.8840206781847068",
         "-0.6911437779980747",
         "0.23992281121075623",
         "-0.30640005395994374",
         "2.58237817423145",
         "0.3879299724509262",
         "1.5708075965021753",
         "1.4847456687555411",
         "0.42466982939195247",
         "-0.0408387338725837",
         "-0.8989923220060736",
         "-0.6018643648080313",
         "0.8403687069903425",
         "0.2696486656423348",
         "-0.6424499028120636",
         "-0.20742084062101093",
         "0.3294506316617543",
         "0.02480826310529934",
         "-0.23816948260912013",
         "-0.05479248250144378",
         "-2.4155276464234055",
         "0.018207222281558844",
         "-1.0582838928803346",
         "0.3634756791641688",
         "0.13396176931203937",
         "0.7484063159124907",
         "0.7581860625230913",
         "1.7196463812401968",
         "-1.9831339916078623",
         "-0.1260581608322323",
         "-2.0404748726121653",
         "0.49069658258386195",
         "-0.16703021637872326",
         "-0.47076108211525003",
         "0.2670184983739889",
         "-1.0528553780859133",
         "1.8478482218727244",
         "-0.24441658294753377",
         "0.07653326990535726",
         "-0.12852603702838436",
         "0.9224098505615392",
         "-1.2022046451072625",
         "0.8282087409684497",
         "-0.5185646664134571",
         "-0.5098333117201788",
         "0.8793929731628175",
         "-0.268202715120213",
         "0.6137818208145776",
         "0.6324537231817966",
         "-0.3491359443841101",
         "0.23293991346200435",
         "-0.48389592760434436",
         "-0.019565673893218748",
         "0.4736854475400116",
         "-0.9567537204624814",
         "0.44029322355647615",
         "0.31766332038000034",
         "-1.4889995160384568",
         "-0.7460775611629388",
         "-0.6914812516243625",
         "-0.4443883294429128",
         "-0.9558911672971551",
         "0.9391595622223367",
         "1.0605358991879983",
         "-0.7878772775792984",
         "-1.1541700078738424",
         "-0.013338914636468933",
         "1.330188636807397",
         "2.154199881883111",
         "-0.6745789990305296",
         "-2.2749597451435464",
         "-1.4874812944935634",
         "-1.7824588288014942",
         "0.41683955184530813",
         "0.09752781302759804",
         "0.2171905248478484",
         "1.1259304579860465",
         "1.6289389005837627",
         "0.8429558017671712",
         "0.7351932924007707",
         "-1.4740582797910942",
         "-0.5085943692683172",
         "1.3848215913074495",
         "-0.5496603375554359",
         "1.105554366736828",
         "0.12338076625790191",
         "0.7831859330888022",
         "-0.8718393511152747",
         "0.7631339337464994",
         "-0.6394774806839818",
         "0.23054550898461124",
         "-0.0290974396374469",
         "1.1920381030160472",
         "0.8320726284267983",
         "-1.765710603487542",
         "-0.8104001369297363",
         "-0.6358923020463834",
         "0.6917394602164902",
         "-0.49536086049603006",
         "-1.089365217697435",
         "-1.3646473642249206",
         "0.7273535887081081",
         "-2.0735351310913543",
         "59",
         "0.0",
         "0",
         "0",
         "0"
        ],
        [
         "2",
         "1.3324658501588986",
         "0.9109186903699678",
         "-0.14049904785181933",
         "-0.14592054559182152",
         "0.7542660606272781",
         "1.4670251187927046",
         "-0.975834942986473",
         "-0.03769195152572592",
         "0.04140799085609322",
         "0.014780518233544097",
         "-0.26354073933759864",
         "0.3487714291334362",
         "0.2860314841139958",
         "1.408547798149182",
         "-1.198923595101666",
         "0.1679540561615065",
         "-1.3723289199428756",
         "-0.08415908101305848",
         "0.9503851872864127",
         "-0.6249726623713868",
         "-1.568793020199382",
         "-0.29232236786682214",
         "1.8734682937390006",
         "-0.2702500396136853",
         "-0.6958634782392978",
         "0.3457309772946027",
         "-0.669890438829091",
         "-1.71224146629464",
         "-0.27254000375323534",
         "1.9127640847599747",
         "-1.131286387501446",
         "0.3233977907964064",
         "0.8910471481870195",
         "-0.14792388840523335",
         "0.15196180827697064",
         "0.6492680925674909",
         "1.971980345631193",
         "0.11938608265127082",
         "-0.7662529991706728",
         "0.31675088862591144",
         "0.29846960582292703",
         "0.7007887233397088",
         "0.005485905603406095",
         "1.131803095259948",
         "-0.7820831869877377",
         "1.9128815054731823",
         "-0.9487353460063607",
         "0.35982139892070253",
         "0.24328678248116445",
         "0.3574589009577298",
         "-0.3962235444334768",
         "0.832778302226707",
         "-0.08982672831591026",
         "0.4810389582595155",
         "-0.6213435773748643",
         "0.0730114013114776",
         "0.8106369322329658",
         "1.1796212094056462",
         "-0.30121504203149385",
         "-0.08041598846090156",
         "-0.24855539086269265",
         "0.7200542048747234",
         "0.35219264791304417",
         "0.7048458633963764",
         "1.1911059204721506",
         "0.403344014247521",
         "-0.8449519461151933",
         "1.320779523697489",
         "0.5411541176386231",
         "-0.37181299149198443",
         "0.5949869053105945",
         "2.2426167104319803",
         "-0.7522996850708518",
         "-0.6758511269292692",
         "0.9261451895268575",
         "0.9497265495573807",
         "0.7700558381581355",
         "-0.13982757891467276",
         "-0.18557356980255596",
         "0.24529495010500418",
         "-0.39196961557381366",
         "-0.18115378321379919",
         "0.8664406574283172",
         "1.019419013596249",
         "-1.3161191380200512",
         "0.8499984610927742",
         "-0.08611961142140268",
         "-0.9951598164129309",
         "-0.5669310783653926",
         "-0.38103649779562165",
         "-0.1595146986408693",
         "0.42682026913770743",
         "0.7344626511177974",
         "0.07006213425731314",
         "-0.4318765885326348",
         "-0.5516152667698636",
         "0.8985561625756835",
         "-0.4627473549811082",
         "1.2378658469922847",
         "0.1318224520219772",
         "-1.508007707659736",
         "2.018792391991481",
         "0.6384551242981554",
         "-0.6788416613723645",
         "-0.944640014650838",
         "0.5605499305037529",
         "-1.0649163832438155",
         "1.1170802081899347",
         "-1.0326040173462228",
         "0.14692457554690722",
         "0.3255834387481184",
         "0.9218347386851671",
         "-0.15782499268350256",
         "-0.6840897428582996",
         "-0.6433653420439711",
         "-0.07905893915707686",
         "-0.12104066150306661",
         "-0.8277534801658425",
         "-0.5114040992588269",
         "-0.5025693008652538",
         "1.1574436923214175",
         "-1.1774737959142763",
         "-0.2455718686078187",
         "1.6888063495769143",
         "-0.5193034335480251",
         "-0.7776621655616712",
         "-0.5711332636575391",
         "-0.4033930007837521",
         "0.6843611903566799",
         "1.3631462042422995",
         "0.10410448775605002",
         "-0.09027444091045714",
         "-0.6418495701088847",
         "-0.8627391853448053",
         "0.18873024851943496",
         "0.18205232026448837",
         "-1.5444598366829478",
         "-0.5454494479164388",
         "-0.5843894246131723",
         "0.5638024741732683",
         "0.4944157562365656",
         "-0.3138713686263904",
         "-0.6272169538937585",
         "0.0879949277799803",
         "0.08650639848318165",
         "-1.3479681547138773",
         "-0.580760351958077",
         "-0.47218537097884966",
         "0.27317585465296806",
         "0.04230412047814805",
         "0.6491844268377754",
         "-0.24038010751411082",
         "-0.19122394085046632",
         "-0.20318848046486024",
         "0.43746230629691235",
         "0.6958875015476768",
         "0.10191143260504332",
         "-1.1618852574066536",
         "-0.9043300480791199",
         "1.0151419284022338",
         "-1.5769035621625869",
         "-0.9287807392744253",
         "-0.7158560030272891",
         "1.0030087754377415",
         "-1.2086458783933143",
         "-1.5976356806009464",
         "0.18274785072551958",
         "0.05871218196737616",
         "-1.9062490093616165",
         "-0.29383103457361426",
         "0.7206809394343987",
         "-1.4921084166687444",
         "-0.23200067606613253",
         "0.18769865964205018",
         "-1.1183585798813207",
         "-2.5138156733962504",
         "-0.5323808432321506",
         "1.173795146388127",
         "-0.7104305587600991",
         "0.3166746512948686",
         "0.49241641251839363",
         "0.8554979998230016",
         "0.03953162031588364",
         "0.47590113816590496",
         "-0.04863780586544747",
         "0.014776077766475966",
         "-0.8932339054152567",
         "-0.8869631320031595",
         "-0.7137282745792316",
         "-0.3022623428317293",
         "0.06648737345259274",
         "0.007882559505041962",
         "-0.7228612999401106",
         "-0.4275030655194258",
         "0.5271995340226827",
         "-1.1288566258281514",
         "-0.9404702846103521",
         "0.6989138021372021",
         "1.3172389218670348",
         "0.19437879309268796",
         "0.3334825916485552",
         "-1.316469330322972",
         "-0.2593644149152349",
         "-0.17718486647708792",
         "0.5275891681315406",
         "-0.4589765250925113",
         "0.06745651436691354",
         "-0.39691687985074836",
         "0.9455983280735102",
         "-0.4324885945993386",
         "-0.16399941907275073",
         "0.857589699852021",
         "0.22899090878005754",
         "0.18273928040891263",
         "-1.0117210973870552",
         "0.32473478292424174",
         "1.39397995757922",
         "-0.150615636904321",
         "-0.1769900260795466",
         "-0.7453138118081282",
         "-1.3223287268773938",
         "-0.9541338869402034",
         "-1.316712433709694",
         "-1.0132334539688608",
         "0.3984463393578425",
         "0.7554723906910007",
         "-0.004630883343511168",
         "-0.47738930839164384",
         "0.6945977594825539",
         "-0.8493019294471368",
         "-0.1964973843781387",
         "-1.8888412090183384",
         "-2.239519483257556",
         "-1.45875204698963",
         "-2.0972153824885225",
         "1.8980059769201965",
         "-1.3388789025780243",
         "0.45434937518775353",
         "0.15218068927112835",
         "0.3696255034964915",
         "0.3239495558094693",
         "0.8878561585689915",
         "-0.11391048542793551",
         "-1.2017685370258417",
         "-0.95191821736465",
         "0.6200745255174385",
         "0.9448226039841968",
         "-0.2809225412393826",
         "-0.10632824727170369",
         "-0.011458549474239592",
         "1.3484232709573243",
         "-0.49725562456139716",
         "-1.4198260215247338",
         "2.1493753770891453",
         "-0.4931735039776739",
         "-1.4106826326711874",
         "0.09842390049326794",
         "-1.0688564225345871",
         "0.13863418998545116",
         "-0.9589986325870984",
         "-1.3109581859037618",
         "-0.21615907559721498",
         "0.11862974904302805",
         "0.8497617400705557",
         "-0.420782434999039",
         "0.0895848299289954",
         "-0.027569805407833103",
         "0.2263575333471022",
         "-0.2568363941168744",
         "-0.39672789620996124",
         "0.23312935898010162",
         "-0.05447803016201937",
         "-1.1195936655675158",
         "0.9787992021638472",
         "0.7043878248543175",
         "-0.6535448418279519",
         "-0.16948547658146312",
         "-0.8867053988490378",
         "0.8710799084329822",
         "-0.6097279430249422",
         "1.1694768020248467",
         "-0.25338006466289775",
         "-0.927135096571194",
         "2.3510183081022253",
         "-1.3093508727875869",
         "1.8708763227734881",
         "-0.17293082254921682",
         "2.0364094492178655",
         "1.125695705485185",
         "-1.042374326592036",
         "-0.6631297438709337",
         "-0.6322918611222667",
         "-0.07460387657779019",
         "0.2573301926488272",
         "-2.076129280205253",
         "-0.31442008873264665",
         "-1.4001117208437377",
         "-0.09527678798965156",
         "0.6492221509744598",
         "-0.4426854397283402",
         "0.9655660575036891",
         "-1.108579479754367",
         "0.796351271344008",
         "0.47676430803681813",
         "0.10720893802489066",
         "0.9318406269871338",
         "-0.12012992308349874",
         "1.5705396109054228",
         "0.36346232659088745",
         "-1.3189352924669115",
         "0.07235280713425216",
         "-0.12956110503523308",
         "0.559663675097898",
         "-0.728661083061475",
         "0.3361980722968626",
         "0.6544660046823675",
         "-0.012169102588336977",
         "-0.5229751757697692",
         "0.696711508863567",
         "0.5283214163240766",
         "0.49381510253045935",
         "0.7197345504504545",
         "1.2111589632670319",
         "0.8058426700417511",
         "-0.8664618236024638",
         "-1.5026258943678021",
         "-1.0593833793432013",
         "1.072797825655576",
         "1.9278847386547198",
         "1.6593358381191565",
         "0.5248679832099333",
         "1.5263916912261988",
         "-0.3889739068011504",
         "0.8426798607800888",
         "0.44990850814260996",
         "0.1346744965197696",
         "-0.10312127949196448",
         "-0.44928672315020207",
         "-0.3661370583142178",
         "1.0158248191450168",
         "1.5107229294599211",
         "0.30910970665957593",
         "1.5567480619309881",
         "-0.6536863131880164",
         "0.277536147888935",
         "0.804111826079185",
         "0.5781664938685072",
         "0.5189134094340034",
         "0.5108878389436635",
         "0.8901698067125331",
         "0.7729089973146464",
         "-0.011369559925979295",
         "0.04890241276893115",
         "0.2837342056628467",
         "-0.7905688321091504",
         "0.4242804449067076",
         "-0.7947647210659794",
         "1.15143532165633",
         "0.06564217610587622",
         "0.2467455089972166",
         "1.8926569373507718",
         "-1.6089044802100856",
         "0.1633149831072231",
         "-0.3812757427266618",
         "-1.017542669709549",
         "0.9214548655285089",
         "-0.7397094085169706",
         "-0.7324984265270073",
         "1.8179346382004153",
         "-1.194206033362894",
         "1.1624688938812655",
         "0.6318044686629277",
         "-0.054889195670859287",
         "-1.0825549747064565",
         "-0.2765739085416899",
         "-1.0317960565508597",
         "0.9145518629193464",
         "1.5418870968004053",
         "0.05417307074652411",
         "0.12429155945042603",
         "-0.576766640905811",
         "-0.7956010769201957",
         "-0.824176217523839",
         "2.474245113922644",
         "0.23018242933271743",
         "1.5704142180914282",
         "2.3072755000090788",
         "0.43832908680942995",
         "0.9428697551883328",
         "0.948804933768989",
         "0.04778763736849265",
         "0.5402403391464421",
         "0.5945245267296341",
         "0.7784020426067771",
         "0.8641416141829755",
         "-0.16795048497818263",
         "0.8334611130537094",
         "-0.3988834153896405",
         "0.7565733081379111",
         "2.020894483728144",
         "1.003210062264878",
         "0.10292118425596086",
         "1.1459323288745342",
         "2.0618182145198696",
         "0.12743885592768164",
         "0.9467544530437532",
         "-0.32047612796659847",
         "0.37107582039052067",
         "-1.5521341748006192",
         "0.46906047491954417",
         "0.9604718891768769",
         "-0.2478711372258417",
         "0.5355942555754287",
         "1.9105854761400654",
         "1.0203016651048264",
         "0.38338286031425484",
         "-0.11744783144548493",
         "-0.20515909243427566",
         "0.9434740188466397",
         "-1.0575904961497145",
         "0.10502075012213333",
         "0.49223413008094946",
         "-0.10046343689284076",
         "-1.8034112483446827",
         "-0.7438105024971114",
         "1.3753683207241612",
         "0.4321226486734562",
         "1.3524722850432007",
         "0.832271373223481",
         "-0.6209122050624835",
         "-0.802473514797314",
         "0.1483308391416692",
         "-0.20189943319814613",
         "-0.6792668560254316",
         "-0.6270147408808835",
         "1.5593338582272522",
         "-0.6243586859639776",
         "-0.9447218293472569",
         "0.07689925542353171",
         "-0.5068905517298861",
         "0.5206547472380936",
         "0.6012488858173717",
         "-0.17046457211150903",
         "-1.421520761745582",
         "-0.2776202010755915",
         "-0.04766659790689198",
         "-0.5706930257042471",
         "0.6133017564872709",
         "0.7139070620811228",
         "1.4463683097114681",
         "0.38059421136129745",
         "-0.4716912000179448",
         "1.5492168184705881",
         "1.4167266674894667",
         "0.8417851461133541",
         "-0.27308201019568995",
         "-0.42594343878556773",
         "-0.0494349674969746",
         "-0.29079898301435936",
         "-1.8028942019167138",
         "0.0961962354061541",
         "-0.3781439950023345",
         "0.39613914089380586",
         "-1.4395902479296099",
         "0.3637900956390623",
         "-2.421962092066841",
         "1.252426278108468",
         "1.3123307888507694",
         "0.30270581039458644",
         "-1.290382625021499",
         "1.2398549810493986",
         "-0.7745785716308051",
         "0.06548786075255335",
         "0.7460306199787621",
         "-0.47678967005685224",
         "1.0033101404170364",
         "0.038812831947163784",
         "0.03094755387166989",
         "1.6365517821747813",
         "1.8018874625877161",
         "0.32078879018103945",
         "0.8417167844719939",
         "1.6835110356376162",
         "0.21580427052563955",
         "0.2776422528567231",
         "-0.7847606070819119",
         "-0.8074268007548653",
         "0.5181474239507622",
         "1.1593948062311186",
         "0.2146601664508217",
         "-0.09103147706540807",
         "0.29231313802469655",
         "0.7798516597623946",
         "-0.3355415319390508",
         "-0.2838961811611818",
         "-0.21872876741421318",
         "1.3350058814100676",
         "0.21053948912008646",
         "0.7568582161055979",
         "0.5467733812926006",
         "-0.022975030869174042",
         "-0.23346339380763936",
         "-0.1531986201282753",
         "1.148370708779583",
         "1.3333840696377777",
         "-0.4308365569329987",
         "-0.02299050057764443",
         "0.4556850353845938",
         "-1.0039568325359687",
         "-0.3122374126676634",
         "-0.1306053834179478",
         "0.21014914474891921",
         "0.6819751364057677",
         "-0.4393028375142042",
         "1.605220155776714",
         "0.21619017346030628",
         "0.8667687181860408",
         "-1.0347506883856994",
         "-0.2183234409281507",
         "-0.30795403699414103",
         "-0.6211262482005505",
         "-0.8628351296813783",
         "1.6808654003584886",
         "0.6293778678334545",
         "1.130076351844202",
         "2.2185227700961367",
         "0.32214426801070867",
         "1.447829942603931",
         "2.4956597098728577",
         "0.07636948128945822",
         "0.7120258437891149",
         "1.2510823313889305",
         "-1.0497402119601142",
         "-0.07397952183086975",
         "1.0313792715247019",
         "-0.6696911402558967",
         "-0.8889853495080411",
         "-0.38177189642894316",
         "1.4597758005666512",
         "0.9438014870726392",
         "0.829711480697516",
         "-0.3657272505159669",
         "1.848593500022479",
         "-0.16782697972433566",
         "-0.7194979122927827",
         "-0.4947510700274518",
         "1.0350755443044806",
         "0.28061802848673895",
         "-1.2195449287945108",
         "-0.7300301258746199",
         "0.28244447419360064",
         "0.0413747767978252",
         "1.4050668744116024",
         "0.5703473776277492",
         "-0.059623412245773666",
         "0.22036993765279445",
         "0.7012295036223654",
         "0.3661485779765097",
         "-0.4064211788129419",
         "0.814510057486826",
         "0.03984946844788528",
         "-0.8754137694010946",
         "-0.32293666899014783",
         "-1.0490314362831559",
         "-0.6544413796134199",
         "1.3833388381834377",
         "1.18106680930472",
         "-0.4232375548338372",
         "-0.5012139231275924",
         "1.590147506384417",
         "0.08114626012563358",
         "1.8365651009257025",
         "-0.38164807635772335",
         "0.1829735814230916",
         "1.898996108710425",
         "1.543711005983855",
         "0.6235597843640743",
         "1.112532347024527",
         "0.18500405053582974",
         "-0.7739888370242327",
         "-0.3614593893507282",
         "0.602025118728006",
         "0.26514504261488864",
         "-1.407470291117319",
         "-0.18347224206169047",
         "-0.021114304045961596",
         "0.9635347240047979",
         "-0.8670564841817767",
         "0.12411841966507953",
         "1.4743222030435374",
         "0.43745929013690105",
         "0.9169931571744744",
         "0.734401461044348",
         "1.4125901432700698",
         "0.8441556512354212",
         "1.5005620611378747",
         "0.8110521580374711",
         "-0.11998441375745383",
         "-0.5968580639544733",
         "0.39049370516367976",
         "0.3840835513784259",
         "-0.1890707256650599",
         "-1.2757205386360202",
         "-0.45737817667942665",
         "0.23177388113893785",
         "-0.5744994952360589",
         "-0.45492591393447657",
         "-1.12217000862082",
         "-0.7433359609401337",
         "-1.466552539160758",
         "0.2766015198650931",
         "0.04981024509305132",
         "0.09450818407615455",
         "-0.3606082422828364",
         "-0.5906665931116374",
         "-0.2979147401539012",
         "-0.42630413251710836",
         "0.15319001060452314",
         "1.8329829110272806",
         "-0.1891894886937294",
         "-0.5919207014561151",
         "-0.24926822492626505",
         "-0.4922783250283979",
         "-0.4962451068694604",
         "-0.5843534663517765",
         "0.6850006594141598",
         "0.6721108269833836",
         "0.9023691592935845",
         "1.1140839676800927",
         "-0.36459297588931233",
         "-1.5677030953731914",
         "1.9695694157001322",
         "-2.257507902728013",
         "-0.34165736395135593",
         "-1.4265327339033218",
         "0.40282442218692127",
         "-0.9568670782810847",
         "1.1316142769869473",
         "0.23246699924840586",
         "1.5114114255928863",
         "0.10157897664310406",
         "1.1592787004910745",
         "-1.0856127778172229",
         "0.9850740888744817",
         "-0.13502228864237542",
         "0.23787845799334043",
         "0.9275129276520012",
         "0.3865640154276916",
         "-0.7906037359992525",
         "-0.489471060892",
         "-1.0576619236231106",
         "0.715303773131943",
         "-0.3457070133821877",
         "-0.44878271215328264",
         "0.20252310809917615",
         "-0.236918986088107",
         "1.1689112677349385",
         "0.7850835148221277",
         "0.7229013583576049",
         "-0.41525026204330456",
         "0.7098161536238048",
         "0.5034042606058374",
         "-1.216221041199581",
         "-0.24614955888566495",
         "-0.17130289148863045",
         "1.4954869624796825",
         "-0.4198026537876108",
         "0.4824135066056559",
         "1.3009668004988915",
         "-0.922553959783084",
         "0.27940667959618726",
         "2.0324639380071483",
         "-1.5687689208582711",
         "-0.6068264682477886",
         "0.27291924059382094",
         "0.3643314895219217",
         "0.1574101026615636",
         "0.5457142313681129",
         "1.2609568334566754",
         "0.054246805003976044",
         "-0.07424365778935792",
         "0.5946317785228351",
         "1.989944744851028",
         "0.5999703216767378",
         "1.0388241321208118",
         "-1.5731916229767338",
         "-0.17959356617790906",
         "-1.2136507782464796",
         "0.01522696134621649",
         "1.4269456671256797",
         "-1.291775554286186",
         "1.7371194393547122",
         "-0.004623599600308954",
         "0.8927676780610867",
         "1.028804898538873",
         "1.9955297739727123",
         "0.5811072612247525",
         "-0.8718585904200516",
         "1.012457168765443",
         "-2.670552107449115",
         "-0.9073404360101313",
         "-0.5805757485763929",
         "-2.103722170096377",
         "1.684041615047857",
         "1.3290900318418735",
         "0.45100882440935225",
         "0.9797129478824252",
         "0.36630079015723593",
         "0.8639266777318827",
         "1.2624075129596672",
         "-1.4461702504530074",
         "0.9153801962682223",
         "1.129195042572843",
         "-0.5905359121816606",
         "-0.23110406040425852",
         "-0.7752837606350828",
         "0.3111394844254535",
         "0.39082019316075695",
         "0.19581342736612625",
         "-0.7664196162720651",
         "1.371785059209441",
         "-0.58181993538449",
         "0.5526473402987847",
         "0.7884940395118085",
         "-1.7115330195736256",
         "0.3348869416977363",
         "1.253601024221657",
         "-0.014150219774448152",
         "0.8989839779803058",
         "-0.6780547361320716",
         "1.054212726680859",
         "-1.1370102212620443",
         "-0.021867061553523276",
         "1.2349085365937245",
         "1.179594538636602",
         "-1.2997070861778348",
         "-0.2140329862488127",
         "-0.5994866333236786",
         "1.1797290486145413",
         "-0.07449550279746395",
         "0.14828969231003072",
         "0.48184474280282746",
         "-1.2138536232248165",
         "0.2989819242356935",
         "-1.0101690837968853",
         "-0.4897680202028495",
         "-0.4434674117093631",
         "0.4840089430460765",
         "-0.7928603977875959",
         "-0.4745239731639439",
         "0.3240318210580321",
         "1.3853047914438188",
         "0.43761119404426113",
         "1.1306020451532313",
         "-2.1239765759881615",
         "1.4351838122476244",
         "-0.8573492603447352",
         "-0.6087870582602279",
         "1.9414492808419335",
         "0.17031188059896274",
         "-0.7498458002477512",
         "-0.6117496411839325",
         "-1.3831704579801696",
         "0.014604542718500035",
         "-0.3359836366435132",
         "0.669445094679987",
         "1.718953888983252",
         "-1.253878325700042",
         "0.5959536625465829",
         "-1.5332351230310794",
         "0.4347919360966967",
         "-1.173386017208391",
         "-1.3466076678028607",
         "2.5505790300740894",
         "2.1479403669437915",
         "-0.7079719387012869",
         "1.9021408312774681",
         "-0.039562131270265546",
         "-1.3708698152593324",
         "0.6494148749214275",
         "0.9492458684364514",
         "0.7524325713207451",
         "-1.6898417849983305",
         "-1.1431480002598604",
         "0.9370587842650429",
         "-1.1522294466168794",
         "1.0182609109705156",
         "-0.3628638571644851",
         "-1.6445563851262204",
         "-1.318970173459855",
         "0.4540898277076492",
         "0.5018598297808154",
         "1.561847126383295",
         "0.019982433617494782",
         "-0.1993310186409796",
         "1.797561912754201",
         "-0.839399266083205",
         "-0.2833022004259963",
         "0.47479320311061185",
         "-0.895710323618161",
         "0.44660657204486776",
         "0.004401556037628459",
         "1.1351695434365432",
         "-0.41793281401589677",
         "-0.6386630372681603",
         "1.918958807247697",
         "0.8514938326487544",
         "1.0863201679487553",
         "0.8355523471654996",
         "-0.6739804215511336",
         "-0.9597249810418823",
         "-0.9491078029964591",
         "-0.5754333485387222",
         "1.2001876732072432",
         "-0.025677031671866794",
         "0.9398971503739207",
         "0.8232515186369807",
         "1.6023544315792044",
         "0.8014561420200572",
         "0.21292827349324686",
         "-1.298762706935586",
         "1.9412786433235714",
         "1.064720261549007",
         "0.4241929641710861",
         "0.21253579096173109",
         "-1.7804975471844098",
         "0.42192343703568447",
         "-0.5302334658608626",
         "-1.6399023925387357",
         "-0.48421136875216425",
         "0.24099961344832155",
         "0.373478254403998",
         "-1.1783302351009997",
         "-1.3620848531108765",
         "-0.3028344441102399",
         "0.5707419823867655",
         "-0.792935379570283",
         "-0.44443188426634406",
         "0.1882556978086195",
         "-0.8204781619526664",
         "-2.0066285981136898",
         "0.31073088338304117",
         "-1.746705674184988",
         "0.33015682405024716",
         "-0.22099724085841874",
         "-0.2287690140127906",
         "-1.1029108791801001",
         "-0.33198679577983764",
         "-0.8786404686192117",
         "2.847894090137142",
         "-0.8038691695930398",
         "1.0385325618398076",
         "-0.5652047688258828",
         "0.24312007336092806",
         "0.007610793915670173",
         "-0.1653938487843073",
         "-0.19676213306550608",
         "0.24749529466096648",
         "1.376427384917393",
         "-1.1312365657551362",
         "-1.7682399270894167",
         "-0.8304232550053544",
         "0.12788098223946692",
         "-0.2958272504325531",
         "1.5420111848941909",
         "1.4197706649576216",
         "-0.4546590508840832",
         "1.5449185900273001",
         "0.4206038140348537",
         "-0.728811920213851",
         "-0.11974665874564251",
         "-0.19312738764304124",
         "-0.7359914695782848",
         "-0.6339490898136647",
         "0.45140061102209844",
         "-0.39987401931051453",
         "-0.28277705853585405",
         "-0.20721048449362706",
         "-0.16815502966533186",
         "0.920685074099999",
         "-0.8264499353070364",
         "0.23038829913342546",
         "-1.5130637885678968",
         "-0.5217058712491077",
         "-1.307466654084894",
         "1.6179669551210791",
         "0.13389103620105733",
         "-0.42581984234153075",
         "-1.7368740833406653",
         "-1.3393849178098565",
         "0.8516298378444871",
         "0.354668011245834",
         "-1.4409627403396579",
         "-1.4363327739753697",
         "1.848002008848266",
         "1.355269471656448",
         "0.29534868718767837",
         "0.11605286399556865",
         "-0.1680413106472221",
         "-1.2574963371812278",
         "0.8603716104958404",
         "-0.19549333038593963",
         "0.7303007777204011",
         "-0.4042174666740068",
         "0.36301002739252514",
         "-0.4802543622791184",
         "0.06951487847469225",
         "0.7974328228287483",
         "-0.5352435145989841",
         "2.0195930692433834",
         "-0.5779676033309457",
         "0.13644769973017815",
         "1.3820817078106693",
         "1.45028009431794",
         "0.4673336628332359",
         "0.268873735922627",
         "0.0690051244882227",
         "1.3563587268189676",
         "0.9572710790867067",
         "1.0896005727978628",
         "1.634472221609358",
         "0.4579718054825559",
         "-0.40696741596346175",
         "0.35127998431856367",
         "0.05611271387928042",
         "-0.18906904041132197",
         "-0.4043016085933901",
         "0.547695933250687",
         "0.6375815618867761",
         "-0.6960111704632",
         "0.31599031118658344",
         "1.6232637705618196",
         "-0.7465177627650159",
         "1.3689907545140876",
         "-0.8745190478252263",
         "0.3613197818330443",
         "-1.7810094536664522",
         "0.6397929364769853",
         "-0.22080276583101022",
         "-1.7448118528472347",
         "-0.4711925029823809",
         "1.7661922875130283",
         "0.5699302537030839",
         "0.11298821942804614",
         "0.5303359170146665",
         "1.0098516710361871",
         "1.523651105476591",
         "-0.2909929516267943",
         "0.5928256048873259",
         "0.47507064950649946",
         "0.10665249037149552",
         "-0.1864646948235101",
         "1.6040050628756926",
         "0.26303490971746185",
         "-1.2173974534139473",
         "-2.9049863578038395",
         "0.9541757722995716",
         "-0.4303250771542368",
         "-0.15219360702937496",
         "0.4078439451572739",
         "2.460812470421031",
         "1.3537486927568032",
         "-0.22670101808494209",
         "0.7307273399810392",
         "-0.6023085197415317",
         "0.7738589664015554",
         "-0.8226544553907619",
         "0.18262498211803677",
         "0.215961776684412",
         "-1.0515618111062943",
         "-0.5885074087512204",
         "-2.174437057215517",
         "-0.37922553300595274",
         "1.1155723434297717",
         "1.9989068911991514",
         "1.4916701526833713",
         "-0.38570821707622077",
         "-0.00687628677027199",
         "-0.07122899013204322",
         "-0.20951289700088074",
         "0.9743190024747783",
         "-0.5514433818435489",
         "1.4523972579614373",
         "0.13874326494132902",
         "-1.1659541319172626",
         "-0.09721062656315531",
         "0.47902063144659895",
         "0.9769314550475274",
         "0.7542268548852891",
         "-0.3162398219759518",
         "-0.518449416912224",
         "1.7304685340656136",
         "0.026532360331079495",
         "-1.1336462695465153",
         "-0.5854134224092481",
         "-1.9620623014193883",
         "-1.6288177055078799",
         "-0.5297966862500474",
         "-0.795716505681956",
         "-0.6865632200396173",
         "65",
         "0.03603374408889317",
         "0",
         "1",
         "1"
        ],
        [
         "3",
         "-0.5040155157058853",
         "-1.1435877076670171",
         "-0.15709066963055268",
         "-1.2449175711853833",
         "-2.6907026258960904",
         "1.769546392518144",
         "-0.999806709485559",
         "-0.07787375123615374",
         "-0.9257408833592627",
         "0.9682863904349772",
         "-1.6423236094863685",
         "-2.1038613752161033",
         "-2.104285879671612",
         "-0.8767870391978705",
         "0.6211337917144754",
         "-1.056245891309029",
         "-2.155094729244316",
         "-0.3553521461189943",
         "-1.3744375880393296",
         "-0.2066718025972785",
         "-1.0262575861559544",
         "-3.572954975107185",
         "0.18010192225160715",
         "-0.480389569493167",
         "0.508496191424778",
         "0.5344606422637584",
         "-1.1683265075516112",
         "-0.177469869053525",
         "0.1878914155802154",
         "-0.46141406542882424",
         "-0.17456706748049594",
         "-1.5955006027575098",
         "-1.6038890838447437",
         "-0.8655593416167914",
         "1.2313064716015967",
         "0.41729245619640554",
         "-1.4860261941104063",
         "0.15868827707780617",
         "-0.08777992175382397",
         "0.04038360672663935",
         "0.021186474887080066",
         "1.2002134509566649",
         "-0.01988592605313252",
         "-0.6300449889231113",
         "0.15532676573199333",
         "-0.5189685679498833",
         "0.46601153585616917",
         "1.8876799377662172",
         "-0.2378696758928868",
         "-2.077057036883475",
         "-0.29588114744707394",
         "-0.6718920347555289",
         "0.9142098738887608",
         "0.5200567802996041",
         "-0.7499099657559337",
         "-0.8367964373223671",
         "-1.6436335418673074",
         "0.11468506032151099",
         "-0.007455576540995795",
         "0.6811069517236318",
         "-0.8503160627849282",
         "0.0825712975718803",
         "-0.06849561777333994",
         "-1.1199163098482652",
         "-0.9882459901763291",
         "-0.3492437452040005",
         "-1.6992934747658548",
         "-0.8229340820385622",
         "0.7028178151777597",
         "0.2527395972338108",
         "0.09879774262636662",
         "-0.3178186922561164",
         "-0.2643224145404132",
         "-0.5832588370589682",
         "0.04288311828073612",
         "0.046470983929461494",
         "0.05537929386493887",
         "0.1290420542972844",
         "-0.8830756550158941",
         "-0.8615401025533189",
         "-2.077038367753518",
         "0.5368314368852259",
         "-1.4068226132502555",
         "0.7989166347819089",
         "-2.7844058434450627",
         "-0.24393083546476754",
         "-0.8450938232659627",
         "-1.7744437054930446",
         "0.1259796006956512",
         "-1.3268321956591052",
         "0.12080999510822749",
         "-0.8836513222707627",
         "-1.144745774685656",
         "0.33401951367883514",
         "-0.12194670880959593",
         "-1.2146373147820897",
         "-0.9800149005067682",
         "-0.9736520874316612",
         "-1.267119275236841",
         "0.3209087392103719",
         "0.16090289677243208",
         "0.21197231783643442",
         "-0.5030227474424408",
         "-0.5788103972275712",
         "-2.1505421914245953e-05",
         "1.5916189570791521",
         "0.38442961785993895",
         "1.0523088689862927",
         "-0.0027661438160195367",
         "0.27701764471671947",
         "1.9625785810573346",
         "-0.09279480265970352",
         "-0.3499078082683376",
         "1.5794945204437458",
         "-0.17309693130603349",
         "1.4274737837998388",
         "2.733003592358267",
         "0.5731706740325633",
         "1.2619585997814682",
         "0.09946225397814736",
         "-0.044819017164903226",
         "0.21842864519192273",
         "2.4866460383235456",
         "0.9130997636767645",
         "0.041798285305832635",
         "0.7808553861342442",
         "1.5416908944894063",
         "2.530167961654639",
         "0.40676875884864044",
         "1.6649682054429276",
         "1.6512019028374574",
         "0.42003914576555096",
         "-0.2053141974012144",
         "0.7467227334366107",
         "1.0140882321023832",
         "-0.16293294172529582",
         "1.0423897029152671",
         "1.303094367127257",
         "0.47941259435056033",
         "-0.11035331217518032",
         "1.582198522442763",
         "0.7387672549646186",
         "0.4807622100383622",
         "1.3224343262540859",
         "0.4174047225836021",
         "1.365017119624602",
         "0.4493654875024352",
         "-0.025607471086304595",
         "0.7168051176056787",
         "-0.8274993620207004",
         "1.009930044304466",
         "0.6140714412870674",
         "1.5954667896600618",
         "2.1692491874975093",
         "0.5977260573237252",
         "-0.343140413506361",
         "-0.18877175284645314",
         "0.8235217179314095",
         "0.9367173312436851",
         "0.3220191273269496",
         "0.3544718532085394",
         "1.2378423847725586",
         "0.5504002482529858",
         "0.491821037706089",
         "0.6988446945916279",
         "1.8478260104557593",
         "-0.14737133178455245",
         "1.5008795668350228",
         "1.1464113843509653",
         "-0.6166533383810192",
         "1.7690508014509672",
         "1.3603763399511255",
         "-0.07640336096857869",
         "0.5411235758141121",
         "0.7907444687137896",
         "0.4278390921890768",
         "0.4116822852983597",
         "1.9172089441730733",
         "0.7056413510141841",
         "1.8598087847397382",
         "2.0104941425282292",
         "0.635379475089326",
         "-0.48982003587125617",
         "0.5927953949740743",
         "1.176004557368304",
         "1.3967429544911871",
         "1.7752946758804349",
         "1.6814486266951618",
         "1.176821940086704",
         "0.5482916146031726",
         "0.7868081583141575",
         "1.80731240734525",
         "0.5309494032686548",
         "0.5670041197824593",
         "0.7189127232681632",
         "0.3421322367382515",
         "-1.1220145260039047",
         "1.0071646211891025",
         "1.8530055623836004",
         "1.9186312760675812",
         "0.9392414554040236",
         "0.8376896784858429",
         "1.7561998997897048",
         "0.36451001677752254",
         "0.14553024618028212",
         "0.4754301771133465",
         "2.285451557633729",
         "0.35668148976652403",
         "1.264277889413894",
         "0.10592320716711308",
         "1.070957039408725",
         "-0.23409410294301627",
         "0.7844667931437862",
         "-1.0942606071349545",
         "1.2916389409945201",
         "2.6357217410913534",
         "1.1646408833748996",
         "0.7327163625156894",
         "0.2671474551074236",
         "0.1405013834519807",
         "-0.6772103557222182",
         "1.3644398547734464",
         "0.5165303194455951",
         "1.4071979187945671",
         "2.383813463910251",
         "1.3064529867794785",
         "1.9452119987550143",
         "0.0021589142892274246",
         "0.7034156653254684",
         "0.5695633648590184",
         "0.14791166950821552",
         "0.7600914593355985",
         "2.319524997294032",
         "1.0289309581265094",
         "2.5794336205826927",
         "-0.9098777370226714",
         "0.1993754772942653",
         "0.3703940405092789",
         "1.115864443115203",
         "2.2205154466885704",
         "-0.5392189565235538",
         "2.3063006665090104",
         "0.7014902252137478",
         "2.331199868667749",
         "0.044194030424900124",
         "0.8975614267425911",
         "0.7202505132654171",
         "0.2683335594278118",
         "1.6795980848167327",
         "-0.37396541880707934",
         "0.6615615720958977",
         "0.28222255082618597",
         "0.5839193276898867",
         "0.024193680706174298",
         "1.8388541754184589",
         "-0.7440489802268323",
         "0.4417615628864055",
         "0.39636821079658063",
         "0.09926483549036914",
         "1.2947794999053315",
         "0.6754286829832801",
         "-0.21207581036380285",
         "0.6278272664084686",
         "0.6996952646151028",
         "0.15740825282154788",
         "0.7925737750278932",
         "0.9267941248874856",
         "0.8814746245023373",
         "1.4931483832252292",
         "1.9549175957087699",
         "-0.83040338042818",
         "0.5193902848306611",
         "-0.04827468601344943",
         "1.959259870691507",
         "1.1478719546181073",
         "-0.1611307999408842",
         "0.7976338580204976",
         "1.2601532276908824",
         "2.9308390740235044",
         "0.4885167283784828",
         "0.7811297737847985",
         "0.3084285067786917",
         "0.10361236316701886",
         "0.8137102862672427",
         "0.35532892553561923",
         "0.36095011792539183",
         "0.08579036184771358",
         "-0.19721728523566462",
         "-0.32620041779790704",
         "1.3534113622965291",
         "-0.011253177630355521",
         "-0.5375459629972458",
         "0.6808028314023828",
         "-0.10992382720692659",
         "0.9722902464075623",
         "1.6877656788840107",
         "-0.07134970174312197",
         "-0.34157551449514156",
         "0.39517318240821",
         "0.13343600031118996",
         "-2.15364040198593",
         "-0.8513425616117519",
         "-1.7277996758455294",
         "-3.276111862088269",
         "0.3666254064974601",
         "-1.8753512644665806",
         "-0.648623591372631",
         "-2.5081506466666514",
         "-1.5245178460181261",
         "-3.620537505903104",
         "0.003195760357291022",
         "-0.722785038648956",
         "-1.6155612044032113",
         "-0.37809986374609406",
         "-0.18690438337623277",
         "-1.9089189950836016",
         "-0.10598377496108385",
         "-0.8082860114380969",
         "-1.382104888019277",
         "-1.4725225249177072",
         "-0.3188774483344993",
         "0.010852696265964079",
         "-0.9868810638108216",
         "-0.014422012887405855",
         "-2.0773191068122463",
         "-0.4841494550292686",
         "-1.126203663770961",
         "-0.8840881506991763",
         "-1.5922940248725301",
         "-0.1332458847053724",
         "0.2310586035505107",
         "-0.32181304001937217",
         "-2.2741401099907286",
         "-1.3442504546615108",
         "-0.7453738101474001",
         "-1.740815597401938",
         "-0.25364243061481556",
         "-2.311792213465308",
         "-1.4474369963236355",
         "-0.3116083750754459",
         "-0.5366000353330962",
         "-1.6574054833868703",
         "-1.9942356246143813",
         "-1.5946347837340877",
         "-0.9679569431935938",
         "-0.26531535675327733",
         "-0.6713984107760139",
         "-0.05393386882724838",
         "-0.5446525939491337",
         "-0.5111521649950586",
         "-1.5370016527011767",
         "-0.41500835896801386",
         "-0.7720666650387509",
         "-1.0528777518456132",
         "-1.9146607396763702",
         "-0.0959651615420517",
         "-0.4648948471154667",
         "-0.5468465241085937",
         "-1.265318411228233",
         "-1.9054142966582626",
         "-0.6479860131873543",
         "-2.2948277990222596",
         "0.005536496879151254",
         "-1.834483365228301",
         "-0.18203650698267865",
         "-1.4462739122908121",
         "-1.193692501064504",
         "-0.3981438037989551",
         "-1.0011193438014425",
         "0.9451732615678499",
         "-0.7192551142671938",
         "-1.0804796834277999",
         "-0.37365377916095716",
         "0.11566641625931817",
         "-1.2642071819049285",
         "-1.3141917632358269",
         "0.12380162022199026",
         "-0.6644685230978471",
         "-1.1542669775887326",
         "-0.22950099448099714",
         "-1.7445284500814229",
         "-3.317318046174133",
         "-2.148285284500502",
         "-1.564566232790546",
         "-0.8739156224991782",
         "-0.9755693451931127",
         "0.739282269832016",
         "-1.1235981646441495",
         "0.2069433133626657",
         "-0.6633777875173662",
         "-1.3336636274876814",
         "-0.06958312625745144",
         "-0.8975458761304185",
         "-1.436582492630298",
         "-1.3791944616706766",
         "-1.5314253478636557",
         "-1.779924165207427",
         "1.5110171268251404",
         "-0.780533163091807",
         "-1.2934659300310916",
         "-0.03551878769676545",
         "-0.9579607789008233",
         "0.6720844240083317",
         "-1.4648244165517577",
         "-0.041051265365808026",
         "0.06714325342335442",
         "-1.3095918780278246",
         "-1.0212548857435289",
         "-0.709726493922266",
         "-1.8801179513314417",
         "-1.123610646155524",
         "-1.124420520807108",
         "-1.1385022922989303",
         "-2.0301786657872425",
         "-1.0851442459288154",
         "-2.5876943713934635",
         "-1.964098600025524",
         "0.0369817206226265",
         "-1.5371478033522152",
         "-1.6503374465241167",
         "-1.4615229403302288",
         "-0.38052437592106275",
         "-1.6363126735492268",
         "-0.5560684443038446",
         "-1.4601957845562703",
         "-1.2922643209130453",
         "0.4424967117671239",
         "-0.11996972164531955",
         "-0.029738531894555997",
         "-0.6776356977504332",
         "-0.010060690181315946",
         "-0.9453005195070053",
         "-1.7220156551833028",
         "0.47074064680968003",
         "-0.25696602567189014",
         "0.18075377280212346",
         "-1.9935488045304246",
         "-0.8774565509968917",
         "-0.7430522469547298",
         "-0.8024830655778732",
         "-1.0991551889195976",
         "1.2740018239784552",
         "-1.8615269489249873",
         "-0.27794982945635255",
         "0.08854245083781354",
         "0.22962754400232932",
         "-0.39543007348508896",
         "-2.586842573369212",
         "0.014487582611816319",
         "-0.009543046386550458",
         "-1.850380902527042",
         "-0.38091401413957393",
         "-1.0833795672478987",
         "-1.626857413543413",
         "-1.3493574508745894",
         "-2.079920955377486",
         "-0.7940792980144843",
         "-0.2385743502364297",
         "-2.13055268880329",
         "-0.7571024719124086",
         "0.285919776734049",
         "-2.0377059298192743",
         "-0.5158736310581667",
         "0.1983634917427349",
         "-1.748746037788483",
         "-1.840948118420278",
         "-1.203191076621583",
         "0.12340099331706755",
         "-1.380486402531133",
         "-0.3296586595744478",
         "-0.9250963040343827",
         "-1.5729034487373896",
         "-0.47164784588168684",
         "-1.0925380017752893",
         "-0.27930152986278467",
         "-1.5505779329151026",
         "-1.8860691268274217",
         "-0.2794522230067579",
         "-1.7999297335344147",
         "-1.8118574737516908",
         "1.3358088560110624",
         "-0.2205274379326716",
         "-0.9900130379118436",
         "-0.2273210217832602",
         "-0.454503369146061",
         "-0.389840690912902",
         "-1.9171954568876706",
         "-0.021920389541732033",
         "0.5291649978953757",
         "0.06473360804095232",
         "-1.728376071011574",
         "-1.4061544089045148",
         "-0.3403263885240691",
         "-1.2700955824185443",
         "-1.3814463157207886",
         "0.48251913727996365",
         "-0.42890164528198604",
         "0.33839206129272376",
         "-0.4771552116574239",
         "-1.1168790611564305",
         "-1.2118839605624596",
         "-0.30103158415974984",
         "-0.5087637472071749",
         "-0.6794498635373617",
         "-2.113055354362991",
         "0.44519681010461043",
         "-1.1819035804498847",
         "-0.7840568257415632",
         "-3.7693188811847027",
         "-0.041674288719050004",
         "0.06527020886802173",
         "-2.558081574221303",
         "-0.8992374457326866",
         "-0.679282648561614",
         "0.45386791991156444",
         "-1.1257784311018537",
         "-0.594839915362726",
         "0.7815656911208282",
         "0.73414629801301",
         "-1.9028860149006612",
         "0.05273513472949057",
         "-1.1053996359074234",
         "-0.27465043588834004",
         "-0.3735345184038838",
         "-2.2955440823221585",
         "-1.4674946511346343",
         "-0.9821764158766231",
         "0.2263203604267103",
         "0.216962685106746",
         "-1.0753888987700064",
         "-2.0464898429907774",
         "-1.2936120762392587",
         "-0.975099109544473",
         "-0.4172411078737172",
         "0.22456752357152573",
         "-1.7479626106337238",
         "-0.3923394919510502",
         "-0.8146819704561565",
         "-0.2802365666424852",
         "-1.979562530838548",
         "0.8500826434860667",
         "-1.40609912887092",
         "-0.44472228189511254",
         "1.0315718575250576",
         "-0.8030655725926802",
         "-1.4842758650753003",
         "-0.4299125071669151",
         "-0.9509800124665382",
         "-1.3041415316326037",
         "-1.0035683048234545",
         "-0.6625205784729489",
         "-1.246291985108857",
         "-0.23237332294754137",
         "-0.9576230621276086",
         "-0.7783533539752681",
         "0.18191552581469994",
         "-1.5006575054814775",
         "-1.9879344790190534",
         "-0.7096723191491923",
         "0.2878191648007735",
         "-1.521070144314426",
         "-0.5520455849333468",
         "-1.3391132058618833",
         "-1.2052103640306409",
         "-1.5941093931542",
         "-0.002854119747453407",
         "-1.0234111046218257",
         "-0.6007265315724911",
         "-0.13824409634405813",
         "-1.6555748037959392",
         "-0.21601197802773298",
         "-0.49798401199383646",
         "-0.09139167437632535",
         "-1.2171924554199327",
         "-1.1804952448581503",
         "-2.0815959535224335",
         "-0.6887043432729659",
         "-0.06265997567108605",
         "-1.6350761022044273",
         "-1.8608878704728322",
         "-1.1573003796520887",
         "-2.628662181689026",
         "0.016492384416423422",
         "-0.08539122229844898",
         "1.0013550788570034",
         "-0.4105183672906543",
         "0.038242441913955316",
         "-1.7133907733096652",
         "-3.2872510836081084",
         "0.606614364786775",
         "-1.8003955047708144",
         "-1.5147543804295602",
         "-1.0693631592329218",
         "-0.628495462961758",
         "-1.3366681908528204",
         "-1.7596376605427573",
         "0.12649913636221313",
         "-0.9528706099541682",
         "-1.124273168648508",
         "-1.6732837760794534",
         "-0.1660985105904354",
         "0.7134635645585193",
         "0.27170751013620875",
         "0.5480618468362771",
         "1.8827398825079666",
         "-0.8042576215525649",
         "0.2546975424948467",
         "0.030607041294954788",
         "0.7882356321996206",
         "-0.45188919076995804",
         "-0.5664181506142495",
         "-0.06434679992779561",
         "0.47504573160934327",
         "-0.45710467388722115",
         "-2.6545583655448346",
         "-0.9521509426836293",
         "1.4144753189059276",
         "1.54692553956527",
         "-0.4962694339018254",
         "1.797476776905962",
         "-0.32657718827958787",
         "-1.534970983045675",
         "-0.3060576703952496",
         "0.7254042566326001",
         "-0.56530217744571",
         "0.6033510574130875",
         "0.2668973206786811",
         "-0.28642641370857286",
         "0.7763360088095128",
         "1.2291257914554707",
         "0.18175060499587609",
         "0.5897076713100055",
         "-1.45645755510706",
         "1.3915197526532108",
         "-0.5329954303557755",
         "-0.861700359981292",
         "0.8867593866016309",
         "-0.38379605415998647",
         "-0.6942381387116325",
         "-0.29360481182066694",
         "-1.216039497535416",
         "-0.7048166550803342",
         "1.0222956702939061",
         "1.1657604948655764",
         "0.06543032356328343",
         "-0.6794523578046708",
         "0.4138150776139359",
         "-1.8963632074063075",
         "1.170992380491315",
         "-0.06964076176564661",
         "-1.0343740340220207",
         "1.4871276309591772",
         "0.04259195446592547",
         "-0.42621401226256284",
         "2.049608173671538",
         "-0.5253834345975974",
         "0.7486622431845924",
         "0.6932795020899655",
         "-0.8474807691161731",
         "-0.13966812669175283",
         "-0.2520287487109083",
         "-1.7667208852627072",
         "-1.964038359460998",
         "-2.1757857451859954",
         "-0.4497956148138356",
         "-0.9932844651444076",
         "-0.9317031074370727",
         "-0.4207424171064508",
         "0.0036739041570497556",
         "-0.31270312918834253",
         "-0.7047035039520051",
         "1.9309453446117093",
         "-0.20109254590218004",
         "0.9983776673325807",
         "-1.2365377904802988",
         "1.3351928810071882",
         "-0.5484717877813999",
         "2.8015732800641393",
         "-1.3118444414177561",
         "-1.0670483106918318",
         "-0.18872722017309762",
         "-0.35484364642228494",
         "-1.1726421600824417",
         "1.4739398868463445",
         "1.3687766488737034",
         "-0.34040101158975683",
         "1.0096376315211792",
         "1.4221674347453623",
         "-0.009615430720434276",
         "-0.6696968808405748",
         "1.2818330742945814",
         "1.1261190021365832",
         "-1.2532989267650556",
         "1.4160491094623693",
         "-1.0201203753422727",
         "0.3790596821604203",
         "-0.8160585141641185",
         "0.16408494503796053",
         "0.11563919196306296",
         "2.2321466717172416",
         "-1.6218821329319892",
         "-0.770569170675891",
         "-0.4653977995452609",
         "0.3288742276201545",
         "-0.31199659560493676",
         "-2.1979672475197227",
         "0.736997411272732",
         "1.3347873568270021",
         "0.43260114783685405",
         "-0.45644971953343244",
         "0.2046880425413428",
         "-1.216892598576362",
         "1.0611762176819377",
         "0.4975042351435552",
         "-0.5334613325389534",
         "0.08200852568846309",
         "1.0313413797252426",
         "1.164474929372092",
         "-0.07432412941491383",
         "2.1465375471572843",
         "1.368053191272496",
         "0.5279093950653915",
         "-0.39545839328023097",
         "-0.3651104291490941",
         "0.20056714121869143",
         "-0.11030857803569398",
         "1.7003802890379403",
         "-0.93702897777083",
         "0.5057077910969604",
         "-2.0018127021319447",
         "0.37715836764602145",
         "0.8719080046395886",
         "1.440364456023354",
         "-0.5914556228486334",
         "-0.7120175394452324",
         "1.0233299988796707",
         "1.194986357450162",
         "-0.22708407784778134",
         "-1.9594924630756057",
         "-1.0587863573720324",
         "-0.09248382706566753",
         "-1.4180107001207547",
         "0.7287279164587754",
         "-0.7726615115143799",
         "-0.07235760761951408",
         "1.0947624969553782",
         "0.3676377495894113",
         "1.9443736776597014",
         "1.3977623290449823",
         "-1.0388872234412603",
         "0.5929165592318342",
         "0.1529074433394479",
         "1.1871685154381149",
         "0.5233647992299014",
         "-0.49974975605375516",
         "0.47607673261638783",
         "-0.3690194990483473",
         "-0.6462884450236921",
         "-0.11133684684527315",
         "0.2487741322605215",
         "1.300239541565176",
         "-0.4966586597100861",
         "-1.9166738597821555",
         "-0.19704964697709926",
         "0.2563653527506095",
         "0.18237464151219357",
         "-0.2537265536482018",
         "0.9496125876978286",
         "0.3123321729720282",
         "0.6030119693903324",
         "-1.8369607653035005",
         "-0.17365220351449911",
         "-0.13915218879339977",
         "1.6839199834565501",
         "-0.10621198467078005",
         "-0.6601509005280894",
         "-0.7188642524928542",
         "0.9792340229292105",
         "-0.5804607426881002",
         "-0.8529392435485407",
         "0.9167181965496888",
         "0.39194521609909466",
         "-0.23613542413521968",
         "-1.327606572262825",
         "0.5542597732216115",
         "0.8269326465579051",
         "-0.9532785059352539",
         "0.3648266709225354",
         "-0.10068952895557987",
         "-0.8840634355524802",
         "-0.44416216114782253",
         "-0.047067530185159044",
         "-1.318345154065376",
         "0.5708211084650691",
         "-0.7103401654046164",
         "-0.6704852126162669",
         "0.505579992283879",
         "-0.45274054059491314",
         "-0.21550282033675994",
         "-0.1055587386190788",
         "-0.7751507935577284",
         "-0.517958183139595",
         "-0.017709013460616017",
         "-0.015475613106915857",
         "0.5270322140664815",
         "0.5712817030129824",
         "1.2186699434578088",
         "-1.506374705052664",
         "0.9129468899545583",
         "-0.3405395972292381",
         "0.6582713983497335",
         "0.3394224822365289",
         "-0.577223564802048",
         "1.5201026840520284",
         "0.7612096843551645",
         "0.420713487925977",
         "2.1900930575250763",
         "-0.974267743236704",
         "0.025080959650389655",
         "0.5621241620687424",
         "-1.0670161115652124",
         "-0.6639658057888627",
         "0.9966877222620969",
         "-0.49639269926729357",
         "0.8718856529169261",
         "-0.6295935760277397",
         "2.0200855788517766",
         "-2.342642538072096",
         "1.0086320244176674",
         "0.2508927456786226",
         "-1.5306654530916686",
         "-0.22303922161822265",
         "-1.926514147566696",
         "0.3523342906107747",
         "-0.5968704228098718",
         "-1.949802024893906",
         "0.16567345373845974",
         "0.14483138467192208",
         "2.1069164704047383",
         "0.8280045925681218",
         "-2.3874909735902685",
         "-0.5283564080926028",
         "1.1047214343304788",
         "-1.6267701550605023",
         "-0.7715662568175139",
         "0.0018090435119870703",
         "-0.5280402390182553",
         "1.5911863970626623",
         "0.183143286407882",
         "0.0333128483794189",
         "-0.9167276160614903",
         "-1.1024318748226019",
         "0.10402188280009622",
         "-0.08019381862666813",
         "-1.217111134834469",
         "0.23403278257703625",
         "0.05738346802139029",
         "-0.3082363937806736",
         "1.1925046312815673",
         "-0.012359889234110815",
         "-0.23804273146235497",
         "1.1311705416014095",
         "-0.15092128049195513",
         "-0.401483706995326",
         "-1.1701222586793363",
         "0.06063629618889485",
         "0.9324359619025231",
         "-0.416961989436914",
         "-1.3293106369602283",
         "1.0109312841118538",
         "1.050285869141658",
         "0.5849538583280441",
         "0.09610650538454145",
         "0.42010420401175425",
         "-1.5501488875860658",
         "-0.5821497605220726",
         "0.6755847768132722",
         "0.3383263886177853",
         "0.9025477132780808",
         "1.5338515347895898",
         "-1.2351369229221842",
         "0.48357216928568175",
         "-0.2583695075178098",
         "-0.4464732543232122",
         "2.471852380797798",
         "-1.570240418041357",
         "-0.18196276446343598",
         "-0.2362696929837563",
         "0.04766971041331067",
         "-1.9724121242629757",
         "-0.981111278016833",
         "0.048843343471411796",
         "-1.3953153063600698",
         "0.9534548433439203",
         "0.5796213889701193",
         "-1.5872176656008832",
         "-0.23035634850094364",
         "0.3755219004395541",
         "-1.3757699247439539",
         "-1.5774588846322557",
         "-0.9575480211973404",
         "2.6874712796925007",
         "1.094338080430235",
         "-0.6085947802969799",
         "-1.3310977988016228",
         "-0.8253205061566017",
         "1.5223514204004105",
         "2.033766600231226",
         "-0.811874968920359",
         "0.31109098002499735",
         "-0.26223935604185306",
         "1.2703173600042632",
         "-1.0939381567009399",
         "0.978995522479609",
         "-1.340140674969647",
         "0.9477553899383664",
         "-0.8507293583592261",
         "-0.3144482164597892",
         "-0.6454239192932707",
         "1.961136247047345",
         "0.9939927376976404",
         "-0.4113513852509051",
         "-0.8247519290738659",
         "1.3135999831996825",
         "-3.3983285309753732",
         "0.47917785349713204",
         "-0.9592882586585474",
         "2.254162195903942",
         "2.730708872350795",
         "0.030690050234292297",
         "-0.36544595548240744",
         "0.06800680660703579",
         "-0.6216141150563496",
         "-0.7944337454911311",
         "0.23456860600413806",
         "0.6237510551067759",
         "0.1332749081090206",
         "0.29010337450517715",
         "-0.6325561245582054",
         "-0.9338189988563494",
         "-0.9435659373536561",
         "0.7719503573637205",
         "0.07961546774737686",
         "0.2015261819516865",
         "0.34133405855640403",
         "-0.057818853164215166",
         "0.10845720204848529",
         "1.2958122209532819",
         "0.7769160365356234",
         "-0.17235738163795059",
         "-0.47218721111188144",
         "1.0272804010866061",
         "0.33277081112999674",
         "-0.30798868250314565",
         "-1.2913487516256927",
         "1.6940427756873775",
         "-1.1270479967905471",
         "0.2844268243400668",
         "1.8252413581770135",
         "-0.3412218480235165",
         "-0.04547730596534767",
         "0.853727768748877",
         "-1.19313567223152",
         "-1.6698008343202058",
         "-0.3571046285871806",
         "0.08070458518392025",
         "0.06939347643284728",
         "1.417202041921342",
         "-0.9459008779664649",
         "-0.14371085851403118",
         "1.5072682295016657",
         "-0.2778446898693692",
         "1.9869756709957413",
         "-0.23429644885977158",
         "-0.6940411567385972",
         "-0.03916420926373908",
         "0.25959190735398224",
         "-0.41154601260209733",
         "0.39813920856387025",
         "-0.14917626057535796",
         "1.2694839062370624",
         "0.5078926222122174",
         "0.010761757071220781",
         "-0.3165068257406765",
         "0.8028415197945141",
         "0.03116859778797753",
         "-0.45247506247912656",
         "-0.7231403746593045",
         "0.6993966485280205",
         "-0.47163513685696146",
         "-0.29992218961134015",
         "0.5532574268644168",
         "1.0708977870396768",
         "0.5951529450630999",
         "0.8527628363566366",
         "0.7095774606611557",
         "0.008302703737961197",
         "0.39458391544331856",
         "1.825892141955402",
         "-0.1959367425160332",
         "71",
         "0.9452606916868113",
         "1",
         "1",
         "1"
        ],
        [
         "4",
         "0.4234538876925589",
         "0.772921586477766",
         "1.1572026510558941",
         "2.3995932127874227",
         "0.4168231938286807",
         "0.02391448142753804",
         "2.0289428975573074",
         "-0.18220087351462785",
         "-0.5606071782102549",
         "0.11247649758491678",
         "-0.3000631220475874",
         "0.23518998569580038",
         "0.8027261533735479",
         "0.2924429962512477",
         "1.080514602729305",
         "-0.721231458349374",
         "2.304124007200589",
         "0.9928036847588027",
         "0.3747320391898178",
         "0.17404257836613884",
         "2.2790224240403534",
         "0.5499942332362857",
         "-0.4668106315190171",
         "0.4037258677048144",
         "0.3021992286717727",
         "1.3541352767562165",
         "2.0258354552577242",
         "2.802708158674464",
         "0.009795758930359139",
         "-0.4717348805679172",
         "2.1301930323475906",
         "0.4524776703889662",
         "1.5258036592673276",
         "0.7194749720639875",
         "-0.856361557144673",
         "-0.2689077409111894",
         "0.4949578372315522",
         "0.8526874058817232",
         "1.5299054448599192",
         "0.6168028190498239",
         "0.33356074216638343",
         "0.4139983144806151",
         "1.4466344072775046",
         "0.684237927779338",
         "1.8546060995085076",
         "0.9423581224757185",
         "1.1240821489221693",
         "1.9723471184620904",
         "1.699134831427548",
         "1.7920828379800986",
         "-0.22516684556217514",
         "0.8993235033797865",
         "-0.5088275662567816",
         "1.7028411387998261",
         "0.8383205656229934",
         "0.597180935822817",
         "0.8207500994049497",
         "-0.2365228737726968",
         "2.432573059711685",
         "1.0200233565909602",
         "0.6623099078768987",
         "-1.0029926831525178",
         "2.1773545640620213",
         "0.20103300630165624",
         "0.09283412672176336",
         "1.0113000358502844",
         "1.0743214782302466",
         "0.10246069072338072",
         "1.2165840218128263",
         "0.8206177845224873",
         "0.7238001665735517",
         "-0.735385998419364",
         "-0.6666716307835518",
         "0.18332923892882488",
         "0.9293056050929897",
         "0.16438772606407573",
         "0.8094381324286999",
         "1.2754042873748364",
         "1.3160287463964775",
         "1.2700697976920987",
         "-0.7419098407195277",
         "-0.06646103370006665",
         "0.9903412717557073",
         "1.1123018993386136",
         "1.6554616377120304",
         "1.3548555988626216",
         "0.04902948945179015",
         "-0.05000399753085815",
         "1.3769571273704644",
         "0.0044276911594976435",
         "1.2586332049360744",
         "0.4944378502090947",
         "-0.4133662941059685",
         "0.49524632242401556",
         "2.637438160612615",
         "1.1313167000252435",
         "0.87408969656231",
         "-0.5107823424295714",
         "-0.7987931133117027",
         "0.1216305174066191",
         "-0.611255002070131",
         "0.28875189050392314",
         "-1.0367497491542763",
         "0.47691488799590187",
         "0.3092743949906758",
         "-1.3953146365882643",
         "0.05581788509001064",
         "0.552937678748782",
         "-0.6959577493344238",
         "0.5589472217961111",
         "1.1286185244062288",
         "0.05664660867863591",
         "1.3956039406222949",
         "-0.5634568691263704",
         "0.1254348942268405",
         "0.01913942364234929",
         "1.6025207320342298",
         "0.5849494430748287",
         "0.5999574112873612",
         "0.3667618210095162",
         "0.33948266691850737",
         "0.05094056552703876",
         "1.3874798098741037",
         "0.6897681890449939",
         "0.2943098800091838",
         "0.5335415973635218",
         "-1.6450876710170688",
         "0.09106439726066537",
         "-2.154047083418933",
         "-1.1947311553975155",
         "-1.4077652086331287",
         "0.13015179184922374",
         "0.9744361368368236",
         "0.5640315296012874",
         "-2.127053882380183",
         "-0.28505523518034476",
         "-0.5295451617132262",
         "0.08754162633589473",
         "-0.0868635870466401",
         "-1.343707363048331",
         "1.444416999671891",
         "0.384361745810238",
         "-0.2777222562136142",
         "0.19561545005367859",
         "0.28003174957250804",
         "0.4377430555398765",
         "1.0125191865013186",
         "-0.08565004963809489",
         "2.1195218704332732",
         "1.112027077149254",
         "-0.7782089177649747",
         "-0.6832628360926513",
         "-0.010781419818632716",
         "0.1364152068656495",
         "0.4418808863840293",
         "0.5019514417142608",
         "0.38826783552832234",
         "0.7435075529732021",
         "-0.4561953902478723",
         "0.08287023325655464",
         "-0.4175953853660399",
         "0.4223511816712238",
         "-0.9248896741512339",
         "0.29335824593195253",
         "0.6744180149773429",
         "-0.24296950461901995",
         "1.410594676930578",
         "0.11412080132196047",
         "-1.010406379352957",
         "-1.0936017289407298",
         "0.18471198451857526",
         "0.8774373285156687",
         "-1.2792704597245261",
         "-0.0023018070702133862",
         "0.7218671844394998",
         "-0.39521932014056504",
         "-2.171416948164241",
         "0.9005401427059699",
         "0.5760852957729881",
         "-0.45271563538013987",
         "0.35236072117536904",
         "0.1793421333041538",
         "-2.550174884850308",
         "0.41250226365682696",
         "-1.4180754517239043",
         "0.7838918812126868",
         "-0.3912890176319083",
         "0.4630535702712915",
         "0.067801173047734",
         "-0.03062445587166996",
         "1.4194070739748221",
         "0.06355922737633544",
         "-1.1589476102857548",
         "0.7593693843456251",
         "0.06598807045309373",
         "1.1915671378639072",
         "1.2850081268013243",
         "0.7716311296613152",
         "-1.4148483786307506",
         "-0.6623559949880622",
         "-0.4835983321940046",
         "-0.5861188651887044",
         "1.7601154834754484",
         "0.20671084762499164",
         "-0.6595961799878903",
         "2.688290948722815",
         "0.1687746357064395",
         "-1.0333089110268494",
         "1.0414445281067306",
         "1.2057308931879251",
         "-0.21503600564138498",
         "-0.7591840498661379",
         "-0.1982283124880796",
         "0.911724082874205",
         "-0.9156311875720894",
         "-0.011484678493797085",
         "0.6237322387157314",
         "-2.1327900459904625",
         "-0.10501829178113745",
         "0.4989286230313742",
         "-0.5268388169013345",
         "-0.5105165102451106",
         "0.02029366714497726",
         "-0.8322489139010499",
         "0.4461040712000856",
         "-0.8694284471375833",
         "0.8158179317502858",
         "1.1581702572159518",
         "-1.2725158195593766",
         "0.7237294802393454",
         "-0.33098830683339137",
         "1.4791741084737873",
         "-0.9073972430498758",
         "0.19053716426130662",
         "-1.5053073640144052",
         "-0.2553935531210866",
         "-0.007631728061780696",
         "-1.4054693350079983",
         "-1.82382651496657",
         "0.26915538974065684",
         "0.1658256048992171",
         "-0.6035488204613506",
         "-0.4712767914693084",
         "0.15043511183547603",
         "-1.722747171251719",
         "-0.07970943509883285",
         "0.30861292853368766",
         "0.42030806843147717",
         "0.8863079455035356",
         "0.5223594653002679",
         "-0.14455810914285794",
         "0.025603360329464253",
         "1.4819003879923591",
         "1.1812587170077893",
         "-0.07189965047008537",
         "0.5144867044993159",
         "0.13676915674906603",
         "0.21860942636366243",
         "0.1862766326735133",
         "0.4144456658160989",
         "0.6697165411671232",
         "1.94549880124545",
         "-0.13616697562059724",
         "-0.5105891713416811",
         "-0.7472492410803381",
         "0.876932666126161",
         "-0.5384557552052052",
         "-1.5813174392421236",
         "0.5429745215315644",
         "-0.2694994061351276",
         "0.2099436432129529",
         "-1.3089627378830027",
         "-2.3555468305315195",
         "0.20915420842468146",
         "-0.5887638771112537",
         "-0.1589527663173643",
         "-0.59898818465744",
         "-0.807600847286315",
         "0.24930682019894282",
         "-1.997549496417421",
         "1.108726440738",
         "1.2646063362025524",
         "-0.5055801418901085",
         "0.39519870888039843",
         "0.28562447895854665",
         "-1.0658313978385459",
         "-1.1055820188741678",
         "-0.5834935425417038",
         "-0.21550840538346652",
         "-0.9689154658091351",
         "-0.7856372363260865",
         "0.35123112624276426",
         "-0.2399470386147207",
         "-0.08211370415823867",
         "-0.6070268155459472",
         "0.389095017355207",
         "-0.8368748847496569",
         "0.15755530814379115",
         "-0.12249491273403611",
         "0.8814738182656966",
         "-0.6295876692386091",
         "1.343416057268296",
         "0.7205434107017475",
         "0.027958325311953747",
         "-0.4822701042741925",
         "-0.08027664440684751",
         "0.35529710662574393",
         "-0.5845572565254635",
         "0.4300884312831828",
         "-0.15747155477724523",
         "-0.49524263519578676",
         "0.26927045748881284",
         "-1.3872905066451486",
         "-0.3535491818481794",
         "0.5216485991564112",
         "-1.4731447313832906",
         "-0.7709420494949811",
         "-1.259811137101007",
         "-1.5427258003090623",
         "-1.6004882226147037",
         "-0.7881823137900023",
         "-1.7169309116016571",
         "0.3275261114658118",
         "-0.6537910984103921",
         "-0.11294671169813297",
         "-1.3124408634656852",
         "-0.21387278505904547",
         "0.9601919633998838",
         "-1.0428849575265229",
         "0.5909702095841639",
         "-1.4224372678554085",
         "-1.4533618423375125",
         "-1.9627221433437247",
         "-0.6084591115943032",
         "-1.4183907754661513",
         "-0.7369130017876273",
         "-1.1696319666893567",
         "-0.9583852485695253",
         "-0.2049594150373878",
         "-1.0764538309281075",
         "-0.11726585371920129",
         "1.0955613719878654",
         "0.44548630259603617",
         "-0.21003842567553146",
         "-1.3719065120717575",
         "0.5410552667164796",
         "0.4663477719924738",
         "-0.15483201927419954",
         "-0.8124924924368063",
         "-0.27437961418504025",
         "-1.6176065705940408",
         "0.6111097933465989",
         "-0.2455201173363072",
         "0.5225148275336559",
         "-2.663270206462584",
         "0.6305416507581881",
         "-0.6698382007860295",
         "-0.2272513555219416",
         "-0.6719847542400996",
         "-0.7404800163340294",
         "-0.629268053904391",
         "0.29194450817069556",
         "1.4618742695974873",
         "-0.29254888402682755",
         "0.10850644663230943",
         "0.7990177567054391",
         "0.8803406707494952",
         "-0.49547358597277663",
         "-0.6651534454325944",
         "-2.511010257992911",
         "-0.6580295697104038",
         "-1.0222544858215679",
         "-0.08982525971140953",
         "-1.1859674658804364",
         "0.6865761025728417",
         "1.4234575253157813",
         "-0.5304725657997286",
         "-0.6379030180858725",
         "-0.48812237778087897",
         "-0.07304491155787873",
         "-1.0503971459773354",
         "0.8317665336687964",
         "-0.4255766601648124",
         "-1.3929744505349646",
         "-0.2816021630240675",
         "0.2267790328283006",
         "-0.9993695012864225",
         "-0.7851105255238506",
         "-1.6537101084861867",
         "-0.4607392804104137",
         "-0.11993295900018935",
         "-2.1034838182944156",
         "0.36411591071729815",
         "-1.4061065607209073",
         "-2.044147211661905",
         "-1.3191323390414653",
         "-1.6116060572694777",
         "-0.7400296834793683",
         "-2.1258627750242907",
         "1.1368903216096218",
         "-0.6494189200627337",
         "2.095979633837603",
         "-1.7726181506707706",
         "0.21378600813407095",
         "-0.30914585170401343",
         "0.5727218728715169",
         "-0.7180189127024654",
         "-0.5369139855318504",
         "-0.5175721094770553",
         "-1.003387985030879",
         "-2.162544433347826",
         "-0.62750647904643",
         "-1.0300908999467109",
         "-1.5291831828675115",
         "-1.3436420445292374",
         "-0.4090181533176075",
         "-1.7527234921549537",
         "0.39949603807998907",
         "-1.0773577830060188",
         "-0.6049984729803699",
         "-1.760746027728205",
         "0.7261081497871399",
         "0.17814787544999564",
         "-2.1901923582093183",
         "-0.4477776117921472",
         "-1.9346272430129743",
         "-0.587653186733539",
         "-1.4241247442539828",
         "-0.8959303443831294",
         "-0.27831724804975017",
         "-1.1051656868627702",
         "-0.12167210631103542",
         "0.6659813765366751",
         "-1.0620258148643316",
         "0.200636228811034",
         "-2.1321009243831823",
         "-0.3090283313153064",
         "-1.2450577426342946",
         "0.8138816963313584",
         "-1.598082166818181",
         "-0.4330256899486007",
         "-0.2754533983496501",
         "-0.3760086955589877",
         "-0.5567479654668467",
         "-0.7752383605462999",
         "-0.49126474212131505",
         "-0.7883640994020782",
         "0.8950377830831744",
         "0.3450759354099686",
         "-0.6215722648624845",
         "-0.9303043447967273",
         "-0.9629391583911691",
         "-0.9209779671267477",
         "0.10141196962734009",
         "-1.3582856924182813",
         "-0.9749980675976088",
         "0.11053002248030985",
         "0.15507670252666153",
         "-0.742602175269403",
         "0.1707956907808001",
         "0.6037152746732278",
         "1.6126959058577461",
         "-1.0697849552292928",
         "-1.4929559372688785",
         "0.5717151352573935",
         "-0.3212221291531719",
         "-0.24318713332412878",
         "-1.710432427571242",
         "0.3700871018372644",
         "0.20427284888068048",
         "-1.059215747377102",
         "-0.39844467923994364",
         "-0.147252243070129",
         "-0.7557027239219388",
         "-0.00731970635727433",
         "0.5005967342974594",
         "-0.49953546973359947",
         "0.9846658605218527",
         "0.6296491501752429",
         "-0.22052008149212465",
         "-1.3774250500751344",
         "-2.2464274553172316",
         "0.4885427507387286",
         "-0.31013652053095575",
         "-0.09153319931520071",
         "0.6650412949353758",
         "-0.46364779594092564",
         "-0.13132942723931046",
         "-0.31242944315853527",
         "0.2214567183544195",
         "-1.35825209485168",
         "-0.07514648851324784",
         "-1.2664248597836352",
         "0.5144495531385787",
         "-1.2309221223633773",
         "-0.23740048355616883",
         "0.06492613764273264",
         "-0.465684106280533",
         "0.6877435829710283",
         "-0.5741059274097823",
         "-0.6799366929256254",
         "0.8119868880107782",
         "0.10485852490405909",
         "-0.23454708818049608",
         "-0.2844409639719383",
         "-0.15804716629709453",
         "-0.6882833868239202",
         "-0.5520869313864951",
         "-0.7362504619120466",
         "-1.458616261806375",
         "0.032799198841160115",
         "0.7927552070323872",
         "-0.7454100785931335",
         "-0.7037652269645274",
         "-0.12336712380739029",
         "-0.7150553855235222",
         "1.2949555148919174",
         "-0.6366553881463164",
         "-0.8692794968553659",
         "-1.2577722913337637",
         "0.875342986049696",
         "0.4771995533326307",
         "-0.5690479035363878",
         "-0.07731792481880191",
         "0.18521110947700956",
         "0.9651346982883912",
         "-0.4587151852871749",
         "-0.00716506875715206",
         "0.26141677809793107",
         "-0.9141628329367252",
         "-0.11568641738464258",
         "1.871165472753575",
         "-0.6340151542888779",
         "-0.5828562704649323",
         "-0.19141891752691156",
         "0.018439563202351295",
         "-1.1483404407365856",
         "0.8828419995310057",
         "0.33504201494500757",
         "-0.6756912980987868",
         "-0.8130651913977163",
         "-1.4650698967397167",
         "-1.9725246197131807",
         "-0.19242271084723134",
         "-1.3067202524030623",
         "-2.0080511874428946",
         "-0.674312434631567",
         "0.7583299563416941",
         "0.07475621184672027",
         "-0.26627165351796095",
         "-2.1800426012929055",
         "0.6113234544497027",
         "-1.2286474836816257",
         "-0.2874582129322824",
         "0.8091181415747604",
         "-1.1393683689515623",
         "-1.4892548391466254",
         "1.026631485433763",
         "-1.8309026014107639",
         "-2.7273353465195433",
         "-0.4188548137007848",
         "0.3583214890307516",
         "-1.6101674702589954",
         "-0.5788962464874814",
         "-0.7523593249198208",
         "0.6565016862471366",
         "-1.1650387037182803",
         "-0.9828342112554278",
         "0.7460503106886205",
         "-0.653566049154784",
         "-0.78203940769305",
         "0.41877301678240303",
         "-1.7917107731053072",
         "-1.0655508734511618",
         "0.7471501090929692",
         "-0.5238630137189696",
         "0.4347317009749632",
         "-0.5471353279812395",
         "1.4458184163071701",
         "-0.8378066578438619",
         "-0.9653527715512789",
         "-0.1641273020966182",
         "1.954258657730727",
         "-0.7289547567294539",
         "-0.612657806927932",
         "0.7194071776628439",
         "1.7277480274104602",
         "-1.9965933470568074",
         "-0.25080627423670077",
         "-0.21691206282652953",
         "0.581562927956206",
         "0.19549271913352081",
         "-1.3793776175093746",
         "-0.16694822393927305",
         "-2.284196313197616",
         "-0.7536690945458029",
         "0.02308877749969826",
         "-1.3684950637936837",
         "-1.6415645693067953",
         "0.6405018989085098",
         "-0.3418844569778245",
         "-0.3262762171184528",
         "-0.6470813157224227",
         "-0.85134978970112",
         "-1.221257534753307",
         "-0.725573924809424",
         "-0.05119718025340426",
         "0.3056948471448431",
         "-0.5249629165183031",
         "-0.5301857058695453",
         "-1.042409221958139",
         "0.16754374449715756",
         "0.04810749309354972",
         "0.3795360581806217",
         "-0.5412199807708841",
         "-0.9107135929437206",
         "-0.019549134835432275",
         "0.5205675255095759",
         "-0.8870883617594686",
         "-0.627581087307066",
         "-1.2246458743189632",
         "-1.171783047158041",
         "-0.5466956582202973",
         "-0.8413155016197985",
         "0.8004166772382392",
         "0.02995946686794293",
         "1.2651392527113465",
         "1.275235639097032",
         "0.01518762557571683",
         "-2.0038195032162247",
         "0.39838397899243505",
         "1.1441771984121691",
         "0.6324588600938791",
         "0.34875096199717337",
         "-0.24795061376314875",
         "-1.17802198852513",
         "0.6255657434333335",
         "-0.19526401737384713",
         "0.3121912755226314",
         "-0.5870913932048732",
         "1.9993701504219332",
         "0.239042250232938",
         "-0.37981600445970765",
         "-1.1363398847416577",
         "-1.398691191826619",
         "0.620672512621804",
         "-0.5822450773844006",
         "-0.4499152639962569",
         "-0.5428383781384807",
         "-1.0920659852644168",
         "-0.2901927900331009",
         "0.05639080937118707",
         "-1.0066056116914244",
         "0.3319270692857295",
         "-1.2235067058735236",
         "-0.4409920690323913",
         "0.36460742315578565",
         "-0.0136606011991203",
         "-1.641261988161303",
         "-2.7862580816983673",
         "0.5669737596192993",
         "0.6902179555886176",
         "0.437371567675834",
         "-0.22724964922183954",
         "-0.24802829573102037",
         "-0.10664618478821243",
         "0.5852176312201611",
         "-0.13347218022140905",
         "0.37397250750688477",
         "1.3142622977843121",
         "-0.9670512735487021",
         "-0.18536288850000054",
         "-0.8583893257903731",
         "-0.39349398382860507",
         "-0.10121325107775817",
         "-0.8796346226717114",
         "-1.6240659976518712",
         "-1.306530499913352",
         "0.44355314681264024",
         "-0.6683266622052713",
         "-0.21871438072957353",
         "0.04946122957390005",
         "0.9072495804286974",
         "-0.28381673814649266",
         "0.24642354393092608",
         "-1.1320661472516347",
         "-0.1608473878545022",
         "-0.9776254601808324",
         "-0.14120572100942388",
         "0.1275679378469763",
         "-0.2341677436530297",
         "-0.423185989830442",
         "0.26914173804411123",
         "-0.4032201977579063",
         "-0.41410167873318526",
         "-1.0528731046509885",
         "0.5058153563564471",
         "-0.04228680704959789",
         "-0.47961631866263843",
         "-1.0386931508094497",
         "2.3368724110579553",
         "-3.0165783620070052",
         "-0.7583130783542569",
         "-0.4823394497582906",
         "0.9205438230693054",
         "-0.31455147378160614",
         "0.18195361409704416",
         "-0.44119227178293385",
         "1.8436496332963623",
         "0.39535027891088437",
         "-0.650341381164052",
         "0.7037282795758095",
         "-0.24741059815722924",
         "1.8266629984088614",
         "1.3514748499440086",
         "0.29438966845422826",
         "-0.2367337955947695",
         "-0.6349940958115996",
         "0.882088092684365",
         "1.4518758847607993",
         "-0.2917167576833185",
         "0.44920459510147276",
         "0.5054436872342589",
         "0.8900353259608699",
         "-0.778528098832031",
         "0.44395667176144926",
         "2.2438999050336186",
         "0.09592913216637017",
         "0.4536381632178799",
         "0.3787910963993026",
         "0.5535216231148132",
         "-1.1574460978848047",
         "2.047655521459449",
         "0.09998061853464782",
         "0.5446259489316368",
         "0.08808643623998869",
         "0.9433451633601351",
         "-0.5018459654307545",
         "-1.3071686174484733",
         "-0.1175018328505555",
         "0.47930221550436636",
         "-0.34661991461718766",
         "-0.6714108036007006",
         "0.3484501361268201",
         "-0.9275669972127527",
         "0.9793574549104076",
         "-0.31230741723958116",
         "0.4974280644487879",
         "-1.1611450179927174",
         "1.3534246344578544",
         "0.4688675847902703",
         "0.6136428958393071",
         "-1.2906305693260176",
         "-0.7495926558429662",
         "0.19908234383712073",
         "-1.0827436169898021",
         "-0.6269628011838111",
         "0.7550269627824123",
         "-0.6058596696881748",
         "0.3737889364348502",
         "-0.8270580520610246",
         "0.6008464774244927",
         "-1.1208813559298483",
         "0.5938868893186487",
         "2.1634881998559825",
         "-0.5349809596070662",
         "-0.6612834521963241",
         "1.1392527239380856",
         "0.06478891926049835",
         "-1.1696595506226912",
         "0.3393182314426846",
         "0.21655159128588908",
         "-0.6326135387961495",
         "-0.6711538341744236",
         "0.8686411313555908",
         "-0.988097647390361",
         "-1.3706722979217036",
         "-0.7750118849803149",
         "0.8655313020787776",
         "-0.26147784456837786",
         "-0.5643250596339823",
         "-0.06847533412621681",
         "0.48748160845647653",
         "1.5347171921174734",
         "0.35093067368294445",
         "1.9600188129197738",
         "0.7313879544430847",
         "-0.29761575660375317",
         "0.8910523048682127",
         "0.636970777315067",
         "1.162121252222205",
         "0.7369499594349959",
         "0.11392957963185264",
         "-0.48092922406421046",
         "0.13486729284726842",
         "-1.4820094372826544",
         "-0.1629452533110671",
         "-1.179639027609641",
         "0.4581736012452669",
         "0.8341970542253875",
         "0.3155193845957474",
         "-0.16259969298669247",
         "-0.2852504985317177",
         "1.2010051940409276",
         "0.9865211335251413",
         "-1.061307804860705",
         "0.2552417766597596",
         "0.3252016164998974",
         "-0.2054639661284068",
         "-1.3657102933214336",
         "-2.054574088198593",
         "0.17224662885478617",
         "-1.6931462168201752",
         "-0.523540704807828",
         "0.68441250111468",
         "0.4159120133589164",
         "-0.5965865918028551",
         "0.8954752743593637",
         "0.5260423515304656",
         "-0.4880456512724382",
         "1.5211545880187267",
         "0.4873755424779907",
         "-0.7797339596668798",
         "-2.0529725184353307",
         "0.22389868741185476",
         "-0.5049034753525615",
         "0.02096656258030763",
         "-0.2367038473185302",
         "-2.1981534763766892",
         "-0.2921468553829596",
         "-1.1025372361635128",
         "-0.5081604156653945",
         "-0.5789910155863381",
         "0.06389432033075443",
         "0.2997744691241031",
         "0.46135494052408177",
         "-2.397871952604775",
         "1.4212382828846912",
         "-1.6319308044057044",
         "-0.013451050651257852",
         "-0.8285711527369288",
         "0.29552698630119467",
         "-1.8294816629921575",
         "1.549238746771296",
         "-0.3593082792117623",
         "0.5005386170006068",
         "-0.8006088257084152",
         "1.6608913104877105",
         "-1.3720829597647541",
         "-2.630988327138636",
         "1.3629108586959244",
         "-1.1761819240708287",
         "-0.0699046027898419",
         "1.5583853178491973",
         "-0.4052896671705759",
         "0.2602923871700952",
         "0.8149698998460003",
         "0.030051385372772976",
         "1.3011094529273342",
         "0.7053943479640611",
         "-0.8940247101574565",
         "0.7317613916934698",
         "-0.03436211362425382",
         "-0.029565351130673902",
         "0.3324181023301406",
         "0.9205463594194095",
         "-0.9626773380447831",
         "1.3054639856493575",
         "1.2439113417673757",
         "-0.6323740947204416",
         "1.758632216123128",
         "-0.17340397948664585",
         "0.5672798088220775",
         "-0.4616629991172652",
         "0.8194968163004634",
         "-0.44495450002390197",
         "0.1597373627529191",
         "-2.618731478244604",
         "-0.4718315903629301",
         "-0.5652152294706511",
         "-1.8913801954856178",
         "0.7684351704311135",
         "-0.3856199677375859",
         "-1.8180188419423258",
         "0.6016376231984798",
         "1.0894941913488378",
         "-0.1344639620113832",
         "-1.5096998052314585",
         "-1.883902340048153",
         "-1.2245554483317458",
         "-0.8297325663280853",
         "1.7097303852179853",
         "-0.20412437430177077",
         "-1.2726026105050583",
         "-0.6149548155658574",
         "1.0706423118053603",
         "0.5551726726495967",
         "0.04669091421680143",
         "-0.16861371479969645",
         "0.003686491045040731",
         "0.1558418247615253",
         "-0.19422760885667772",
         "0.10216435804690036",
         "-0.30065101831121377",
         "-0.8556724675127694",
         "-0.26351748753031573",
         "0.33014994044724033",
         "-0.7275560638389685",
         "0.42098687879970337",
         "0.829682430955676",
         "0.3411751123278209",
         "-0.5616516533494222",
         "0.09601292276443958",
         "0.1534774690897447",
         "0.19929041341770573",
         "1.4900129872547836",
         "-1.1580610575612345",
         "0.20682984642453497",
         "-0.40013580233119533",
         "-1.2456621358196551",
         "-1.257929859896488",
         "0.8773635915817115",
         "-1.4041508392844742",
         "0.2987181104046959",
         "0.13147393086209308",
         "-0.8580812406710323",
         "0.8360776295755507",
         "-1.1815414734806031",
         "-0.5490770842637515",
         "-1.0912553555555393",
         "0.7648606190182095",
         "1.183544948868203",
         "0.24858617093248228",
         "2.5392613211526482",
         "0.44573370960254055",
         "0.6321957192211572",
         "1.0065216236396373",
         "-0.672335848058306",
         "0.4083327636051221",
         "-0.9669504513491509",
         "-1.3181002009620988",
         "1.0922120197443317",
         "-0.8499753938407563",
         "0.18340016370969764",
         "1.6315442209293574",
         "-1.8110342266238488",
         "0.6511765486857634",
         "-0.021883795309893494",
         "-0.07036719133797267",
         "0.05958537563594651",
         "0.017501623951422268",
         "0.5232927715179522",
         "-1.0513226264184465",
         "0.5021545491534194",
         "-1.1275750156694082",
         "2.103899302681767",
         "-0.10499833815090333",
         "0.17942507932415014",
         "1.7707961048083318",
         "-0.7746069658838158",
         "-0.01124626179883209",
         "-1.4100474342032778",
         "-0.9701335966531414",
         "-1.423973058814736",
         "0.7982063724023305",
         "0.5694963236478008",
         "-0.4371231935166405",
         "-0.5066978291893122",
         "0.9706655677776187",
         "-0.005047534740570251",
         "-0.8672620671012312",
         "1.0731671434585928",
         "-0.14144418046108023",
         "0.677284167934009",
         "0.07179602643916606",
         "2.077732488768506",
         "-0.2068428042711189",
         "-2.008474498196272",
         "-0.22783955602454295",
         "0.2663957559270085",
         "0.4597531384019133",
         "0.8087548952079169",
         "-0.5808565032130765",
         "1.5639161523047782",
         "0.9648344638199834",
         "0.1309392122738573",
         "-0.6939893008294664",
         "1.9279762920395982",
         "0.7292113248755934",
         "-0.49225169083857034",
         "1.402092761351719",
         "0.22029633977049",
         "1.5092669549543491",
         "-0.8430846481208731",
         "-0.20043947586385802",
         "1.381980475494301",
         "-0.6688450792158158",
         "-0.25345765201325615",
         "-2.737713434434117",
         "0.41220670812288585",
         "58",
         "0.0",
         "1",
         "2",
         "1"
        ]
       ],
       "shape": {
        "columns": 1005,
        "rows": 5
       }
      },
      "text/html": [
       "<div>\n",
       "<style scoped>\n",
       "    .dataframe tbody tr th:only-of-type {\n",
       "        vertical-align: middle;\n",
       "    }\n",
       "\n",
       "    .dataframe tbody tr th {\n",
       "        vertical-align: top;\n",
       "    }\n",
       "\n",
       "    .dataframe thead th {\n",
       "        text-align: right;\n",
       "    }\n",
       "</style>\n",
       "<table border=\"1\" class=\"dataframe\">\n",
       "  <thead>\n",
       "    <tr style=\"text-align: right;\">\n",
       "      <th></th>\n",
       "      <th>A_gene1</th>\n",
       "      <th>A_gene2</th>\n",
       "      <th>A_gene3</th>\n",
       "      <th>A_gene4</th>\n",
       "      <th>A_gene5</th>\n",
       "      <th>A_gene6</th>\n",
       "      <th>A_gene7</th>\n",
       "      <th>A_gene8</th>\n",
       "      <th>A_gene9</th>\n",
       "      <th>A_gene10</th>\n",
       "      <th>...</th>\n",
       "      <th>Noise_gene396</th>\n",
       "      <th>Noise_gene397</th>\n",
       "      <th>Noise_gene398</th>\n",
       "      <th>Noise_gene399</th>\n",
       "      <th>Noise_gene400</th>\n",
       "      <th>edad</th>\n",
       "      <th>rin</th>\n",
       "      <th>sexo</th>\n",
       "      <th>lote</th>\n",
       "      <th>Alzheimer</th>\n",
       "    </tr>\n",
       "  </thead>\n",
       "  <tbody>\n",
       "    <tr>\n",
       "      <th>0</th>\n",
       "      <td>-0.111782</td>\n",
       "      <td>0.096894</td>\n",
       "      <td>1.798425</td>\n",
       "      <td>-0.093378</td>\n",
       "      <td>-0.197196</td>\n",
       "      <td>-1.260852</td>\n",
       "      <td>-1.064165</td>\n",
       "      <td>0.076846</td>\n",
       "      <td>-0.999928</td>\n",
       "      <td>0.111733</td>\n",
       "      <td>...</td>\n",
       "      <td>0.389066</td>\n",
       "      <td>-0.743105</td>\n",
       "      <td>0.394847</td>\n",
       "      <td>0.513076</td>\n",
       "      <td>0.379261</td>\n",
       "      <td>64</td>\n",
       "      <td>0.000000</td>\n",
       "      <td>0</td>\n",
       "      <td>3</td>\n",
       "      <td>1</td>\n",
       "    </tr>\n",
       "    <tr>\n",
       "      <th>1</th>\n",
       "      <td>-0.492161</td>\n",
       "      <td>-1.072408</td>\n",
       "      <td>-0.860142</td>\n",
       "      <td>-0.398714</td>\n",
       "      <td>-2.343186</td>\n",
       "      <td>-1.838545</td>\n",
       "      <td>-0.519876</td>\n",
       "      <td>-0.704514</td>\n",
       "      <td>-1.864341</td>\n",
       "      <td>-0.981870</td>\n",
       "      <td>...</td>\n",
       "      <td>-0.495361</td>\n",
       "      <td>-1.089365</td>\n",
       "      <td>-1.364647</td>\n",
       "      <td>0.727354</td>\n",
       "      <td>-2.073535</td>\n",
       "      <td>59</td>\n",
       "      <td>0.000000</td>\n",
       "      <td>0</td>\n",
       "      <td>0</td>\n",
       "      <td>0</td>\n",
       "    </tr>\n",
       "    <tr>\n",
       "      <th>2</th>\n",
       "      <td>1.332466</td>\n",
       "      <td>0.910919</td>\n",
       "      <td>-0.140499</td>\n",
       "      <td>-0.145921</td>\n",
       "      <td>0.754266</td>\n",
       "      <td>1.467025</td>\n",
       "      <td>-0.975835</td>\n",
       "      <td>-0.037692</td>\n",
       "      <td>0.041408</td>\n",
       "      <td>0.014781</td>\n",
       "      <td>...</td>\n",
       "      <td>-1.962062</td>\n",
       "      <td>-1.628818</td>\n",
       "      <td>-0.529797</td>\n",
       "      <td>-0.795717</td>\n",
       "      <td>-0.686563</td>\n",
       "      <td>65</td>\n",
       "      <td>0.036034</td>\n",
       "      <td>0</td>\n",
       "      <td>1</td>\n",
       "      <td>1</td>\n",
       "    </tr>\n",
       "    <tr>\n",
       "      <th>3</th>\n",
       "      <td>-0.504016</td>\n",
       "      <td>-1.143588</td>\n",
       "      <td>-0.157091</td>\n",
       "      <td>-1.244918</td>\n",
       "      <td>-2.690703</td>\n",
       "      <td>1.769546</td>\n",
       "      <td>-0.999807</td>\n",
       "      <td>-0.077874</td>\n",
       "      <td>-0.925741</td>\n",
       "      <td>0.968286</td>\n",
       "      <td>...</td>\n",
       "      <td>0.709577</td>\n",
       "      <td>0.008303</td>\n",
       "      <td>0.394584</td>\n",
       "      <td>1.825892</td>\n",
       "      <td>-0.195937</td>\n",
       "      <td>71</td>\n",
       "      <td>0.945261</td>\n",
       "      <td>1</td>\n",
       "      <td>1</td>\n",
       "      <td>1</td>\n",
       "    </tr>\n",
       "    <tr>\n",
       "      <th>4</th>\n",
       "      <td>0.423454</td>\n",
       "      <td>0.772922</td>\n",
       "      <td>1.157203</td>\n",
       "      <td>2.399593</td>\n",
       "      <td>0.416823</td>\n",
       "      <td>0.023914</td>\n",
       "      <td>2.028943</td>\n",
       "      <td>-0.182201</td>\n",
       "      <td>-0.560607</td>\n",
       "      <td>0.112476</td>\n",
       "      <td>...</td>\n",
       "      <td>1.381980</td>\n",
       "      <td>-0.668845</td>\n",
       "      <td>-0.253458</td>\n",
       "      <td>-2.737713</td>\n",
       "      <td>0.412207</td>\n",
       "      <td>58</td>\n",
       "      <td>0.000000</td>\n",
       "      <td>1</td>\n",
       "      <td>2</td>\n",
       "      <td>1</td>\n",
       "    </tr>\n",
       "  </tbody>\n",
       "</table>\n",
       "<p>5 rows × 1005 columns</p>\n",
       "</div>"
      ],
      "text/plain": [
       "    A_gene1   A_gene2   A_gene3   A_gene4   A_gene5   A_gene6   A_gene7  \\\n",
       "0 -0.111782  0.096894  1.798425 -0.093378 -0.197196 -1.260852 -1.064165   \n",
       "1 -0.492161 -1.072408 -0.860142 -0.398714 -2.343186 -1.838545 -0.519876   \n",
       "2  1.332466  0.910919 -0.140499 -0.145921  0.754266  1.467025 -0.975835   \n",
       "3 -0.504016 -1.143588 -0.157091 -1.244918 -2.690703  1.769546 -0.999807   \n",
       "4  0.423454  0.772922  1.157203  2.399593  0.416823  0.023914  2.028943   \n",
       "\n",
       "    A_gene8   A_gene9  A_gene10  ...  Noise_gene396  Noise_gene397  \\\n",
       "0  0.076846 -0.999928  0.111733  ...       0.389066      -0.743105   \n",
       "1 -0.704514 -1.864341 -0.981870  ...      -0.495361      -1.089365   \n",
       "2 -0.037692  0.041408  0.014781  ...      -1.962062      -1.628818   \n",
       "3 -0.077874 -0.925741  0.968286  ...       0.709577       0.008303   \n",
       "4 -0.182201 -0.560607  0.112476  ...       1.381980      -0.668845   \n",
       "\n",
       "   Noise_gene398  Noise_gene399  Noise_gene400  edad       rin  sexo  lote  \\\n",
       "0       0.394847       0.513076       0.379261    64  0.000000     0     3   \n",
       "1      -1.364647       0.727354      -2.073535    59  0.000000     0     0   \n",
       "2      -0.529797      -0.795717      -0.686563    65  0.036034     0     1   \n",
       "3       0.394584       1.825892      -0.195937    71  0.945261     1     1   \n",
       "4      -0.253458      -2.737713       0.412207    58  0.000000     1     2   \n",
       "\n",
       "   Alzheimer  \n",
       "0          1  \n",
       "1          0  \n",
       "2          1  \n",
       "3          1  \n",
       "4          1  \n",
       "\n",
       "[5 rows x 1005 columns]"
      ]
     },
     "execution_count": 8,
     "metadata": {},
     "output_type": "execute_result"
    }
   ],
   "source": [
    "# Crear nombres de genes numerados por grupo\n",
    "gene_name = []\n",
    "\n",
    "# Grupo A\n",
    "for i in range(1, 101):\n",
    "    gene_name.append(f'A_gene{i}')\n",
    "\n",
    "# Grupo B\n",
    "for i in range(1, 201):\n",
    "    gene_name.append(f'B_gene{i}')\n",
    "\n",
    "# Grupo D\n",
    "for i in range(1, 301):\n",
    "    gene_name.append(f'D_gene{i}')\n",
    "\n",
    "# Grupo Ruido\n",
    "for i in range(1, 401):\n",
    "    gene_name.append(f'Noise_gene{i}')\n",
    "\n",
    "df_genes= pd.DataFrame(\n",
    "    M_raw, \n",
    "    columns= gene_name\n",
    ")\n",
    "\n",
    "df_Y= pd.DataFrame({'Alzheimer': Y})\n",
    "\n",
    "df_final= pd.concat([df_genes,df_c, df_Y], axis=1)\n",
    "df_final.head()"
   ]
  },
  {
   "cell_type": "markdown",
   "id": "e75b8495",
   "metadata": {},
   "source": [
    "### Comprobaciones\n",
    "\n",
    "Ahora que se ha creado el Dataframe final, voy a hacer una serie de comprobaciones para observar los valores de correlación entre las variables y los genes. Voy a comprobar la correlación de:\n",
    "\n",
    "- `Edad` con los genes del grupo A, que debería estar alrededor de 0.4.\n",
    "- `Sexo` con los genes del grupo B, también alrededor de 0.4. \n",
    "- `Edad` con Y (alrededor de 0.3)\n",
    "- `Sexo` con Y (alrededor de 0.1)\n",
    "- Genes del grupo A con Y (alrededor de 0.2)\n",
    "- Genes del grupo B con Y (alrededor de 0.5)"
   ]
  },
  {
   "cell_type": "code",
   "execution_count": 9,
   "id": "8b27fd8f",
   "metadata": {},
   "outputs": [
    {
     "name": "stdout",
     "output_type": "stream",
     "text": [
      "Media correlación edad - genes A: 0.328\n",
      "Media correlación sexo - genes B: 0.362\n",
      "Correlación edad - Alzheimer: 0.513\n",
      "Correlación sexo - Alzheimer: 0.473\n",
      "Media correlación genes A - Alzheimer: 0.275\n",
      "Media correlación genes B - Alzheimer: 0.339\n",
      "Media correlación edad - genes B: 0.001\n",
      "Media correlación sexo - genes A: 0.004\n",
      "Media correlación edad - genes D: 0.003\n",
      "Media correlación sexo - genes D: 0.002\n"
     ]
    }
   ],
   "source": [
    "# Calculo todas las correlaciones entre los genes y la variable de interés\n",
    "# Edad genes A\n",
    "correlaciones_edad_genesA = [np.corrcoef(df_final['edad'], df_final[f'A_gene{i}'])[0,1] for i in range(1, 101)]\n",
    "# Sexo genes B\n",
    "correlaciones_sexo_genesB = [np.corrcoef(df_final['sexo'], df_final[f'B_gene{i}'])[0,1] for i in range(1, 201)]\n",
    "# Edad - Y\n",
    "corr_edad_y= np.corrcoef(df_final['edad'], df_final['Alzheimer'])[0,1]\n",
    "# Sexo - Y\n",
    "corr_sexo_y= np.corrcoef(df_final['sexo'], df_final['Alzheimer'])[0,1]\n",
    "# Grupo A - Y\n",
    "corr_genesA_y= [np.corrcoef(df_final[f'A_gene{i}'], df_final['Alzheimer'])[0,1] for i in range(1, 101)]\n",
    "# Grupo B - Y\n",
    "corr_genesB_y= [np.corrcoef(df_final[f'B_gene{i}'], df_final['Alzheimer'])[0,1] for i in range(1, 201)]\n",
    "# Correlación entre Edad y Genes B\n",
    "correlaciones_edad_genesB = [np.corrcoef(df_final['edad'], df_final[f'B_gene{i}'])[0,1] for i in range(1, 201)]\n",
    "# Correlación entre Sexo y Genes A\n",
    "correlaciones_sexo_genesA = [np.corrcoef(df_final['sexo'], df_final[f'A_gene{i}'])[0,1] for i in range(1, 101)]\n",
    "# Correlación entre Edad y Genes D\n",
    "correlaciones_edad_genes_D = [np.corrcoef(df_final['edad'], df_final[f'D_gene{i}'])[0,1] for i in range(1,301)]\n",
    "# Correlación entre Sexo y Genes D\n",
    "correlaciones_sexo_genes_D = [np.corrcoef(df_final['sexo'], df_final[f'D_gene{i}'])[0,1] for i in range(1,301)]\n",
    "\n",
    "\n",
    "#Imprimo los resultados\n",
    "print(f\"Media correlación edad - genes A: {np.mean(correlaciones_edad_genesA):.3f}\")\n",
    "print(f\"Media correlación sexo - genes B: {np.mean(correlaciones_sexo_genesB):.3f}\")\n",
    "print(f\"Correlación edad - Alzheimer: {corr_edad_y:.3f}\")\n",
    "print(f\"Correlación sexo - Alzheimer: {corr_sexo_y:.3f}\")\n",
    "print(f\"Media correlación genes A - Alzheimer: {np.mean(corr_genesA_y):.3f}\")\n",
    "print(f\"Media correlación genes B - Alzheimer: {np.mean(corr_genesB_y):.3f}\")\n",
    "print(f\"Media correlación edad - genes B: {np.mean(correlaciones_edad_genesB):.3f}\")\n",
    "print(f\"Media correlación sexo - genes A: {np.mean(correlaciones_sexo_genesA):.3f}\")\n",
    "print(f\"Media correlación edad - genes D: {np.mean(correlaciones_edad_genes_D):.3f}\")\n",
    "print(f\"Media correlación sexo - genes D: {np.mean(correlaciones_sexo_genes_D):.3f}\")"
   ]
  },
  {
   "cell_type": "markdown",
   "id": "adb82f8f",
   "metadata": {},
   "source": [
    "Ahora genero un `BoxPlot` para ver si efectivamente, las correlaciones de `edad` con los genes A están en el rango esperado, y lo mismo para `sexo` con los genes B."
   ]
  },
  {
   "cell_type": "code",
   "execution_count": 10,
   "id": "45686f3a",
   "metadata": {},
   "outputs": [
    {
     "name": "stderr",
     "output_type": "stream",
     "text": [
      "/tmp/ipykernel_6748/4112491699.py:33: FutureWarning: \n",
      "\n",
      "Passing `palette` without assigning `hue` is deprecated and will be removed in v0.14.0. Assign the `x` variable to `hue` and set `legend=False` for the same effect.\n",
      "\n",
      "  sns.boxplot(x='grupo', y='correlacion', data=df_corr_total, palette='Set2')\n"
     ]
    },
    {
     "data": {
      "image/png": "[encoded data removed]",
      "text/plain": [
       "<Figure size 1000x600 with 1 Axes>"
      ]
     },
     "metadata": {},
     "output_type": "display_data"
    }
   ],
   "source": [
    "\n",
    "df_corr_edad_genesA= pd.DataFrame({\n",
    "    'correlacion': correlaciones_edad_genesA,\n",
    "    'grupo': 'Edad-genesA'\n",
    "})\n",
    "\n",
    "df_corr_sexo_genesB= pd.DataFrame({\n",
    "    'correlacion': correlaciones_sexo_genesB,\n",
    "    'grupo': 'Sexo-genesB'\n",
    "})\n",
    "\n",
    "df_corr_edad_genesB= pd.DataFrame({\n",
    "    'correlacion': correlaciones_edad_genesB,\n",
    "    'grupo': 'Edad-genesB'\n",
    "})\n",
    "\n",
    "df_corr_sexo_genesA = pd.DataFrame({\n",
    "    'correlacion': correlaciones_sexo_genesA,\n",
    "    'grupo': 'Sexo-genesA'\n",
    "})\n",
    "\n",
    "df_corr_edad_genesD = pd.DataFrame({\n",
    "    'correlacion': correlaciones_edad_genes_D,\n",
    "    'grupo': 'Edad-genesD'\n",
    "})\n",
    "\n",
    "df_corr_sexo_genesD = pd.DataFrame({\n",
    "    'correlacion': correlaciones_sexo_genes_D,\n",
    "    'grupo': 'Sexo-genesD'\n",
    "})\n",
    "df_corr_total= pd.concat([df_corr_edad_genesA, df_corr_sexo_genesB, df_corr_edad_genesB, df_corr_sexo_genesA, df_corr_edad_genesD, df_corr_sexo_genesD], axis=0)\n",
    "\n",
    "plt.figure(figsize=(10, 6))\n",
    "sns.boxplot(x='grupo', y='correlacion', data=df_corr_total, palette='Set2')\n",
    "plt.title('Correlaciones entre genes y variables de interés')\n",
    "plt.xlabel('Grupo')\n",
    "plt.ylabel('Correlación')\n",
    "plt.xticks(rotation=45)\n",
    "plt.grid(True)\n",
    "plt.show()"
   ]
  },
  {
   "cell_type": "markdown",
   "id": "32468c90",
   "metadata": {},
   "source": [
    "El gráfico anterior representa la distribución de las correlaciones entre:\n",
    "- `Edad` y los genes del `grupo A`\n",
    "- `Sexo` y los genes del `grupo B`\n",
    "- `Edad` y los genes del `grupo B`\n",
    "- `Sexo` y los genes del `grupo A`\n",
    "- `Edad` y los genes del `Grupo D`\n",
    "- `Sexo` y los genes del `Grupo D`\n",
    "\n",
    "Cada punto en la distribución representa la correlación de un único gen con la variable clínica correspondiente\n",
    "\n",
    "Los resultados muestran:\n",
    "-**Edad-Genes A**: Las correlaciones se agrupan en torno a valores entre 0.3 y 0.35, con una media cercana al 0.33. Esto confirma que los genes del `grupo A` están moderadamente correlacionados con la edad, como se había definido en el modelo teórico. La ligera desviación se debe al efecto combinado de la estandarización y la inyección de ruido.\n",
    "\n",
    "-**Sexo-Genes B**: Las correlaciones con sexo están agrupadas alrededor de 0.36, con una variabilidad algo mayor que en el `grupo A`. Esto es consistente con lo definido (correlación de 0.4). La distribución está sesgada hacia valores más altos, lo cuál también es esperable debido a como se combinan la codificación binaria de sexo y la normalización posterior.\n",
    "\n",
    "-**Edad-GenesB, Sexo-GenesA, Edad-GenesD, Sexo-GenesD**: Presenta valores centrados cerca de 0 como era de esperar, ya que no se inntrodujo relación directa en el simulador. Aun así el valor no es exactamente cero, esto se puede deber a varios factores:\n",
    "\n",
    "- **Variabilidad muestral**: Aunque la correlación sea 0, al generar una **muestra finita**, los valores obtenidos no será exactamente nulos. Es completamente normal que algunas correlaciones aparezcan como **ligeramente positivas o negativas** simplemente por azar estadístico.\n",
    "\n",
    "- **Presencia de ruido aleatorio**: La variables de expresión génica incluyen **ruido gaussiano**,  y eso puede inducir pequeñas fluctuaciones en la correlaicón con variables con las que no deberían tener relación.\n",
    "\n",
    "El gráfico demuestra que la inyección de correlación entre **edad-grupo A** y **sexo-grupo B** ha sido exitosa. Las correlaciones medias se alinean con lo definido en el diseño del experimento, y hay una coherencia estructural en ambos grupos. También se muestra como los demás grupos, a los que no se les ha añadido correlaciones entre ellos, efectivamente no muestran ningún grado de correlación, como es lógico, y refuerza aún más el correcto diseño del experimento."
   ]
  },
  {
   "cell_type": "markdown",
   "id": "82091cb1",
   "metadata": {},
   "source": [
    "### Correlaciones internas por grupo de genes\n",
    "\n",
    "En esta sección analizamos **la correlación interna entre los genes dentro de cada grupo (A,B y D)**. Como se definió en la simulación, cada grupo de genes fue generado con un **rango específico de correlación**:\n",
    "\n",
    "-**Grupo A**: Correlación interna de 0.3-0.6\n",
    "\n",
    "-**Grupo B**: Correlación interna de 0.2-0.4\n",
    "\n",
    "-**Grupo D**: Correlación interna entre 0.2 y 0.3\n",
    "\n",
    "Para verificar que estas condiciones se han cumplido en los datos simulados, calculamos las correlaciones entre todos los pares posibles dentro de cada grupo y visualizamos su distribución mediante boxplots."
   ]
  },
  {
   "cell_type": "code",
   "execution_count": 11,
   "id": "6ef4c9e3",
   "metadata": {},
   "outputs": [
    {
     "name": "stderr",
     "output_type": "stream",
     "text": [
      "/tmp/ipykernel_6748/1437827094.py:26: FutureWarning: \n",
      "\n",
      "Passing `palette` without assigning `hue` is deprecated and will be removed in v0.14.0. Assign the `x` variable to `hue` and set `legend=False` for the same effect.\n",
      "\n",
      "  sns.boxplot(data=df_corrs, x='Grupo', y='Correlación', palette='Set2')\n"
     ]
    },
    {
     "data": {
      "image/png": "[encoded data removed]",
      "text/plain": [
       "<Figure size 1000x600 with 1 Axes>"
      ]
     },
     "metadata": {},
     "output_type": "display_data"
    }
   ],
   "source": [
    "# Selecciona los genes por grupo\n",
    "genes_A = [f'A_gene{i}' for i in range(1, 101)]\n",
    "genes_B = [f'B_gene{i}' for i in range(1, 201)]\n",
    "genes_D = [f'D_gene{i}' for i in range(1, 301)]\n",
    "\n",
    "# Función para calcular correlaciones internas de un grupo\n",
    "def obtener_correlaciones_internas(df, lista_genes):\n",
    "    matriz_corr = df[lista_genes].corr().values\n",
    "    # Extraer solo la parte superior del triángulo sin la diagonal\n",
    "    corr_vals = matriz_corr[np.triu_indices_from(matriz_corr, k=1)]\n",
    "    return corr_vals\n",
    "\n",
    "# Calcular correlaciones para cada grupo\n",
    "corr_A = obtener_correlaciones_internas(df_final, genes_A)\n",
    "corr_B = obtener_correlaciones_internas(df_final, genes_B)\n",
    "corr_D = obtener_correlaciones_internas(df_final, genes_D)\n",
    "\n",
    "# Crear DataFrame para el boxplot\n",
    "df_corrs = pd.DataFrame({\n",
    "    'Correlación': np.concatenate([corr_A, corr_B, corr_D]),\n",
    "    'Grupo': (['Grupo A'] * len(corr_A)) + (['Grupo B'] * len(corr_B)) + (['Grupo D'] * len(corr_D))\n",
    "})\n",
    "\n",
    "# Visualización\n",
    "plt.figure(figsize=(10, 6))\n",
    "sns.boxplot(data=df_corrs, x='Grupo', y='Correlación', palette='Set2')\n",
    "plt.title(\"Correlaciones internas por grupo de genes\")\n",
    "plt.grid(True)\n",
    "plt.xlabel(\"Grupo de genes\")\n",
    "plt.ylabel(\"Correlación\")\n",
    "plt.show()"
   ]
  },
  {
   "cell_type": "markdown",
   "id": "a4ffe66a",
   "metadata": {},
   "source": [
    "Los resultados de los BoxPlots confirman:\n",
    "\n",
    "**Grupo A**\n",
    "- La media de las correlaciones entorno 0.42-0.43\n",
    "- Rango amplio, pero dentro del intervalo esperado [0.3,0.6]\n",
    "    \n",
    "**Grupo B**\n",
    "- Correlaciones medias más bajas que en el grupo `A`(sobre el 0.36), como era de esperar ya que su rango de correlación es menor.\n",
    "\n",
    "- Coherente con el rango simulado [0.2, 0.4], aunque hay valores que alcanzan valores mayores, entorno a 0.45, se considera que son outliers.\n",
    "\n",
    "**Grupo D**\n",
    "\n",
    "- Muestra correlaciones internas más bajas, media entorno a 0.25. Hay valores que se salen algo fuera de rango [0.2,0.3], pero al no salirse mucho no es preocupante\n",
    "    \n",
    "- Su estructura es más débil, como se definió en la simulación\n",
    "\n",
    "El gráfico valida que la simulación de la estructura de las correlaciones internas por grupo se ha realizado correctamente. Cada grupo refleja las características que definimos en la matriz de correlación inicial **Sigma**. El resultado es coherente con el diseño experimental y respalda la calidad de los datos generados.\n",
    "\n"
   ]
  },
  {
   "cell_type": "markdown",
   "id": "423fddf7",
   "metadata": {},
   "source": [
    "### Análisis de multicolinealidad mediante VIF\n",
    "\n",
    "En problemas de predicción multivariables es importante verificar que los predictores no estén excesivamente correlacionados entre sí.\n",
    "\n",
    "Cuando existe una fuerte correelación entre variables independientes, se produce **multicolinealidad**, lo que puede distorsionar las estimaciones de los coeficientes de un modelo y afectar negativamente a su interpretación y su rendimiento.\n",
    "\n",
    "Para cuatificar este fenómeno, se utiliza el **Variance Inflation Factor (VIF)**, que mide cuánto se infla la varianza estimada de un coeficiente debido a la colinealidad con otras variables.\n",
    "\n",
    "El **VIF** se define como:\n",
    "$$\n",
    "VIF_i = \\frac{1}{1 - R_i^2}\n",
    "$$\n",
    "\n",
    "donde $R_i^2$ es el coeficiente de determinación de la variable $i$ contra todas las demás.\n",
    "\n",
    "**Interpretación estándar del VIF:**\n",
    "\n",
    "- **VIF ≈ 1**: No hay colinealidad.\n",
    "- **VIF entre 1 y 5**: Colinealidad moderada (generalmente aceptable).\n",
    "- **VIF > 5**: Colinealidad significativa (puede ser problemática).\n",
    "- **VIF > 10**: Colinealidad severa (sugiere considerar eliminar o transformar variables).\n",
    "\n",
    "En este análisis, voy a calcular **VIF** para las variable clínicas y los genes más relevantes con el fin de evaluar si existe un nivel preocupante de colinealidad en los datos"
   ]
  },
  {
   "cell_type": "code",
   "execution_count": 12,
   "id": "91b6f747",
   "metadata": {},
   "outputs": [
    {
     "name": "stderr",
     "output_type": "stream",
     "text": [
      "/tmp/ipykernel_6748/2844600482.py:35: FutureWarning: \n",
      "\n",
      "Passing `palette` without assigning `hue` is deprecated and will be removed in v0.14.0. Assign the `x` variable to `hue` and set `legend=False` for the same effect.\n",
      "\n",
      "  sns.boxplot(x='Grupo', y='VIF', data=vif_data, palette='Set2')\n"
     ]
    },
    {
     "data": {
      "image/png": "[encoded data removed]",
      "text/plain": [
       "<Figure size 1200x600 with 1 Axes>"
      ]
     },
     "metadata": {},
     "output_type": "display_data"
    }
   ],
   "source": [
    "\n",
    "#Selección de variables\n",
    "genes_A= [f'A_gene{i}' for i in range(1, 101)]\n",
    "genes_B= [f'B_gene{i}' for i in range(1, 201)]\n",
    "genes_D= [f'D_gene{i}' for i in range(1, 301)]\n",
    "genes_ruido= [f'Noise_gene{i}' for i in range(1, 401)]\n",
    "variables_clinicas= ['edad', 'sexo', 'rin', 'lote']\n",
    "\n",
    "variables_vif= genes_A + genes_B + genes_D + genes_ruido + variables_clinicas\n",
    "variables_para_vif= df_final[variables_vif]\n",
    "\n",
    "#Estandaarizar\n",
    "X_scaled= StandardScaler().fit_transform(variables_para_vif)\n",
    "\n",
    "#Calcular VIF\n",
    "vif_data= pd.DataFrame()\n",
    "vif_data[\"Variable\"]= variables_para_vif.columns\n",
    "vif_data[\"VIF\"]= [variance_inflation_factor(X_scaled, i) for i in range(X_scaled.shape[1])]\n",
    "\n",
    "#Clasifico las variables en grupo\n",
    "def clasificar_variable(nombre):\n",
    "    if nombre in ['edad', 'sexo', 'rin', 'lote']:\n",
    "        return 'Clinicas (C)'\n",
    "    elif nombre.startswith('A_gene') and 1 <= int(nombre.replace('A_gene', '')) <= 100:\n",
    "        return 'Grupo A'\n",
    "    elif nombre.startswith('B_gene') and 1 <= int(nombre.replace('B_gene', '')) <= 200:\n",
    "        return 'Grupo B'\n",
    "    elif nombre.startswith('D_gene') and 1 <= int(nombre.replace('D_gene', '')) <= 300:\n",
    "        return 'Grupo D'\n",
    "    else:\n",
    "        return 'Ruido'\n",
    "vif_data['Grupo']= vif_data['Variable'].apply(clasificar_variable)\n",
    "\n",
    "#Visualizo todo en un Boxplot\n",
    "plt.figure(figsize=(12, 6))\n",
    "sns.boxplot(x='Grupo', y='VIF', data=vif_data, palette='Set2')\n",
    "plt.title('VIF por grupo de variables')\n",
    "plt.xlabel('Grupo de variables')\n",
    "plt.ylabel('VIF')\n",
    "plt.xticks(rotation=45)\n",
    "plt.grid(True)\n",
    "plt.yscale('log')\n",
    "plt.show()"
   ]
  },
  {
   "cell_type": "markdown",
   "id": "9645b5e0",
   "metadata": {},
   "source": [
    "Los resultados obtenidos indican:\n",
    "- **Grupo A**:\n",
    "    \n",
    "    - El **VIF** es moderadamente alto\n",
    "\n",
    "    - Esto es coherente con lo esperado, estos genes tienen correlación interna y además colinealidad con la variable edad, lo que como es lógico aumenta el **VIF**\n",
    "    \n",
    "    - La dispersión del **VIF** también refleja que no todos los genes del **grupo A** están igualmente correlacionados con la edad o entre ellos\n",
    "- **Grupo B**\n",
    "\n",
    "    - Se observa un patrón muy similar al de `A`, con valores de **VIF** también elevados.\n",
    "\n",
    "    - Al igual que en `A`, la colinealdiad proviene de la influencia común de una variable de **C (Sexo)** y de las correlaciones internas dentro del grupo\n",
    "\n",
    "    - La ligera mayor dispersión sugiere que algunos genes podrían estar más influenciados que otros\n",
    "- **Grupo D**\n",
    "\n",
    "    - Este grupo muestra un **VIF más alto que en A y B** en muchos casos\n",
    "\n",
    "    - Esto se explica porque toda la colinealidad de `D` es puramente interna, entre genes, sin estar explicada por una variable de `C`.\n",
    "\n",
    "    - Por tanto, `D` presenta multicolinealidad fuerte sin confusión con covariables clínicas.\n",
    "\n",
    "- **Ruido**\n",
    "    \n",
    "    - Este grupo muestra **VIF muy bajo**, centrado en torno a 1, como cabría esperar.\n",
    "\n",
    "    - La ausencia de correlación interna ni con `C` asegura que no haya multicolinealidad significativa\n",
    "\n",
    "    - Sirve como grupo de control\n",
    "\n",
    "- **Variable clínicas C (edad, sexo, lote, RIN)**\n",
    "\n",
    "    - El **VIF también es bajo**, lo que indica que las variable clínicas no están altamente correlacionadas entre sí.\n",
    "    \n",
    "    - Esto es deseable, ya que no queremos que represente factores independientes en el modelo casual\n",
    "\n",
    "Este análisis de **VIF** cumple perfectamente con las condiciones impuestas durante la simulación:\n",
    "\n",
    "- Los grupos `A` y `B` presentan colinealidad por su dependencia con variable clínicas `C`\n",
    "\n",
    "- El grupo `D` presenta colinealidad interna no explicada por `C`\n",
    "\n",
    "- El grupo de `ruido` está bien definido, sin correlación\n",
    "\n",
    "- Las variables clíncias `C` están correctamente simuladas como variable independientes.\n",
    "\n",
    "Esto valida que la estructura **C → M’ → Y** se ha simulado correctamente\n",
    "\n",
    "\n",
    "\n"
   ]
  },
  {
   "cell_type": "markdown",
   "id": "743e43a6",
   "metadata": {},
   "source": [
    "### Análisis sobre la Variable Y\n",
    "\n",
    "En esta sección vamos a **explorar en profundidad la variable objetivo Y**, que representa la presencia o ausencia de enfermedad de Alzheimer, para entender mejor **cómo se relaciona con las variables clínicas (`C`) y con los genes simulados (`M`). Este análisis es importante por varias razones:\n",
    "\n",
    "-**Detectar relaciones espurias o sesgos**: Como `Y` ha sido definida parcialmente en función de algunas variables clínicas (`edad` y `sexo`) y de algunos subconjuntos de genes (`A`,`B`), es fundamental comprobar si estas relaciones se reflejan correctamente en los datos simulados. Además, queremos asegurarnos de que otras variables como (`rin` o `lote`) no estén introduciendo señales falsas.\n",
    "\n",
    "-**Visualizar patrones**: Las comparaciones gráficas permiten identificar si los valores de variables como `edad`, `sexo` o ciertos grupos de genes se distribuyen de forma diferente entre individuos sanos y enfermos.\n",
    "\n",
    "-**Confirmar las relaciones definidas en el simulador**: Por diseño:\n",
    "- **Edad** está correlacionada con `Y` (0.3)\n",
    "- **Sexo** también correlacionada con `Y` (0.1)\n",
    "- Los genes del grupo `A` están influenciados por `edad` y correlacionados con `Y` (0.2)\n",
    "- Los genes del grupo `B` están influenciados por `sexo` y correlacionados con `Y` (0.5)\n",
    "- Los grupos `D` y `Ruido` no deberían estar relacionados con `Y`.\n",
    "\n",
    "#### Objetivos del análisis\n",
    "\n",
    "-Examinar la asociación entre `sexo` e `Y` mediante una **tabla de contingencia** y un **test-chi-cuadrado**\n",
    "\n",
    "-Visualizar la distribución de variables numéricas (`edad`, `rin`) según el valor de `Y` con **boxplots**\n",
    "\n",
    "-Comprobar si los patrones de expresión génica difieren entre clases (`Y = 0` vs `Y = 1`) en cada grupo de genes (`A`, `B` y `D`) usando **gráficos de caja agrupados**.\n"
   ]
  },
  {
   "cell_type": "markdown",
   "id": "849461a0",
   "metadata": {},
   "source": [
    "#### Matriz de Contingencia y Test Chi-cuadrado\n",
    "\n",
    "Este primer análisis consiste en generar una **tabla de contingencia** que muestre cuántos individuos sanos y enfermos hay en cada categoría de `sexo`. Este tipo de tablas nos permite observar patrones como si hay más prevalencia de enfermedad en un sexo u otro\n",
    "\n",
    "Posteriormente, aplicamos un **test chi-cuadrado de independencia** para evaluar si existe asociación estadística significativa entre las variables `sexo` y `alzheimer`. Este test es especialmente útil cuando ambas variables son categóricas y nos permite validad si la diferencia observada es atribuible al azar o a una relación real en los datos. \n",
    "\n",
    "Este paso es importante porque, aunque se inyectó una correlación moderada (`r = 0.1`) entre `sexo` y `Y`, necesitamos verificar si esta señal es lo suficientemente fuerte como para detectarse estadísticamente y si puede actuar como variable confusora."
   ]
  },
  {
   "cell_type": "code",
   "execution_count": 13,
   "id": "cc086433",
   "metadata": {},
   "outputs": [
    {
     "name": "stdout",
     "output_type": "stream",
     "text": [
      "\n",
      "Chi² = 893.114, p-value = 0.0000, grados de libertad = 1\n",
      "Frecuencias esperadas: \n",
      " Alzheimer       0       1\n",
      "sexo                     \n",
      "0          1010.0  1010.0\n",
      "1           990.0   990.0\n"
     ]
    },
    {
     "data": {
      "image/png": "[encoded data removed]",
      "text/plain": [
       "<Figure size 640x480 with 2 Axes>"
      ]
     },
     "metadata": {},
     "output_type": "display_data"
    }
   ],
   "source": [
    "\n",
    "#Tabla de contingencia\n",
    "contingencia = pd.crosstab(df_final['sexo'], df_final['Alzheimer'])\n",
    "\n",
    "#Test chi-cuadrado\n",
    "chi2, p, dof, expected = stats.chi2_contingency(contingencia)\n",
    "print(f\"\\nChi² = {chi2:.3f}, p-value = {p:.4f}, grados de libertad = {dof}\")\n",
    "print(\"Frecuencias esperadas: \\n\", pd.DataFrame(expected, index=contingencia.index, columns=contingencia.columns))\n",
    "\n",
    "#Visualización de la tabla de contingencia\n",
    "sns.heatmap(contingencia, annot=True, fmt=\"d\", cmap=\"YlGnBu\")\n",
    "plt.title(\"Tabla de contingenia: Sexo vs Alzheimer\")\n",
    "plt.xlabel(\"Alzheimer\")\n",
    "plt.ylabel(\"Sexo\")\n",
    "plt.show()"
   ]
  },
  {
   "cell_type": "markdown",
   "id": "06b8ddbc",
   "metadata": {},
   "source": [
    "##### Resultados\n",
    "\n",
    "La tabla de conntingencia muestra: \n",
    "\n",
    "| Sexo        | Alzheimer = 0 | Alzheimer = 1 |\n",
    "| ----------- | ------------- | ------------- |\n",
    "| 0 (hombres) | 1,483         | 537           |\n",
    "| 1 (mujeres) | 517           | 1,463         |\n",
    "\n",
    "Esto indica que:\n",
    "\n",
    "- Entre los **hombres** hay más casos **sin** ALzheimer que **con**\n",
    "\n",
    "- Entre las **mujeres** es al revés, hay más casos **con** Alzheimer.\n",
    "\n",
    "Esto ya indica **una asociación entre el sexo y la variable Alzheimer**. Las mujeres están más representadas en el grupo Alzheimer, y los hombres en el grupo control\n",
    "\n",
    "Las frecuencias esperados baja condiciones independientes:\n",
    "\n",
    "| Sexo     | Esperado 0 | Esperado 1 |\n",
    "| ---------- | ---------- | ---------- |\n",
    "| Hombre (0) | 1010       | 1010       |\n",
    "| Mujer (1)  | 990        | 990        |\n",
    "\n",
    "Son las frecuencias que se **esperaría**  ver si **no existiera relación** entre sexo y diagnóstico, pero como se puede observar nuestro resultado difiere bastente de el resultado bajo condiciones independientes.\n",
    "\n",
    "Las resultados del test chi-cuadrado son:\n",
    "- Chi² = 893.114\n",
    "- p-value ≈ 0.0000\n",
    "- Grados de libertadad = 1\n",
    "\n",
    "Este valor tan elevados del estadístico chi-cuadrado y un p-valor prácticamente nulo indican que la **hipótesis nula de independencia entre sexo y Alzheimer se rechaza**. Es decir, **existe una asociación estadísticamente significativa entre el sexo y el diagnóstico simulado de Alzheimer**. \n",
    "\n",
    "Este resultado es **coherente con el diseño simulado**, ya que:\n",
    "\n",
    "- Se definió que la variable Y **tuviera una correlación de 0.1 con sexo**\n",
    "- Aunque esta correlación no es muy fuerte, el tamaño muestra de 4000 sujetos **amplifica su efecto**, haciendo que incluso asociaciones moderadas sean estadísticamente significativas."
   ]
  },
  {
   "cell_type": "markdown",
   "id": "02cd179f",
   "metadata": {},
   "source": [
    "#### Análisis de distribución de variables por grupo de diagnóstico `Y`\n",
    "\n",
    "En esta sección se va a explorar **como varían distintas variables clínicas y grupos de genes** en función del estado de la enfermedad `Y`. Para ello, se van a generar **gráficos de caja** que permiten comparar la **distribución** de una variable continua en función de una variable categórica, que en este caso va a ser `Y`.\n",
    "\n",
    "Para cada una de las siguientes variables vamos a generar un **boxplot agrupado por el valor de `Y`**:\n",
    "\n",
    "- **Edad**: Esperamos a ver diferencias claras, ya que introdujimos una correlación entre edad e `Y` de 0.3\n",
    "\n",
    "- **RIN**: No debería mostrar diferencias, porque no tiene relación causal ni con `M` ni con `Y`.\n",
    "\n",
    "- **Genes del grupo A**: Correlacionados con edad y a su vez relacionados con `Y`, debería haber diferencias.\n",
    "\n",
    "- **Genes del grupo B**: Correlacionados con sexo, y también vinculado a `Y`, también se espera que haya cierta separación.\n",
    "\n",
    "- **Genes del grupo D**: Con correlación interna pero no relacionados con ninguna variable clínica ni con `Y`, por lo que no se debería observar diferencias significativas.\n",
    "\n",
    "La utilidad de este análisis radica en que nos permite **verificar visualmente** si las relaciones causales que se han definido en el simulador se reflejan en los datos generados. Es una forma de **validad la coherencia del dataset simulado** antes de usarlo para otros fines como el entrenamiento de modelos. Además, ayuda a **entender que variables pueden ser informativas** para predecir `Y`, incluso antes de usar métodos de importancia de variables."
   ]
  },
  {
   "cell_type": "code",
   "execution_count": 14,
   "id": "80c247f3",
   "metadata": {},
   "outputs": [
    {
     "data": {
      "image/png": "[encoded data removed]",
      "text/plain": [
       "<Figure size 1200x600 with 1 Axes>"
      ]
     },
     "metadata": {},
     "output_type": "display_data"
    }
   ],
   "source": [
    "\n",
    "# Calcular media por grupo\n",
    "df_final['grupoA'] = df_final[[f\"A_gene{i}\" for i in range(1, 101)]].mean(axis=1)\n",
    "df_final['grupoB'] = df_final[[f\"B_gene{i}\" for i in range(1, 201)]].mean(axis=1)\n",
    "df_final['grupoD'] = df_final[[f\"D_gene{i}\" for i in range(1, 301)]].mean(axis=1)\n",
    "\n",
    "df_plot = df_final[[\"Alzheimer\", \"grupoA\", \"grupoB\", \"grupoD\", \"edad\", \"rin\"]].copy()\n",
    "\n",
    "df_long= df_plot.melt(id_vars=\"Alzheimer\", var_name=\"Variable\", value_name=\"Valor\")\n",
    "df_long[\"Alzheimer\"] = df_long[\"Alzheimer\"].astype(str)\n",
    "\n",
    "plt.figure(figsize=(12, 6))\n",
    "sns.boxplot(\n",
    "    data=df_long, x=\"Variable\", y=\"Valor\", hue=\"Alzheimer\",\n",
    "    palette={\"0\": \"skyblue\", \"1\": \"salmon\"}\n",
    ")\n",
    "plt.yscale(\"symlog\")  \n",
    "plt.title(\"Distribución de variables por clase (Alzheimer: 0 = No, 1 = Sí)\")\n",
    "plt.xlabel(\"Grupo de variables\")\n",
    "plt.ylabel(\"Valor (escala logarítmica)\")\n",
    "plt.xticks(rotation=20)\n",
    "plt.grid(True, which='both', linestyle='--', linewidth=0.5)\n",
    "plt.tight_layout()\n",
    "plt.show()"
   ]
  },
  {
   "cell_type": "markdown",
   "id": "e8892d96",
   "metadata": {},
   "source": [
    "##### Resultados"
   ]
  },
  {
   "cell_type": "markdown",
   "id": "37f48d52",
   "metadata": {},
   "source": [
    "-**GrupoA (Genes A)**\n",
    "\n",
    "- Se observa unna diferencia clara en la distribución media de expresión entre casos y controles\n",
    "\n",
    "- Esto es **coherente** con el diseño de la simulación, ya que los genes A están correlacionados con edad, que a su vez está asociada a `Y` (p = 0.3).\n",
    "\n",
    "- Además, `A` está directamente asociada con `Y` (p = 0.2), por lo que es lógico que se observe mayor o por lo menos diferente expresión en **Alzheimer**\n",
    "\n",
    "-**GrupoB (Genes B)**\n",
    "\n",
    "- También muestra diferencias claras en la expresión de las clases\n",
    "\n",
    "- Tiene sentido porque `B` está muy correlacionado con **sexo**, que tiene una leve relación con `Y`(p = 0.1)\n",
    "\n",
    "- Además, **B tiene una correlación fuerte directa con Y** (p = 0.5)\n",
    "\n",
    "- Esto explica que el grupo B tenga una señal diferenciadora clara\n",
    "\n",
    "-**GrupoD (genes D)**\n",
    "\n",
    "- Aquí como se observa, la diferencia es mucho más tenue o incluso nula.\n",
    "\n",
    "- Como se esperaba, el grupo D **no está correlacionado ni con ninguna variable C ni con Y**, por lo que es normal que no haya una separación clara entre las clases\n",
    "\n",
    "- Su comportamiento actúa como **control negativo** del sistema.\n",
    "\n",
    "-**Edad**\n",
    "\n",
    "- Diferencia clara entre las clases: Los casos postitivos tienen valores de edad visiblemente mayores\n",
    "\n",
    "- Esto es esperado, ya que **edad está correlacionado con Y (p = 0.3)**, además de estar implicada en la generación de los **genesA**\n",
    "\n",
    "-**RIN**\n",
    "\n",
    "- Como se observa `RIN` no muestra diferencias entre los casos postitivos y los casos negativos\n",
    "\n",
    "- Esto es lo esperado, ya que **RIN no influye en la generación de genes ni en la variable objetivo Y**, por lo tanto es normal que no haya diferencias entre casos y controles\n",
    "\n",
    "Por lo tanto, este gráfico en general **valida muy bien** el comportamiento esperado seguń el diseño del simulador. Los grupos diseñados para influir en `Y` **A,B y edad** muestran diferencias claras, mientras que los grupos neutrales como **D y RIN** no muestran diferencias sustanciales. Esto refuerza la idea de que los modelos están **captando las señales verdaderamente informativas**"
   ]
  },
  {
   "cell_type": "markdown",
   "id": "9af353c0",
   "metadata": {},
   "source": [
    "### Conclusión\n",
    "\n",
    "En este notebook se ha desarrollado un generador de datos sintéticos con una estructura casual definida, simulando un contexto biomédico realista donde algunas variables clínicas `C` afectan a subconjuntos de genes `M'`, los cuales a su vez determinan una variable binaria de enfermedad `Y`.\n",
    "\n",
    "Se diseñó cuidadosamente la matriz de expresión génica `M` para incluir grupos de genes con distinta estructura de correlación interna y conexión casual con `C`. También se ha añadido ruido (genes sin relación casual) para reflejar situaciones reales en estudios ómicos.\n",
    "\n",
    "La correcta introducción de las correlaciones fue validada tanto mediante medias de correlación promedio con mediante el cálculo del **Variance Inflation Factor (VIF)**, asegurando que las dependencias estructurales esperadas están presentes en los datos.\n",
    "\n",
    "Los análisis exploratorios realizados sobre el dataset simulado confirma que la variable `Y` mantiene relaciones estructurales coherentes con las variables clíicas y génicas utilizadas para su generación. Por ejemplo, el **boxplots de edad según Y** muestra claras diferencias entre clases, el línea con las correlaciones inyectadas explícitamente en el simulador (edad → genes A, sexo → genes B, edad y sexo → Y).\n",
    "\n",
    "Asimismo, los resultados del **test Chi-cuadrado** aplicado sobre la matriz de contingencia entre `sexo` e `Y` evidencian una asociación estadísitica signifificativa entre ambas variables, como se esperaba por construcción. Por el contrario, variables diseñadas como irrelevantes (`RIN`) no muestran diferencias apreciables entre las clases, lo que refuerza la validez del diseño del simulador y su utilidad como banco de pruebas para identificar efectos casuales frente a asociaciones espurias.\n",
    "\n",
    "Esta combinación de control casual, ruido controlado y verificación empírica convierte al dataset en una **herramienta valiosa para estudiar el impacto de los variables clínicas confusoras en modelos predictivos**, permitiendo evaluar estrategias de ajuste como el uso del parámetro `always.split.variable` o la comparación entre diferentes configuraciones de variables clinicas y ómicas."
   ]
  },
  {
   "cell_type": "code",
   "execution_count": 15,
   "id": "ec404ae9",
   "metadata": {},
   "outputs": [
    {
     "name": "stdout",
     "output_type": "stream",
     "text": [
      "Datos simulados guardados en 'datos_simulados.csv'\n"
     ]
    }
   ],
   "source": [
    "df_final.to_csv('datos_simulados.csv', index=False)\n",
    "print(\"Datos simulados guardados en 'datos_simulados.csv'\")"
   ]
  }
 ],
 "metadata": {
  "kernelspec": {
   "display_name": ".venv",
   "language": "python",
   "name": "python3"
  },
  "language_info": {
   "codemirror_mode": {
    "name": "ipython",
    "version": 3
   },
   "file_extension": ".py",
   "mimetype": "text/x-python",
   "name": "python",
   "nbconvert_exporter": "python",
   "pygments_lexer": "ipython3",
   "version": "3.12.3"
  }
 },
 "nbformat": 4,
 "nbformat_minor": 5
}
